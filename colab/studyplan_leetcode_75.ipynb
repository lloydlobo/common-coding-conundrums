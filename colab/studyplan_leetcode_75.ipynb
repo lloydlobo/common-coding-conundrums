{
  "cells": [
    {
      "cell_type": "markdown",
      "metadata": {
        "id": "view-in-github",
        "colab_type": "text"
      },
      "source": [
        "<a href=\"https://colab.research.google.com/github/lloydlobo/common-coding-conundrums/blob/main/colab/studyplan_leetcode_75.ipynb\" target=\"_parent\"><img src=\"https://colab.research.google.com/assets/colab-badge.svg\" alt=\"Open In Colab\"/></a>"
      ]
    },
    {
      "cell_type": "markdown",
      "metadata": {
        "id": "9vXCxn2f85I2"
      },
      "source": [
        "https://leetcode.com/studyplan/leetcode-75/"
      ]
    },
    {
      "cell_type": "markdown",
      "metadata": {
        "id": "aZyFHy6UQWO0"
      },
      "source": [
        "# Leetcode Patterns"
      ]
    },
    {
      "cell_type": "markdown",
      "metadata": {
        "id": "M83KbeG0QbmG"
      },
      "source": [
        "[Source](https://seanprashad.com/leetcode-patterns/)\n",
        "\n",
        "\"If input array is sorted then\n",
        "- Binary search\n",
        "- Two pointers\n",
        "\n",
        "If asked for all permutations/subsets then\n",
        "- Backtracking\n",
        "\n",
        "If given a tree then\n",
        "- DFS\n",
        "- BFS\n",
        "\n",
        "If given a graph then\n",
        "- DFS\n",
        "- BFS\n",
        "\n",
        "If given a linked list then\n",
        "- Two pointers\n",
        "\n",
        "If recursion is banned then\n",
        "- Stack\n",
        "\n",
        "If must solve in-place then\n",
        "- Swap corresponding values\n",
        "- Store one or more different values in the same pointer\n",
        "\n",
        "If asked for maximum/minimum subarray/subset/options then\n",
        "- Dynamic programming\n",
        "\n",
        "If asked for top/least K items then\n",
        "- Heap\n",
        "- QuickSelect\n",
        "\n",
        "If asked for common strings then\n",
        "- Map\n",
        "- Trie\n",
        "\n",
        "Else\n",
        "- Map/Set for O(1) time & O(n) space\n",
        "- Sort input for O(nlogn) time and O(1) space\""
      ]
    },
    {
      "cell_type": "code",
      "execution_count": null,
      "metadata": {
        "id": "sjvPdtxV_IgM"
      },
      "outputs": [],
      "source": [
        "# run once\n",
        "!pip install black[jupyter] --quiet\n",
        "from google.colab import drive\n",
        "\n",
        "drive.mount(\"/content/drive\")\n",
        "# ...\n",
        "# run many times\n",
        "# !black /content/drive/MyDrive/'Colab Notebooks'/'studyplan-leetcode-75.ipynb'"
      ]
    },
    {
      "cell_type": "code",
      "execution_count": null,
      "metadata": {
        "id": "C1x7e_ZIAeXK"
      },
      "outputs": [],
      "source": [
        "# run many times\n",
        "!black /content/drive/MyDrive/'Colab Notebooks'/'studyplan-leetcode-75.ipynb'"
      ]
    },
    {
      "cell_type": "markdown",
      "metadata": {
        "id": "vEIySkbG19gB"
      },
      "source": [
        "# String / Array"
      ]
    },
    {
      "cell_type": "markdown",
      "metadata": {
        "id": "UJp6B79kFAFy"
      },
      "source": [
        "## [1768. Merge Strings Alternately](https://leetcode.com/problems/merge-strings-alternately/?envType=study-plan-v2&envId=leetcode-75)"
      ]
    },
    {
      "cell_type": "code",
      "execution_count": null,
      "metadata": {
        "colab": {
          "base_uri": "https://localhost:8080/"
        },
        "id": "ywCJ6lS66HwD",
        "outputId": "21a5d4b5-0cff-4e55-a33f-8282a11367a8"
      },
      "outputs": [
        {
          "name": "stdout",
          "output_type": "stream",
          "text": [
            "True\n"
          ]
        }
      ],
      "source": [
        "def merge_alternatively(word1: str, word2: str) -> str:\n",
        "    n_w1, n_w2 = len(word1), len(word2)\n",
        "    n_max = max(n_w1, n_w2)\n",
        "    merged = []\n",
        "\n",
        "    for i in range(n_max):\n",
        "        if i < n_w1:\n",
        "            merged.append(word1[i])\n",
        "        if i < n_w2:\n",
        "            merged.append(word2[i])\n",
        "\n",
        "    return \"\".join(merged)\n",
        "\n",
        "\n",
        "if __name__ == \"__main__\":\n",
        "    testcases = [((\"abc\", \"uvwxyz\"),  \"aubvcwxyz\")]\n",
        "\n",
        "    for i, (test, expect) in enumerate(testcases):\n",
        "        got: str = merge_alternatively(word1=test[0], word2=test[1])\n",
        "        print(f\"{got == expect}\")  # aubvcwxyz."
      ]
    },
    {
      "cell_type": "markdown",
      "metadata": {
        "id": "-xUmMKenEh2k"
      },
      "source": [
        "## [1071. Greatest Common Divisor of Strings](https://leetcode.com/problems/greatest-common-divisor-of-strings/?envType=study-plan-v2&envId=leetcode-75)"
      ]
    },
    {
      "cell_type": "code",
      "execution_count": null,
      "metadata": {
        "id": "jpex0pYkEhTF"
      },
      "outputs": [],
      "source": [
        "def gcd_of_strings(str1: str, str2: str) -> bool:\n",
        "    nstr1, nstr2 = len(str1), len(str2)\n",
        "    shortest = min(nstr1, nstr2)\n",
        "    longest = max(nstr1, nstr2)\n",
        "\n",
        "    numerator, divisor = \"\", \"\"\n",
        "    if nstr1 == shortest:\n",
        "        numerator, divisor = str2, str1\n",
        "    elif nstr2 == shortest:\n",
        "        numerator, divisor = str1, str2\n",
        "\n",
        "    for i in range(longest):\n",
        "        if numerator[i] != divisor[i % shortest]:\n",
        "            return False\n",
        "\n",
        "    return True\n",
        "\n",
        "\n",
        "if __name__ == \"__main__\":\n",
        "    result1 = gcd_of_strings(\"abcabcabc\", \"abc\")\n",
        "    print(f\"{result1}\")  # True.\n",
        "    result2 = gcd_of_strings(\"abababab\", \"abab\")\n",
        "    print(f\"{result2}\")  # True."
      ]
    },
    {
      "cell_type": "markdown",
      "metadata": {
        "id": "uBsphqiTXzvY"
      },
      "source": [
        "## [1431. Kids With the Greatest Number of Candies](https://leetcode.com/problems/kids-with-the-greatest-number-of-candies/?envType=study-plan-v2&envId=leetcode-75)"
      ]
    },
    {
      "cell_type": "code",
      "execution_count": null,
      "metadata": {
        "id": "ZTfjJ0sqJvYn"
      },
      "outputs": [],
      "source": [
        "# @title\n",
        "from typing import List\n",
        "\n",
        "\n",
        "def kids_with_candies(candies: List[int], extra_candies: int) -> List[bool]:\n",
        "    max_candies = max(candies)\n",
        "    # res: List[bool] = []\n",
        "    # for curr in candies:\n",
        "    #  if curr + extra_candies >= max_candies:\n",
        "    #      res.append(True)\n",
        "    #  else:\n",
        "    #      res.append(False)\n",
        "    # return res\n",
        "    return [candy + extra_candies >= max_candies for candy in candies]\n",
        "\n",
        "\n",
        "if __name__ == \"__main__\":\n",
        "    result1 = kids_with_candies(candies=[2, 3, 5, 1, 3], extra_candies=3)\n",
        "    print(f\"{result1}\")  # [True, True, True, False, True]."
      ]
    },
    {
      "cell_type": "markdown",
      "metadata": {
        "id": "5NYhOoM-jyZI"
      },
      "source": [
        "## [605. Can Place Flowers](https://leetcode.com/problems/can-place-flowers/?envType=study-plan-v2&envId=leetcode-75)"
      ]
    },
    {
      "cell_type": "code",
      "execution_count": null,
      "metadata": {
        "id": "NWRVdMVXou6s"
      },
      "outputs": [],
      "source": [
        "from typing import List\n",
        "\n",
        "\n",
        "# flowerbed[i] is 0 or 1.\n",
        "# There are no two adjacent flowers in flowerbed.\n",
        "def can_place_flowers(flowerbed: List[int], n: int) -> bool:\n",
        "    count = 0\n",
        "    n = len(flowerbed)\n",
        "\n",
        "    for i in range(n):\n",
        "        if (\n",
        "            flowerbed[i] == 0\n",
        "            and (i == 0 or flowerbed[i - 1] == 0)\n",
        "            and (i == n - 1 or flowerbed[i + 1] == 0)\n",
        "        ):\n",
        "            count += 1\n",
        "            flowerbed[\n",
        "                i\n",
        "            ] = 1  # Mark the position as occupied to prevent adjacent placements.\n",
        "            if count >= n:\n",
        "                return True\n",
        "\n",
        "    return False\n",
        "\n",
        "\n",
        "if __name__ == \"__main__\":\n",
        "    # Test cases\n",
        "    print(can_place_flowers(flowerbed=[1, 0, 0, 0, 1], n=1))  # True\n",
        "    print(can_place_flowers(flowerbed=[1, 0, 0, 0, 1], n=2))  # False"
      ]
    },
    {
      "cell_type": "markdown",
      "metadata": {
        "id": "6QnSf3RDx17V"
      },
      "source": [
        "## [345. Reverse Vowels of a String](https://leetcode.com/problems/reverse-vowels-of-a-string/?envType=study-plan-v2&envId=leetcode-75)"
      ]
    },
    {
      "cell_type": "code",
      "execution_count": null,
      "metadata": {
        "collapsed": true,
        "id": "Z5BcswLSu_S7"
      },
      "outputs": [],
      "source": [
        "# @title\n",
        "from typing import List, Set\n",
        "\n",
        "\n",
        "# The two-pointer approach is employed to swap vowels in a string by traversing the string from both ends using the start and end pointers. This technique allows for an in-place reversal of the vowels without the need for additional data structures.\n",
        "def reverse_vowels(s: str) -> str:\n",
        "    vowels: Set[str] = set(\"aeiou\")\n",
        "    arr: List[str] = list(s)\n",
        "    start, end = 0, len(arr) - 1\n",
        "\n",
        "    while start < end:\n",
        "        if arr[start] in vowels and arr[end] in vowels:\n",
        "            arr[start], arr[end] = arr[end], arr[start]\n",
        "            start += 1\n",
        "            end -= 1\n",
        "        elif arr[start] in vowels:\n",
        "            end -= 1\n",
        "        else:\n",
        "            start += 1\n",
        "\n",
        "    return \"\".join(arr)\n",
        "\n",
        "\n",
        "if __name__ == \"__main__\":\n",
        "    print(reverse_vowels(\"leetcode\"))  # leotcede."
      ]
    },
    {
      "cell_type": "markdown",
      "metadata": {
        "id": "2qaOHem2tOzn"
      },
      "source": [
        "## [151. Reverse Words in a String](https://leetcode.com/problems/reverse-words-in-a-string/?envType=study-plan-v2&envId=leetcode-75)"
      ]
    },
    {
      "cell_type": "code",
      "execution_count": null,
      "metadata": {
        "id": "K7zkWyRTteDg"
      },
      "outputs": [],
      "source": [
        "from typing import List\n",
        "\n",
        "\n",
        "def reverse_string(s: str) -> str:\n",
        "    arr: List[str] = s.strip().split(\" \")\n",
        "    arr = [x.strip() for x in arr if len(x) > 0]\n",
        "    arr.reverse()\n",
        "    return \" \".join(arr)\n",
        "\n",
        "\n",
        "if __name__ == \"__main__\":\n",
        "    testcases = [\" hello world\", \"the sky is blue\", \"a   good example\"]\n",
        "    for test in testcases:\n",
        "        print(reverse_string(test))  # world hello."
      ]
    },
    {
      "cell_type": "markdown",
      "metadata": {
        "id": "89Isi4VLLi_E"
      },
      "source": [
        "## [238. Product of Array Except Self](https://leetcode.com/problems/product-of-array-except-self/?envType=study-plan-v2&envId=leetcode-75)"
      ]
    },
    {
      "cell_type": "code",
      "execution_count": null,
      "metadata": {
        "id": "7HtMYy9PLlFR"
      },
      "outputs": [],
      "source": [
        "from typing import List\n",
        "\n",
        "\n",
        "# Without using division operator.\n",
        "def product_except_self(arr: List[int]) -> List[int]:\n",
        "    len_arr = len(arr)\n",
        "    cache: List[int] = [1] * len_arr\n",
        "    for i in range(len_arr):\n",
        "        for j in range(len_arr):\n",
        "            if i != j:\n",
        "                cache[i] *= arr[j]\n",
        "\n",
        "    return cache\n",
        "\n",
        "\n",
        "if __name__ == \"__main__\":\n",
        "    testcases = [\n",
        "        [1, 2, 3],\n",
        "        [2, 4, 5],\n",
        "        [-1, 1, 0, -3, 3],\n",
        "    ]  # [6, 3, 2], [20, 10, 8], [0, 0, 9, 0, 0]\n",
        "    for test in testcases:\n",
        "        print(product_except_self(test))"
      ]
    },
    {
      "cell_type": "markdown",
      "metadata": {
        "id": "5yU2U29LlW-c"
      },
      "source": [
        "## [334. Increasing Triplet Subsequence](https://leetcode.com/problems/increasing-triplet-subsequence/?envType=study-plan-v2&envId=leetcode-75)\n",
        "\n"
      ]
    },
    {
      "cell_type": "code",
      "execution_count": null,
      "metadata": {
        "id": "SSoD6zlcSv5G"
      },
      "outputs": [],
      "source": [
        "def increasing_triplet(nums: List[int]) -> bool:\n",
        "    n = len(nums)\n",
        "    for i in range(n - 2):\n",
        "        if nums[i] < nums[i + 1] < nums[i + 2]:\n",
        "            return True\n",
        "\n",
        "    return False\n",
        "\n",
        "\n",
        "if __name__ == \"__main__\":\n",
        "    testcases = [\n",
        "        [1, 2, 3, 4, 5],\n",
        "        [5, 4, 3, 2, 1],\n",
        "        [2, 1, 5, 0, 4, 6],\n",
        "    ]  # True, False, True.\n",
        "    for test in testcases:\n",
        "        print(increasing_triplet(test))"
      ]
    },
    {
      "cell_type": "markdown",
      "metadata": {
        "id": "JNGbwE9C-A7j"
      },
      "source": [
        "## [443. String Compression](https://leetcode.com/problems/string-compression/?envType=study-plan-v2&envId=leetcode-75)"
      ]
    },
    {
      "cell_type": "code",
      "execution_count": null,
      "metadata": {
        "id": "tpuH33OY-Kbe"
      },
      "outputs": [],
      "source": [
        "from typing import List\n",
        "\n",
        "\n",
        "def compress(chars: List[str]) -> int:\n",
        "    n: int = len(chars)\n",
        "    if n == 1:\n",
        "        return 1\n",
        "\n",
        "    compressed: List[str] = []\n",
        "    counter: int = 1\n",
        "\n",
        "    for i in range(n):\n",
        "        if chars[i] == chars[(i + 1) % n]:\n",
        "            counter += 1\n",
        "        else:\n",
        "            compressed.append(chars[i])\n",
        "            if counter != 1:\n",
        "                compressed.extend(list(str(counter)))\n",
        "            counter = 1\n",
        "\n",
        "    result = len(compressed)\n",
        "    chars.clear()\n",
        "    chars.extend(char for char in compressed)\n",
        "    return result\n",
        "\n",
        "\n",
        "if __name__ == \"__main__\":\n",
        "    testcases = [\n",
        "        [\"a\", \"a\", \"b\", \"b\", \"b\", \"c\", \"c\"],\n",
        "        [\"a\"],\n",
        "        [\"a\", \"b\", \"b\"],\n",
        "        [\"a\", \"b\", \"b\", \"b\", \"b\", \"b\", \"b\", \"b\", \"b\", \"b\", \"b\", \"b\", \"b\"],\n",
        "    ]  # 6, 1, 3, 4.\n",
        "    for test in testcases:\n",
        "        print(compress(test), end=\" \")\n",
        "        print(test)"
      ]
    },
    {
      "cell_type": "markdown",
      "metadata": {
        "id": "Ow1dqxx72KVb"
      },
      "source": [
        "# Two Pointers"
      ]
    },
    {
      "cell_type": "markdown",
      "metadata": {
        "id": "6ukJMrEVgDui"
      },
      "source": [
        "## [283. Move Zeroes](https://leetcode.com/problems/move-zeroes/?envType=study-plan-v2&envId=leetcode-75)"
      ]
    },
    {
      "cell_type": "code",
      "execution_count": null,
      "metadata": {
        "id": "a2jmsKHUgSKd"
      },
      "outputs": [],
      "source": [
        "from typing import List\n",
        "\n",
        "\n",
        "# Multiple pop and append operations can be expensive than mutating at index.\n",
        "# Although a deque could be suitable for that.\n",
        "def move_zeroes_expensive(nums: List[int]) -> None:\n",
        "    left, right = 0, len(nums) - 1\n",
        "\n",
        "    while left <= right:\n",
        "        if nums[left] == 0:\n",
        "            nums.pop(left)\n",
        "            nums.append(0)\n",
        "            right -= 1\n",
        "        else:\n",
        "            left += 1\n",
        "\n",
        "        if nums[right] == 0:\n",
        "            nums.pop(right)\n",
        "            nums.append(0)\n",
        "            right -= 1\n",
        "        else:\n",
        "            right -= 1\n",
        "\n",
        "\n",
        "if __name__ == \"__main__\":\n",
        "    testcases = [\n",
        "        [1, 2, 3, 0, 4, 0, 5],\n",
        "        [5, 4, 3, 2, 1],\n",
        "        [2, 1, 5, 0, 4, 6, 0],\n",
        "        [0, 0, 1, 0, 2],\n",
        "        [0],\n",
        "    ]\n",
        "    for test in testcases:\n",
        "        print(move_zeroes_expensive(test), end=\" \")\n",
        "        print(test)"
      ]
    },
    {
      "cell_type": "code",
      "execution_count": null,
      "metadata": {
        "id": "ayb4xALV3lVC"
      },
      "outputs": [],
      "source": [
        "from typing import List\n",
        "\n",
        "\n",
        "def move_zeroes(nums: List[int]) -> None:\n",
        "    n = len(nums)\n",
        "    non_zero_index = 0\n",
        "\n",
        "    for i in range(n):\n",
        "        if nums[i] != 0:\n",
        "            nums[non_zero_index] = nums[i]\n",
        "            non_zero_index += 1\n",
        "\n",
        "    for i in range(non_zero_index, n):\n",
        "        nums[i] = 0\n",
        "\n",
        "\n",
        "if __name__ == \"__main__\":\n",
        "    testcases = [\n",
        "        [1, 2, 3, 0, 4, 0, 5],\n",
        "        [5, 4, 3, 2, 1],\n",
        "        [2, 1, 5, 0, 4, 6, 0],\n",
        "        [0, 0, 1, 0, 2],\n",
        "        [0],\n",
        "    ]\n",
        "    for test in testcases:\n",
        "        print(move_zeroes(test), end=\" \")\n",
        "        print(test)"
      ]
    },
    {
      "cell_type": "markdown",
      "metadata": {
        "id": "2s60EQqD7_ag"
      },
      "source": [
        "## [392. Is Subsequence](https://leetcode.com/problems/is-subsequence/description/?envType=study-plan-v2&envId=leetcode-75)\n",
        "\n"
      ]
    },
    {
      "cell_type": "code",
      "execution_count": null,
      "metadata": {
        "id": "GFMk4NEU8C8N"
      },
      "outputs": [],
      "source": [
        "from pprint import pprint\n",
        "\n",
        "\n",
        "def is_subsequence(s: str, t: str) -> bool:\n",
        "    if s in t or s == \"\":\n",
        "        return True\n",
        "    elif t == \"\":\n",
        "        return False\n",
        "\n",
        "    ns = len(s)\n",
        "    ptr_s = 0\n",
        "    for char in t:\n",
        "        has_reached_end = ptr_s == ns\n",
        "        if has_reached_end:\n",
        "            break\n",
        "\n",
        "        is_match_can_go_right = char == s[ptr_s]\n",
        "        if is_match_can_go_right:\n",
        "            ptr_s += 1\n",
        "\n",
        "    return ptr_s == ns\n",
        "\n",
        "\n",
        "if __name__ == \"__main__\":\n",
        "    testcases = [\n",
        "        (\"abc\", \"ahbgdc\"),  # Expected output: True\n",
        "        (\"axc\", \"ahbgdc\"),  # Expected output: False\n",
        "        (\n",
        "            \"\",\n",
        "            \"ahbgdc\",\n",
        "        ),  # Expected output: True\n",
        "        (\n",
        "            \"abc\",\n",
        "            \"\",\n",
        "        ),  # Expected output: False\n",
        "        (\n",
        "            \"abc\",\n",
        "            \"abc\",\n",
        "        ),  # Expected output: True\n",
        "        (\"abc\", \"abracadabra\"),  # Expected output: True\n",
        "        (\"abc\", \"acb\"),  # Expected output: False\n",
        "        (\"aab\", \"ababab\"),  # Expected output: True\n",
        "        (\n",
        "            \"abcdefg\",\n",
        "            \"a1b2c3d4e5f6g7\",\n",
        "        ),  # Expected output: True\n",
        "        (\"racecar\", \"racecar\"),  # Expected output: True\n",
        "        (\"xyz\", \"xbybz\"),  # Expected output: False\n",
        "        (\"abb\", \"abbbaaabb\"),  # Expected output: True\n",
        "        (\n",
        "            \"abababab\",\n",
        "            \"abababababababab\",\n",
        "        ),  # Expected output: True\n",
        "    ]\n",
        "\n",
        "    for s, t in testcases:\n",
        "        result = is_subsequence(s, t)  # Replace is_subsequence with your function name\n",
        "        print(\"Output:\", result, end=\" \")\n",
        "        print(f\"Input: s = {s}, t = {t}\")"
      ]
    },
    {
      "cell_type": "markdown",
      "metadata": {
        "id": "VEv6CM9Wyb2A"
      },
      "source": [
        "## [11. Container With Most Water](https://leetcode.com/problems/container-with-most-water/?envType=study-plan-v2&envId=leetcode-75)"
      ]
    },
    {
      "cell_type": "code",
      "execution_count": null,
      "metadata": {
        "id": "DMXtz-uEHd5H"
      },
      "outputs": [],
      "source": [
        "from typing import List\n",
        "\n",
        "# areas: List[int] = []\n",
        "# for (i, ha) in enumerate(height):\n",
        "#     for (j, hb) in enumerate(height):\n",
        "#         if i != j:\n",
        "#             areas.append(abs(i - j) * min(ha, hb))\n",
        "# return max(areas)\n",
        "\n",
        "\n",
        "def max_area(height: List[int]) -> int:\n",
        "    area: int = 0\n",
        "    lptr, rptr = 0, len(height) - 1\n",
        "\n",
        "    while lptr <= rptr:\n",
        "        hl, hr = height[lptr], height[rptr]\n",
        "        area = max(area, (rptr - lptr) * min(hl, hr))\n",
        "        if hl < hr:\n",
        "            lptr += 1\n",
        "        else:\n",
        "            rptr -= 1\n",
        "\n",
        "    return area\n",
        "\n",
        "\n",
        "if __name__ == \"__main__\":\n",
        "    test_cases = [\n",
        "        [1, 8, 6, 2, 5, 4, 8, 3, 7],\n",
        "        [1, 1],\n",
        "        [4, 3, 2, 1, 4],\n",
        "        [1, 2, 1],\n",
        "        [1, 2, 3, 4, 5],\n",
        "    ]\n",
        "    for i, height in enumerate(test_cases):\n",
        "        result = max_area(height)\n",
        "        print(f\"Test Case {i+1}:\", end=\" \")\n",
        "        print(f\"Output: {result}\", end=\" \")\n",
        "        print(f\"Input: height = {height}\")"
      ]
    },
    {
      "cell_type": "markdown",
      "metadata": {
        "id": "0v64pYlbL_Uw"
      },
      "source": [
        "## [1679. Max Number of K-Sum Pairs](https://leetcode.com/problems/max-number-of-k-sum-pairs/?envType=study-plan-v2&envId=leetcode-75)"
      ]
    },
    {
      "cell_type": "code",
      "execution_count": null,
      "metadata": {
        "id": "5QVsybdbyxYQ"
      },
      "outputs": [],
      "source": [
        "from typing import List, Set, Tuple\n",
        "\n",
        "\n",
        "def max_operations(nums: List[int], k: int) -> int:\n",
        "    n: int = len(nums)\n",
        "    if n <= 1:\n",
        "        return 0\n",
        "\n",
        "    nums.sort()\n",
        "\n",
        "    lptr: int\n",
        "    rptr: int\n",
        "    operations: int\n",
        "\n",
        "    lptr, rptr, operations = 0, n - 1, 0\n",
        "\n",
        "    while lptr < rptr:\n",
        "        curr = nums[lptr] + nums[rptr]\n",
        "        if k == curr:\n",
        "            operations += 1  # Increment counter as removed K pair.\n",
        "            lptr += 1\n",
        "            rptr -= 1\n",
        "        elif curr < k:\n",
        "            lptr += 1\n",
        "        else:\n",
        "            rptr -= 1\n",
        "\n",
        "    return operations\n",
        "\n",
        "\n",
        "if __name__ == \"__main__\":\n",
        "    test_cases: List[Tuple[List[int], int]] = [\n",
        "        ([1, 2, 3, 4], 5),\n",
        "        ([3, 1, 3, 4, 3], 6),\n",
        "        ([], 5),\n",
        "        ([1, 8, 6, 4], 11),\n",
        "        ([1, 1, 1, 1], 2),\n",
        "        ([1, 1, 1, 1, 1], 2),\n",
        "        ([1, 2, 3, 4, 5], 10),\n",
        "        ([1, 2, 3, 4, 5], 3),\n",
        "        ([1, 2, 3, 4, 5], 6),\n",
        "        ([2, 4, 6, 8, 10], 7),\n",
        "    ]\n",
        "\n",
        "    for i, (nums, k) in enumerate(test_cases):\n",
        "        result: int = max_operations(nums, k)\n",
        "        print(f\"Test Case {i+1}: Output: {result}, Input: nums = {nums}, k = {k}\")"
      ]
    },
    {
      "cell_type": "markdown",
      "metadata": {
        "id": "7i63oMOw1r5w"
      },
      "source": [
        "# Sliding Window"
      ]
    },
    {
      "cell_type": "markdown",
      "metadata": {
        "id": "HJ3zdLGaliTy"
      },
      "source": [
        "## [643. Maximum Average Subarray I](https://leetcode.com/problems/maximum-average-subarray-i/?envType=study-plan-v2&envId=leetcode-75)"
      ]
    },
    {
      "cell_type": "code",
      "execution_count": null,
      "metadata": {
        "id": "8-waNBRHdh6i"
      },
      "outputs": [],
      "source": [
        "from typing import List, Tuple\n",
        "\n",
        "\n",
        "def find_max_average(nums: List[int], k: int) -> float:\n",
        "    n = len(nums)\n",
        "    if k == n:\n",
        "        return sum(nums) / k\n",
        "    elif n == 1:\n",
        "        return nums[0]\n",
        "\n",
        "    sum_window = sum(nums[:k])  # Sum of first 'k' items in nums. index = 0\n",
        "    n_window = n - k + 1  # Possible subarray count that can slide.\n",
        "\n",
        "    max_sum_window = sum_window\n",
        "\n",
        "    for i in range(1, n_window):\n",
        "        prev_left, curr_right = nums[i - 1], nums[i + (k - 1)]\n",
        "        # The window is k units wide. To slide 1 unit right, from total history,\n",
        "        # - subtract the previous slide's first item value and,\n",
        "        # - add the item next to it's boundary to total history.\n",
        "        sum_window -= prev_left\n",
        "        sum_window += curr_right\n",
        "\n",
        "        max_sum_window = max(sum_window, max_sum_window)\n",
        "\n",
        "    return max_sum_window / k\n",
        "\n",
        "\n",
        "if __name__ == \"__main__\":\n",
        "    test_cases: List[Tuple[List[int], int]] = [\n",
        "        ([1, 12, -5, -6, 50, 3], 4),\n",
        "        ([5], 1),\n",
        "        ([1, 2, 3, 4, 5], 3),\n",
        "        ([3, 1, 4, 1, 5, 9, 2, 6, 5], 5),\n",
        "        ([1, 2, 3, 4], 1),\n",
        "        ([5, 5, 5, 5, 5, 5, 5, 5, 5, 5], 10),\n",
        "        ([2, 4, 6, 8, 10], 4),\n",
        "        ([7, 7, 7, 7, 7], 3),\n",
        "    ]\n",
        "\n",
        "    for i, (nums, k) in enumerate(test_cases):\n",
        "        got: int = find_max_average(nums, k)\n",
        "        print(f\"Test Case {i+1}: Output: {got:.5f}, Input: nums = {nums}, k = {k}\")"
      ]
    },
    {
      "cell_type": "markdown",
      "metadata": {
        "id": "0V27qKGnaWC8"
      },
      "source": [
        "## [1456. Maximum Number of Vowels in a Substring of Given Length](https://leetcode.com/problems/maximum-number-of-vowels-in-a-substring-of-given-length/?envType=study-plan-v2&envId=leetcode-75)"
      ]
    },
    {
      "cell_type": "code",
      "execution_count": null,
      "metadata": {
        "id": "VlRySRw-aZNW"
      },
      "outputs": [],
      "source": [
        "from typing import List, Set, Tuple\n",
        "\n",
        "\n",
        "def max_vowels(s: str, k: int) -> int:\n",
        "    # The set(\"aeiou\") expression constructs a set by iterating over the characters in the string \"aeiou\". Since the string is small and has a constant length, the set creation operation has a time complexity of O(1) as it performs a fixed number of operations.\n",
        "    # Storing the vowels as a set instead of a list is a good choice when you need to check for membership, as checking membership in a set has an average time complexity of O(1), while checking membership in a list has a time complexity of O(n).\n",
        "    VOWELS: Set[str] = set(\"aeiou\")\n",
        "\n",
        "    n_window: int = len(s) - k + 1  # count possible substring windows in array.\n",
        "    s_arr: List[str] = list(s)  # str_window = list(s)[0:k]  # [\"l\",\"e\",\"e\",]\n",
        "\n",
        "    windows: List[List[str]] = [s_arr[i : (i + k)] for i in range(0, n_window)]\n",
        "\n",
        "    return max([sum(1 for char in window if char in VOWELS) for window in windows])\n",
        "\n",
        "\n",
        "if __name__ == \"__main__\":\n",
        "    test_cases: List[Tuple[str, int]] = [\n",
        "        (\"leetcode\", 3),  # 2\n",
        "        (\"abciiidef\", 3),  # 3\n",
        "        (\"aeiou\", 2),  # 2\n",
        "    ]\n",
        "\n",
        "    for i, (s, k) in enumerate(test_cases):\n",
        "        got: int = max_vowels(s, k)\n",
        "        print(f\"Test Case {(i+1)}: Output: {got:2}, Input: s = {s}, k = {k:2}\")"
      ]
    },
    {
      "cell_type": "markdown",
      "metadata": {
        "id": "2GnB2mpLHmj0"
      },
      "source": [
        "## [1004. Max Consecutive Ones III](https://leetcode.com/problems/max-consecutive-ones-iii/?envType=study-plan-v2&envId=leetcode-75)"
      ]
    },
    {
      "cell_type": "code",
      "execution_count": null,
      "metadata": {
        "collapsed": true,
        "id": "5kSWQz1nOkW_"
      },
      "outputs": [],
      "source": [
        "from typing import List, Tuple\n",
        "from collections import Counter\n",
        "\n",
        "\n",
        "def longest_ones(nums: List[int], k: int) -> int:\n",
        "    left, zero_count, max_len = 0, 0, 0\n",
        "    cache_ones: List[int] = []\n",
        "\n",
        "    for right in range(len(nums)):\n",
        "        if nums[right] == 0:\n",
        "            zero_count += 1\n",
        "\n",
        "        if zero_count > k:\n",
        "            if nums[left] == 0:\n",
        "                zero_count -= 1\n",
        "            left += 1\n",
        "\n",
        "        if zero_count <= k:\n",
        "            if nums[right] == 1:\n",
        "                cache_ones.append(right - left + 1)\n",
        "\n",
        "        max_len = max(max_len, cache_ones[-1]) if cache_ones else max_len\n",
        "\n",
        "    return max_len\n",
        "\n",
        "\n",
        "if __name__ == \"__main__\":\n",
        "    test_cases: List[Tuple[List[int], int]] = [\n",
        "        ([1, 1, 1, 0, 0, 0, 1, 1, 1, 1, 0], 2),  # 6\n",
        "        ([0, 0, 1, 1, 0, 0, 1, 1, 1, 0, 1, 1, 0, 0, 0, 1, 1, 1, 1], 3),  # 10\n",
        "    ]\n",
        "    for i, (s, k) in enumerate(test_cases):\n",
        "        got: int = longest_ones(s, k)\n",
        "        print(f\"Test Case {(i+1)}: Output: {got:2}, Input: s = {s}, k = {k:2}\")"
      ]
    },
    {
      "cell_type": "markdown",
      "metadata": {
        "id": "VJYeKuzV4Zf-"
      },
      "source": []
    },
    {
      "cell_type": "markdown",
      "metadata": {
        "id": "KAA0TyTR4Zhr"
      },
      "source": [
        "## [1493. Longest Subarray of 1's After Deleting One Element](https://leetcode.com/problems/longest-subarray-of-1s-after-deleting-one-element/?envType=study-plan-v2&envId=leetcode-75)"
      ]
    },
    {
      "cell_type": "code",
      "execution_count": null,
      "metadata": {
        "id": "WExbKyON4b-v"
      },
      "outputs": [],
      "source": [
        "def longest_subarray(nums: List[int]) -> int:\n",
        "    k = 1\n",
        "    max_len = 0\n",
        "    left, zero_count = 0, 0\n",
        "    cache_ones: List[int] = []\n",
        "\n",
        "    for right in range(len(nums)):\n",
        "        if nums[right] == 0:\n",
        "            zero_count += 1\n",
        "\n",
        "        if zero_count > k:\n",
        "            if nums[left] == 0:\n",
        "                zero_count -= 1\n",
        "            left += 1\n",
        "\n",
        "        if zero_count <= k:\n",
        "            if nums[right] == 1:\n",
        "                cache_ones.append(right - left)\n",
        "\n",
        "        max_len = max(max_len, cache_ones[-1]) if cache_ones else max_len\n",
        "\n",
        "    return max_len\n",
        "\n",
        "\n",
        "def main() -> None:\n",
        "    test_cases: List[List[int]] = [\n",
        "        [1, 1, 0, 1],  # 3\n",
        "        [0, 1, 1, 1, 0, 1, 1, 0, 1],  # 5\n",
        "        [1, 1, 1],  # 2\n",
        "    ]\n",
        "    for i, nums in enumerate(test_cases):\n",
        "        got: int = longest_subarray(nums)\n",
        "        print(f\"Test Case {(i+1)}: Output: {got:2}, Input: s = {nums}\")\n",
        "\n",
        "\n",
        "if __name__ == \"__main__\":\n",
        "    main()\n"
      ]
    },
    {
      "cell_type": "markdown",
      "metadata": {
        "id": "-QRMvs13TGbk"
      },
      "source": [
        "# Prefix Sum"
      ]
    },
    {
      "cell_type": "markdown",
      "metadata": {
        "id": "j7daRWjgSY-C"
      },
      "source": [
        "## [1732. Find the Highest Altitude](https://leetcode.com/problems/find-the-highest-altitude/?envType=study-plan-v2&envId=leetcode-75)"
      ]
    },
    {
      "cell_type": "code",
      "execution_count": null,
      "metadata": {
        "id": "TX0qwhkml3TZ"
      },
      "outputs": [],
      "source": [
        "from typing import List\n",
        "\n",
        "# [1732. Find the Highest Altitude](https://leetcode.com/problems/find-the-highest-altitude/?envType=study-plan-v2&envId=leetcode-75)\n",
        "\n",
        "# Let's note that the altitude of an element is the sum of gains of all\n",
        "# the elements behind it\n",
        "# Getting the altitudes can be done by getting the prefix sum array of\n",
        "# the given array\n",
        "\n",
        "\n",
        "def largest_altitude(gains: List[int]) -> int:\n",
        "    # The biker starts his trip on point 0 with altitude equal 0.\n",
        "    curr_sum, max_sum = 0, 0\n",
        "\n",
        "    for gain in gains:\n",
        "        curr_sum += gain\n",
        "        max_sum = max(curr_sum, max_sum)\n",
        "\n",
        "    return max_sum\n",
        "\n",
        "\n",
        "def main() -> None:\n",
        "    test_cases: List[List[int]] = [\n",
        "        [-5, 1, 5, 0, -7],  # 1\n",
        "        [-4, -3, -2, -1, 4, 3, 2],  # 0\n",
        "        [-5, 11, 2, -20, -7, -4, -3, -2, -1, 4, 3, 2],  # 0\n",
        "    ]\n",
        "\n",
        "    for (i, gains) in enumerate(test_cases):\n",
        "        got: int = largest_altitude(gains)\n",
        "        print(f\"Test Case {(i+1)}: Output: {got:2}, Input: s = {gains}\")\n",
        "\n",
        "\n",
        "if __name__ == \"__main__\":\n",
        "    main()"
      ]
    },
    {
      "cell_type": "markdown",
      "metadata": {
        "id": "59upkvPcSgxa"
      },
      "source": [
        "## [724. Find Pivot Index](https://leetcode.com/problems/find-pivot-index/?envType=study-plan-v2&envId=leetcode-75)\n"
      ]
    },
    {
      "cell_type": "code",
      "execution_count": null,
      "metadata": {
        "cellView": "form",
        "id": "JWux5qSKmB9U"
      },
      "outputs": [],
      "source": [
        "#@title\n",
        "from typing import List\n",
        "\n",
        "\"\"\"\n",
        "[724. Find Pivot Index](https://leetcode.com/problems/find-pivot-index/?envType=study-plan-v2&envId=leetcode-75)\n",
        "\n",
        "- Create an array sumLeft where sumLeft[i] is the sum of all the numbers to the left of index i.\n",
        "- Create an array sumRight where sumRight[i] is the sum of all the numbers\n",
        "  to the right of index i.\n",
        "- For each index i, check if sumLeft[i] equals sumRight[i] return i. If no\n",
        "  i found, return -1.\n",
        "\"\"\"\n",
        "\n",
        "\n",
        "# Time: O(n).\n",
        "# Space: O(n).\n",
        "def pivot(nums: List[int]) -> int:\n",
        "    n = len(nums)\n",
        "    sum_left, sum_right = [0] * n, [0] * n\n",
        "\n",
        "    for i in range(n):\n",
        "        # nums[start, end] -> start is inclusive, end is exclusive.\n",
        "        sum_left[i], sum_right[i] = sum(nums[0:i]), sum(nums[(i+1):n])\n",
        "        if sum_left[i] == sum_right[i]:\n",
        "            return i\n",
        "\n",
        "    return -1\n",
        "\n",
        "\n",
        "# Time: O(n).\n",
        "# Space: O(1).\n",
        "def pivot_index(nums: List[int]) -> int:\n",
        "    total_sum = sum(nums)\n",
        "    left_sum = 0\n",
        "\n",
        "    for i, num in enumerate(nums):\n",
        "        if left_sum == total_sum - left_sum - num:\n",
        "            return i\n",
        "        left_sum += num\n",
        "\n",
        "    return -1\n",
        "\n",
        "\n",
        "def main() -> None:\n",
        "    test_cases: List[List[int]] = [\n",
        "        [1, 7, 3, 6, 5, 6],  # Output: 3\n",
        "        [1, 2, 3],  # Output: -1\n",
        "        [2, 1, -1],  # Output: 0\n",
        "        [1, 2, 1],  # Output: 1\n",
        "        [0, 0, 0, 0, 0],  # Output: 0\n",
        "        [1, 2, 3, 4, 5, 6, 7],  # Output: -1\n",
        "        [10, 1, -5, 4, 9, -3, 0],  # Output: 3\n",
        "    ]\n",
        "\n",
        "    for (i, nums) in enumerate(test_cases):\n",
        "        got: int = pivot_index(nums)\n",
        "        print(f\"Test Case {(i+1)}: Output: {got:2}, Input: s = {nums}\")\n",
        "        got: int = pivot(nums)\n",
        "        print(f\"Test Case {(i+1)}: Output: {got:2}, Input: s = {nums}\")\n",
        "\n",
        "\n",
        "if __name__ == \"__main__\":\n",
        "    main()\n"
      ]
    },
    {
      "cell_type": "markdown",
      "metadata": {
        "id": "EVwUuvswTCHu"
      },
      "source": [
        "# Hash Map / Set"
      ]
    },
    {
      "cell_type": "markdown",
      "metadata": {
        "id": "3-rEIkXiSosD"
      },
      "source": [
        "## [2215. Find the Difference of Two Arrays](https://leetcode.com/problems/find-the-difference-of-two-arrays/?envType=study-plan-v2&envId=leetcode-75)"
      ]
    },
    {
      "cell_type": "code",
      "execution_count": null,
      "metadata": {
        "id": "UvdZKFL6mTDT"
      },
      "outputs": [],
      "source": [
        "from typing import List, Tuple\n",
        "\n",
        "\"\"\"\n",
        "[2215. Find the Difference of Two Arrays]\n",
        "    (https://leetcode.com/problems/find-the-difference-of-two-arrays/?envType=study-plan-v2&envId=leetcode-75)\n",
        "\"\"\"\n",
        "\n",
        "\n",
        "def find_difference(nums1: List[int], nums2: List[int]) -> List[List[int]]:\n",
        "    s1, s2 = set(nums1), set(nums2)\n",
        "\n",
        "    return [list(s1-s2), list(s2-s1)]\n",
        "\n",
        "\n",
        "def main() -> None:\n",
        "    test_cases: List[Tuple[List[int], List[int]]] = [\n",
        "        ([1, 2, 3], [2, 4, 6]),  # Output: [[1,3],[4,6]]\n",
        "        ([1, 2, 3, 3], [1, 1, 2, 2]),  # Output: [[3],[]]\n",
        "    ]\n",
        "\n",
        "    for (i, (nums1, nums2)) in enumerate(test_cases):\n",
        "        got: List[List[int]] = find_difference(nums1, nums2)\n",
        "        print(f\"\"\"Test Case {(i+1)}: Output: {got},\n",
        "             Input: nums1: {nums1}, nums2: {nums2}\"\"\")\n",
        "\n",
        "\n",
        "if __name__ == \"__main__\":\n",
        "    main()\n",
        "\n"
      ]
    },
    {
      "cell_type": "markdown",
      "metadata": {
        "id": "VdOu15QhSt6T"
      },
      "source": [
        "## [1207. Unique Number of Occurrences](https://leetcode.com/problems/unique-number-of-occurrences/?envType=study-plan-v2&envId=leetcode-75)"
      ]
    },
    {
      "cell_type": "code",
      "execution_count": null,
      "metadata": {
        "id": "0GOgU7RfmYSD"
      },
      "outputs": [],
      "source": [
        "\"\"\"\n",
        "[1207. Unique Number of Occurrences]\n",
        "    (https://leetcode.com/problems/unique-number-of-occurrences/?envType=study-plan-v2&envId=leetcode-75)\n",
        "\"\"\"\n",
        "\n",
        "from typing import List\n",
        "\n",
        "\n",
        "def unique_occurences(arr: List[int]) -> bool:\n",
        "    arr_hash = {key: 0 for key in set(arr)}\n",
        "    for x in arr:\n",
        "        arr_hash[x] += 1\n",
        "\n",
        "    values = list(arr_hash.values())\n",
        "    unique_values = list(set(values))\n",
        "\n",
        "    return len(values) == len(unique_values)\n",
        "\n",
        "\n",
        "def main() -> None:\n",
        "    test_cases: List[List[int]] = [\n",
        "        [1, 1, 2, 3, 3, 3, 3, 4],  # False\n",
        "        [1, 2],  # False\n",
        "        [1, 2, 2, 1, 1, 3],  # True\n",
        "        [-3, 0, 1, -3, 1, 1, 1, -3, 10, 0],  # True\n",
        "        [1, 1, 2, 3, 3, 3, 3, 4, 4, 4, 4, 4],  # True\n",
        "    ]\n",
        "\n",
        "    for (i, arr) in enumerate(test_cases):\n",
        "        got: bool = unique_occurences(arr)\n",
        "        print(f\"\"\"Test Case {(i+1)}: Output: {got}, Input: {arr}\"\"\")\n",
        "\n",
        "\n",
        "if __name__ == \"__main__\":\n",
        "    main()\n",
        "\n"
      ]
    },
    {
      "cell_type": "markdown",
      "metadata": {
        "id": "db9YEVgSMYJ-"
      },
      "source": [
        "## [1657. Determine if Two Strings Are Close](https://leetcode.com/problems/determine-if-two-strings-are-close/?envType=study-plan-v2&envId=leetcode-75)"
      ]
    },
    {
      "cell_type": "code",
      "execution_count": null,
      "metadata": {
        "id": "DJenpLXmMUBI"
      },
      "outputs": [],
      "source": [
        "from collections import defaultdict\n",
        "\n",
        "\"\"\"\n",
        "[1657. Determine if Two Strings Are Close]\n",
        "    (https://leetcode.com/problems/determine-if-two-strings-are-close/?envType=study-plan-v2&envId=leetcode-75)\n",
        "\"\"\"\n",
        "\n",
        "def close_strings(word1: str, word2: str) -> bool:\n",
        "    if len(word1) != len(word2):\n",
        "        return False\n",
        "\n",
        "    if set(word1) != set(word2):\n",
        "        return False\n",
        "\n",
        "    freq1, freq2 = defaultdict(int), defaultdict(lambda: 0)\n",
        "    for (k1, k2) in zip(list(word1), list(word2)):\n",
        "        freq1[k1] += 1\n",
        "        freq2[k2] += 1\n",
        "\n",
        "    return sorted(freq1.values()) == sorted(freq2.values())\n",
        "\n",
        "\n",
        "def main() -> None:\n",
        "    test_cases = [\n",
        "        # True.\n",
        "        (\"abc\", \"bca\"),\n",
        "        (\"cabbba\", \"abbccc\"),\n",
        "        (\"dddea\", \"eeead\"),\n",
        "\n",
        "        # False.\n",
        "        (\"a\", \"aa\"),\n",
        "        (\"uau\", \"ssx\"),\n",
        "        (\"cabbbazzzz\", \"abbccczaab\"),\n",
        "        (\"abbccczaabwwwwww\", \"cabbbazzzzwaaaaa\"),\n",
        "        (\"aaabbbbccddeeeeefffff\", \"aaaaabbcccdddeeeeffff\"),\n",
        "    ]\n",
        "    for i, (str1, str2) in enumerate(test_cases):\n",
        "        result = close_strings(str1, str2)\n",
        "        print(f\"Test Case {(i+1)}: Output: {result}, \\n\\\n",
        "              Input: ({str1}, {str2})\")\n",
        "\n",
        "\n",
        "if __name__ == \"__main__\":\n",
        "    main()\n",
        "\n"
      ]
    },
    {
      "cell_type": "markdown",
      "metadata": {
        "id": "WLc2Jw1Kp6m3"
      },
      "source": [
        "## [2352. Equal Row and Column Pairs](https://leetcode.com/problems/equal-row-and-column-pairs/?envType=study-plan-v2&envId=leetcode-75)"
      ]
    },
    {
      "cell_type": "code",
      "execution_count": null,
      "metadata": {
        "id": "l8SSKDVMpuZo"
      },
      "outputs": [],
      "source": [
        "from typing import List, Set\n",
        "\n",
        "\n",
        "\"\"\"\n",
        "[2352. Equal Row and Column Pairs]\n",
        "    (https://leetcode.com/problems/equal-row-and-column-pairs/?envType=study-plan-v2&envId=leetcode-75)\n",
        "\"\"\"\n",
        "\n",
        "\n",
        "def equal_pairs(grid: List[List[int]]) -> int:\n",
        "    n = len(grid)\n",
        "\n",
        "    rows = [x[:] for x in grid]\n",
        "    cols = [[y[i] for y in grid] for i in range(n)]\n",
        "\n",
        "    a: Set[str] = set(map(str, rows))\n",
        "    b: Set[str] = set(map(str, cols))\n",
        "\n",
        "    return n - len(a - b)\n",
        "\n",
        "\n",
        "def main() -> None:\n",
        "    test_cases: List[List[List[int]]] = [\n",
        "        [[3, 2, 1], [1, 7, 6], [2, 7, 7]],  # 1\n",
        "        [[3, 1, 2, 2], [1, 4, 4, 5], [2, 4, 2, 2], [2, 4, 2, 2]],  # 3\n",
        "    ]\n",
        "\n",
        "    for (i, grid) in enumerate(test_cases):\n",
        "        got: int = equal_pairs(grid=grid)\n",
        "        print(f\"Test Case {(i+1)}: Output: {got:2}, Input: s = {grid}\")\n",
        "\n",
        "\n",
        "if __name__ == \"__main__\":\n",
        "    main()\n",
        "\n",
        "\n"
      ]
    },
    {
      "cell_type": "markdown",
      "metadata": {
        "id": "8EcRlJotS-EE"
      },
      "source": [
        "# Stack"
      ]
    },
    {
      "cell_type": "markdown",
      "metadata": {
        "id": "3VeYcItDTHdP"
      },
      "source": [
        "## [2390. Removing Stars From a String](https://leetcode.com/problems/removing-stars-from-a-string/?envType=study-plan-v2&envId=leetcode-75)\n"
      ]
    },
    {
      "cell_type": "code",
      "execution_count": null,
      "metadata": {
        "id": "UX3g_WADTF73"
      },
      "outputs": [],
      "source": [
        "from typing import Deque, List\n",
        "from collections import deque\n",
        "\n",
        "\"\"\"\n",
        "[2390. Removing Stars From a String]\n",
        "    (https://leetcode.com/problems/removing-stars-from-a-string/?envType=study-plan-v2&envId=leetcode-75)\n",
        "\"\"\"\n",
        "\n",
        "def remove_stars_count(s: str) -> str:\n",
        "    count, result, srev = 0, deque(), s[::-1]\n",
        "\n",
        "    for char in srev:\n",
        "        if char == '*':\n",
        "            count += 1\n",
        "        elif count:\n",
        "            count -= 1\n",
        "        else:\n",
        "            result.appendleft(char)\n",
        "\n",
        "    return \"\".join(result)\n",
        "\n",
        "\n",
        "print(f\"`{remove_stars_count('leet**cod*e')}`\")  # \"lecoe\"\n",
        "print(f\"`{remove_stars_count('erase*****')}`\")  # \"\"\n",
        "\n",
        "\n",
        "def remove_stars(s: str) -> str:\n",
        "    nonstar: Deque[str] = deque()\n",
        "\n",
        "    arr: List[str] = list(s)\n",
        "    left = right = len(s)-1\n",
        "\n",
        "    while right >= 0 and left >= 0:\n",
        "        while arr[right] == '*' and arr[left] == '*':\n",
        "            left -= 1\n",
        "\n",
        "        # Stack LIFO (last in first out). Append to the front of the list.\n",
        "        if arr[right] != '*' and arr[left] != '*':\n",
        "            nonstar.appendleft(arr[left])\n",
        "\n",
        "        left -= 1\n",
        "        right -= 1\n",
        "\n",
        "    return \"\".join(nonstar)\n",
        "\n",
        "print(f\"`{remove_stars('leet**cod*e')}`\")  # \"lecoe\"\n",
        "print(f\"`{remove_stars('erase*****')}`\")  # \"\"\n"
      ]
    },
    {
      "cell_type": "markdown",
      "metadata": {
        "id": "DsGnVxb0xsFt"
      },
      "source": [
        "## [735. Asteroid Collision](https://leetcode.com/problems/asteroid-collision/?envType=study-plan-v2&envId=leetcode-75)\n"
      ]
    },
    {
      "cell_type": "code",
      "execution_count": null,
      "metadata": {
        "id": "UVKIjw-Sxqhu"
      },
      "outputs": [],
      "source": [
        "from collections import deque\n",
        "from typing import Deque, List, Tuple\n",
        "\n",
        "def asteroid_collision(asteroids: List[int]) -> List[int]:\n",
        "    stack = []\n",
        "    for asteroid in asteroids:\n",
        "        while stack and stack[-1] > 0 and asteroid < 0:\n",
        "            # stack(top)[ +ve ]--> <--[ -ve ]asteroid(curr).\n",
        "            collision = stack[-1] + asteroid\n",
        "\n",
        "            if collision < 0:\n",
        "                stack.pop()\n",
        "                continue\n",
        "            elif collision > 0:\n",
        "                break\n",
        "            else:\n",
        "                stack.pop()\n",
        "                break\n",
        "        else:\n",
        "            # Append the asteroid when the while loop condition becomes false,\n",
        "            # either by default or after collision < 0 pops an element.\n",
        "            stack.append(asteroid)\n",
        "\n",
        "    return stack\n",
        "\n",
        "\n",
        "print(asteroid_collision([5, -10, 5])) # [-10,5]\n",
        "print(asteroid_collision([8, -8])) # []\n",
        "print(asteroid_collision([10, 2, -5])) # [10]\n",
        "print(asteroid_collision([3, -3, -3, 3])) # [-3.3]\n",
        "print(asteroid_collision([3, 3, -3, -3])) # []\n",
        "print(asteroid_collision([5, -10, 5, 3, -3, 23, 234, -234])) # [-10,5,23]\n"
      ]
    },
    {
      "cell_type": "markdown",
      "metadata": {
        "id": "Ml16-Z5y1JVf"
      },
      "source": [
        "## [394. Decode String](https://leetcode.com/problems/decode-string/?envType=study-plan-v2&envId=leetcode-75)"
      ]
    },
    {
      "cell_type": "code",
      "execution_count": null,
      "metadata": {
        "id": "oe2thAEK0EtJ"
      },
      "outputs": [],
      "source": [
        "def test_decode_string():\n",
        "    test_cases = [\n",
        "        (\"4[x]\", \"xxxx\"),\n",
        "        (\"2[abc]3[cd]ef\", \"abcabccdcdcdef\"),\n",
        "        (\"3[a]2[bc]\", \"aaabcbc\"),\n",
        "        (\"3[a2[c]]\", \"accaccacc\"),\n",
        "        (\"2[a2[b2[c]]]\", \"abccbccabccbcc\")\n",
        "    ]\n",
        "\n",
        "    for s, expected_output in test_cases:\n",
        "        assert decode_string(s) == expected_output\n",
        "\n",
        "    print(\"All test cases pass\")\n",
        "\n",
        "\n",
        "def decode_string(s: str) -> str:\n",
        "    stack = []\n",
        "    curr = \"\"\n",
        "    result = []\n",
        "\n",
        "    for char in s:\n",
        "        if char.isdigit():\n",
        "            curr += char\n",
        "        elif char == '[':\n",
        "            stack.append((int(curr), result))\n",
        "            curr = \"\"\n",
        "            result = []\n",
        "        elif char == ']':\n",
        "            repeat_times, prev_result = stack.pop()\n",
        "            prev_result.append(\"\".join(result) * repeat_times)\n",
        "            result = prev_result\n",
        "        else:\n",
        "            result.append(char)\n",
        "\n",
        "    return \"\".join(result)\n",
        "\n",
        "\n",
        "def decode_string_v2(s) -> str:\n",
        "    arr = list(s)\n",
        "    left_bracket, right_bracket = '[', ']'\n",
        "    count_l, count_r = 0, 0\n",
        "    capture = []\n",
        "    result = []\n",
        "    curr = \"\"\n",
        "    lvl_deep = 0\n",
        "\n",
        "    for c in arr[::-1]:\n",
        "        if not c.isdigit() and c != left_bracket and c != right_bracket:\n",
        "            capture.append(c)\n",
        "            if lvl_deep == 1 and result:\n",
        "                result.append(c + result.pop())\n",
        "                capture.clear()\n",
        "        elif c == right_bracket:\n",
        "            count_r += 1\n",
        "            if count_r-count_l > 1:\n",
        "                lvl_deep += 1\n",
        "\n",
        "            curr = \"\".join(sorted(capture))\n",
        "            capture.clear()\n",
        "            if curr:\n",
        "                result.append(curr)\n",
        "        elif c == left_bracket:\n",
        "            count_l += 1\n",
        "            curr = \"\".join(sorted(capture))\n",
        "            capture.clear()\n",
        "            if curr:\n",
        "                result.append(curr)\n",
        "            if lvl_deep and count_r == count_l:\n",
        "                lvl_deep -= 1\n",
        "        elif c.isdigit():\n",
        "            temp = []\n",
        "            capture.clear()\n",
        "            repeat_str = result[-1]\n",
        "\n",
        "            if lvl_deep == 2 or (lvl_deep == 1 and len(result) > 1):\n",
        "                repeat_str = \"\".join(sorted(result))\n",
        "                result.clear()\n",
        "                result.append(repeat_str)\n",
        "            for _ in range(int(c)):\n",
        "                temp.append(repeat_str)\n",
        "\n",
        "            curr = \"\".join(sorted(temp))\n",
        "            result.pop()\n",
        "            result.append(curr)\n",
        "\n",
        "    return \"\".join(sorted(result))\n",
        "\n",
        "\n",
        "if __name__ == \"__main__\":\n",
        "    test_decode_string()\n"
      ]
    },
    {
      "cell_type": "markdown",
      "metadata": {
        "id": "MrQ7ASRf2uPe"
      },
      "source": [
        "# Queue"
      ]
    },
    {
      "cell_type": "markdown",
      "metadata": {
        "id": "ni7vBMVOJfSe"
      },
      "source": [
        "## [933. Number of Recent Calls](https://leetcode.com/problems/number-of-recent-calls/?envType=study-plan-v2&envId=leetcode-75)"
      ]
    },
    {
      "cell_type": "code",
      "execution_count": null,
      "metadata": {
        "id": "p5Hugzcy2zYG"
      },
      "outputs": [],
      "source": [
        "from typing import List\n",
        "\n",
        "class RecentCounter:\n",
        "\n",
        "    def __init__(self):\n",
        "        self.request_counter: List[int] = []  # Zero recent requests.\n",
        "\n",
        "    def ping(self, t: int) -> int:\n",
        "        self.request_counter.append(t)\n",
        "        answer = 0\n",
        "\n",
        "        for x in self.request_counter:\n",
        "            if t - x <= 3000:\n",
        "                answer += 1\n",
        "\n",
        "        return answer\n",
        "\n",
        "\n",
        "# Your RecentCounter object will be instantiated and called as such:\n",
        "obj = RecentCounter()\n",
        "t_requests = [1, 100, 3001, 3002]\n",
        "for t in t_requests:\n",
        "    param = obj.ping(t)\n",
        "    print(param)"
      ]
    },
    {
      "cell_type": "code",
      "execution_count": null,
      "metadata": {
        "id": "hFXyQDo5tdEM"
      },
      "outputs": [],
      "source": [
        "from collections import deque\n",
        "\n",
        "class RecentCounterQueue:\n",
        "    def __init__(self):\n",
        "        self.requests = deque()\n",
        "\n",
        "    # Remove request outside of 3000ms time window.\n",
        "    def ping(self, t: int) -> int:\n",
        "        self.requests.append(t)\n",
        "\n",
        "        while self.requests[0] < t - 3000:\n",
        "            self.requests.popleft()\n",
        "\n",
        "        return len(self.requests)\n",
        "\n",
        "# Your RecentCounter object will be instantiated and called as such:\n",
        "obj = RecentCounterQueue()\n",
        "t_requests = [1, 100, 3001, 3002]\n",
        "for t in t_requests:\n",
        "    param = obj.ping(t)\n",
        "    print(param)"
      ]
    },
    {
      "cell_type": "markdown",
      "metadata": {
        "id": "3gpNXosXJ3yU"
      },
      "source": [
        "You have a RecentCounter class which counts the number of recent requests within a certain time frame.\n",
        "\n",
        "Implement the RecentCounter class:\n",
        "\n",
        "RecentCounter() Initializes the counter with zero recent requests.\n",
        "int ping(int t) Adds a new request at time t, where t represents some time in milliseconds, and returns the number of requests that has happened in the past 3000 milliseconds (including the new request). Specifically, return the number of requests that have happened in the inclusive range [t - 3000, t].\n",
        "It is guaranteed that every call to ping uses a strictly larger value of t than the previous call.\n",
        "\n",
        "\n",
        "\n",
        "Example 1:\n",
        "\n",
        "Input\n",
        "[\"RecentCounter\", \"ping\", \"ping\", \"ping\", \"ping\"]\n",
        "[[], [1], [100], [3001], [3002]]\n",
        "Output\n",
        "[null, 1, 2, 3, 3]\n",
        "\n",
        "Explanation\n",
        "RecentCounter recentCounter = new RecentCounter();\n",
        "recentCounter.ping(1);     // requests = [1], range is [-2999,1], return 1\n",
        "recentCounter.ping(100);   // requests = [1, 100], range is [-2900,100], return 2\n",
        "recentCounter.ping(3001);  // requests = [1, 100, 3001], range is [1,3001], return 3\n",
        "recentCounter.ping(3002);  // requests = [1, 100, 3001, 3002], range is [2,3002], return 3\n",
        "\n",
        "\n",
        "Constraints:\n",
        "\n",
        "1 <= t <= 109\n",
        "Each test case will call ping with strictly increasing values of t.\n",
        "At most 104 calls will be made to ping.\n"
      ]
    },
    {
      "cell_type": "markdown",
      "metadata": {
        "id": "1lFjdfYIErNO"
      },
      "source": [
        "## [649. Dota2 Senate](https://leetcode.com/problems/dota2-senate/?envType=study-plan-v2&envId=leetcode-75)"
      ]
    },
    {
      "cell_type": "code",
      "execution_count": null,
      "metadata": {
        "id": "0CGnTExDExmP"
      },
      "outputs": [],
      "source": [
        "from collections import deque\n",
        "from typing import Deque\n",
        "\n",
        "\n",
        "def predict_party_victory(senate: str) -> str:\n",
        "    n: int = len(senate)\n",
        "    sen_rad: Deque[int] = deque(i for (i, x) in enumerate(senate) if x == 'R')\n",
        "    sen_dir: Deque[int] = deque(i for (i, x) in enumerate(senate) if x == 'D')\n",
        "\n",
        "    while sen_rad and sen_dir:\n",
        "        s_r , s_d = sen_rad.popleft() , sen_dir.popleft()\n",
        "        if s_r < s_d:\n",
        "            sen_rad.append(s_r + n)\n",
        "        elif s_r > s_d:\n",
        "            sen_dir.append(s_d + n)\n",
        "\n",
        "    return \"RADIANT\" if sen_rad  else \"DIRE\"\n",
        "\n",
        "\n",
        "def main():\n",
        "    testcases = [\n",
        "        ('RD', 'RADIANT'),\n",
        "        ('RDD', 'DIRE'),\n",
        "        ('RDDDRDRRDR', 'DIRE'),\n",
        "    ]\n",
        "    for (senate, expect) in testcases:\n",
        "        got = predict_party_victory(senate)\n",
        "        print(senate,'=',got, expect)\n",
        "        assert (got == expect)\n",
        "\n",
        "if __name__ == '__main__':\n",
        "    main()"
      ]
    },
    {
      "cell_type": "code",
      "execution_count": null,
      "metadata": {
        "id": "LJJFtccr-nor"
      },
      "outputs": [],
      "source": []
    },
    {
      "cell_type": "markdown",
      "metadata": {
        "id": "jjIc9FxyJur2"
      },
      "source": [
        "# Linked List"
      ]
    },
    {
      "cell_type": "markdown",
      "metadata": {
        "id": "PPC6xgN-J2DB"
      },
      "source": [
        "## [2095. Delete the Middle Node of a Linked List](https://leetcode.com/problems/delete-the-middle-node-of-a-linked-list/?envType=study-plan-v2&envId=leetcode-75)"
      ]
    },
    {
      "cell_type": "code",
      "execution_count": null,
      "metadata": {
        "id": "upHmPmXoJzIM"
      },
      "outputs": [],
      "source": [
        "from IPython.core.interactiveshell import Optional\n",
        "\n",
        "# Definition for singly-linked list.\n",
        "class ListNode:\n",
        "    def __init__(self, val=0, next=None):\n",
        "        self.val = val\n",
        "        self.next = next\n",
        "\n",
        "\n",
        "class Solution:\n",
        "    def delete_middle(self, head: Optional[ListNode]) -> Optional[ListNode]:\n",
        "        if not head or not head.next:\n",
        "            return None\n",
        "\n",
        "        values: List[int] = []\n",
        "        while head and head.val is not None:\n",
        "            values.append(head.val)\n",
        "            if head.next is not None:\n",
        "                head.val, head.next = head.next.val, head.next.next\n",
        "            else:\n",
        "                break\n",
        "\n",
        "        n: int = len(values)\n",
        "        values.pop((n//2) - 1) if n % 2 == 0 else values.pop(n//2)\n",
        "\n",
        "        node: ListNode = ListNode(val=values.pop(0), next=ListNode())\n",
        "        for val in values:\n",
        "            node = ListNode(val=val, next=node)\n",
        "\n",
        "        return node\n",
        "\n",
        "def main():\n",
        "    test_cases = [\n",
        "        ([1, 3, 4, 7, 1, 2, 6], [1, 3, 4, 1, 2, 6]),\n",
        "        ([1, 2, 3, 4], [1, 2, 4]),\n",
        "        ([2, 1], [2]),\n",
        "        ([1], []),\n",
        "        ([0,1,1,2,3,5,8,13,21], [0,1,1,2,5,8,13,21]),\n",
        "    ]\n",
        "\n",
        "    sol = Solution()\n",
        "\n",
        "    for input_list, expected_output in test_cases:\n",
        "        a = input_list.copy()\n",
        "        head = ListNode(val=a.pop(0))\n",
        "        node: ListNode | None = (ListNode(val=a.pop(0), next=head) if len(a) > 0\n",
        "                                 else None)\n",
        "        for next_val in a:\n",
        "            node = ListNode(val=next_val, next=node)\n",
        "        ans = sol.delete_middle(head=node)\n",
        "        output_list = []\n",
        "        while ans and ans.next:\n",
        "            output_list.append(ans.val)\n",
        "            ans = ans.next\n",
        "\n",
        "        if output_list == expected_output:\n",
        "            print(\"Test case passed\")\n",
        "        else:\n",
        "            print(\"Test case failed\")\n",
        "\n",
        "\n",
        "if __name__ == '__main__':\n",
        "    main()\n"
      ]
    },
    {
      "cell_type": "markdown",
      "metadata": {
        "id": "d8LSC2Zfwdm3"
      },
      "source": [
        "## [328. Odd Even Linked List](https://leetcode.com/problems/odd-even-linked-list/?envType=study-plan-v2&envId=leetcode-75)"
      ]
    },
    {
      "cell_type": "code",
      "execution_count": null,
      "metadata": {
        "id": "P9EQNM3DwfKy"
      },
      "outputs": [],
      "source": [
        "\"\"\"\n",
        "                     odd\n",
        "head ------  1   ->  2   ->  3   ->  4   ->  5  ->  None\n",
        "                   /         even\n",
        "    even_head\n",
        "\n",
        "                        odd\n",
        "head ------  1   ->  3   ->  4   ->  5  ->  None\n",
        "                                even\n",
        "even_head -- 2\n",
        "\n",
        "                                odd\n",
        "head ------  1   ->  3   ->  5  ->  None\n",
        "                                    even\n",
        "even_head -- 2   ->  4\n",
        "\n",
        "                                odd\n",
        "head ------  1   ->  3   ->  5  ->  2   ->  4   ->  None\n",
        "                                    |               even\n",
        "                            even_head\n",
        "\"\"\"\n",
        "\n",
        "from IPython.core.interactiveshell import Optional\n",
        "\n",
        "\n",
        "# Definition for singly-linked list.\n",
        "class ListNode:\n",
        "    def __init__(self, val=0, next=None):\n",
        "        self.val = val\n",
        "        self.next = next\n",
        "\n",
        "\n",
        "class Solution:\n",
        "    def odd_even_list(self, head: Optional[ListNode]) -> Optional[ListNode]:\n",
        "        if not head or not head.next:\n",
        "            return None\n",
        "\n",
        "        odd, even = head, head.next\n",
        "        even_head: Optional[ListNode] = even\n",
        "\n",
        "        while even is not None and even.next is not None:\n",
        "            odd.next = even.next\n",
        "            odd = odd.next\n",
        "            even.next = odd.next\n",
        "            even = even.next\n",
        "\n",
        "        odd.next = even_head\n",
        "        return head\n",
        "\n",
        "\n",
        "def main():\n",
        "    test_cases = [\n",
        "        ([1,2,3,4,5], [1,3,5,2,4]),\n",
        "        ([2,1,3,5,6,4,7], [2,3,6,7,1,5,4]),\n",
        "    ]\n",
        "\n",
        "    sol = Solution()\n",
        "    for input_list, expected_output in test_cases:\n",
        "        a = input_list.copy()\n",
        "        a.reverse()\n",
        "        head = ListNode(val=a.pop(0))\n",
        "        node: ListNode | None = (ListNode(val=a.pop(0), next=head) if len(a) > 0\n",
        "                                 else None)\n",
        "        for next_val in a:\n",
        "            node = ListNode(val=next_val, next=node)\n",
        "\n",
        "        ans = sol.odd_even_list(head=node)\n",
        "        output_list = []\n",
        "        while ans is not None and ans.val is not None:\n",
        "            output_list.append(ans.val)\n",
        "            ans = ans.next\n",
        "\n",
        "        if output_list == expected_output:\n",
        "            print(\"Test case passed\")\n",
        "        else:\n",
        "            print(\"Test case failed\")\n",
        "\n",
        "if __name__ == '__main__':\n",
        "    main()"
      ]
    },
    {
      "cell_type": "markdown",
      "metadata": {
        "id": "pLrVVSE9B_9F"
      },
      "source": [
        "## [206. Reverse Linked List](https://leetcode.com/problems/reverse-linked-list/?envType=study-plan-v2&envId=leetcode-75)"
      ]
    },
    {
      "cell_type": "code",
      "execution_count": null,
      "metadata": {
        "id": "Qwhz7ld2B-xY"
      },
      "outputs": [],
      "source": [
        "# Given the head of a singly linked list, reverse the list,\n",
        "# and return the reversed list.\n",
        "\n",
        "\"\"\"\n",
        "Step-by-step visualization of the operations involved in reversing a linked list using ASCII art.\n",
        "Consider the example linked list with elements 10, 20, and 30.\n",
        "\n",
        "**Step 1: Original Linked List**\n",
        "```\n",
        "Head\n",
        " |\n",
        " v\n",
        "10 -> 20 -> 30 -> None\n",
        "```\n",
        "**Step 2: Reversing the Linked List**\n",
        "```\n",
        "previous   current\n",
        "   |          |\n",
        "   v          v\n",
        "None <- 10    20 -> 30 -> None\n",
        "```\n",
        "**Step 3: Updating Pointers**\n",
        "```\n",
        "    previous   current\n",
        "       |          |\n",
        "       v          v\n",
        "None <- 10    20 -> 30 -> None\n",
        "```\n",
        "**Step 4: Moving Forward**\n",
        "```\n",
        "          previous   current\n",
        "             |          |\n",
        "             v          v\n",
        "None <- 10 <- 20    30 -> None\n",
        "```\n",
        "**Step 5: Final Reversal**\n",
        "```\n",
        "                    previous   current\n",
        "                       |          |\n",
        "                       v          v\n",
        "None <- 10 <- 20 <- 30       None\n",
        "```\n",
        "**Step 6: Reversed Linked List**\n",
        "```\n",
        "Head\n",
        " |\n",
        " v\n",
        "30 -> 20 -> 10 -> None\n",
        "```\n",
        "The original linked list has been successfully reversed, and the new head\n",
        "points to the last element of the original list.\n",
        "\n",
        "\n",
        "# 10 -> 20 -> 30 -> None\n",
        "# None <- 10    20 -> 30 -> None\n",
        "# None <- 10 <- 20    30 -> None\n",
        "# None <- 10 <- 20 <- 30    None\n",
        "# 30 -> 20 -> 10 -> None\n",
        "\"\"\"\n",
        "from IPython.core.interactiveshell import Optional\n",
        "\n",
        "# Definition for singly-linked list.\n",
        "class ListNode:\n",
        "    def __init__(self, val=0, next=None):\n",
        "        self.val = val\n",
        "        self.next = next\n",
        "\n",
        "\n",
        "class Solution:\n",
        "    def reverse_list(self, head: Optional[ListNode]):\n",
        "        if not head or not head.next:\n",
        "            return None\n",
        "\n",
        "        reverse_head: Optional[ListNode] = None\n",
        "        while head is not None:\n",
        "            # Hold temporary reference to next node (20's next node is 30).\n",
        "            temp = head.next\n",
        "            # Point head.next node to `reverse_head` node.\n",
        "            head.next = reverse_head\n",
        "\n",
        "            # Move `reverse_head` and `next` node forward.\n",
        "            reverse_head = head\n",
        "            head = temp\n",
        "\n",
        "        return reverse_head\n",
        "\n",
        "\n",
        "    def reverse_list_v1(self, head: Optional[ListNode]) -> Optional[ListNode]:\n",
        "        if not head or not head.next:\n",
        "            return None\n",
        "\n",
        "        values = []\n",
        "        while head and head.val is not None:\n",
        "            values.append(head.val)\n",
        "            if head.next is not None :\n",
        "                head.val, head.next = head.next.val, head.next.next\n",
        "            else:\n",
        "                break\n",
        "\n",
        "        node = ListNode(values.pop(0))\n",
        "        for val in values:\n",
        "            node = ListNode(val=val, next=node)\n",
        "\n",
        "        return node\n",
        "\n",
        "\n",
        "def main():\n",
        "    test_cases = [\n",
        "        ([1,2,3,4,5], [5,4,3,2,1]),\n",
        "        ([2,1,3,5,6,4,7], [7,4,6,5,3,1,2]),\n",
        "    ]\n",
        "\n",
        "    sol = Solution()\n",
        "    for input_list, expected_output in test_cases:\n",
        "        a = input_list.copy()\n",
        "        a.reverse()\n",
        "        head = ListNode(val=a.pop(0))\n",
        "        node: ListNode | None = (ListNode(val=a.pop(0), next=head) if len(a) > 0\n",
        "                                 else None)\n",
        "        for next_val in a:\n",
        "            node = ListNode(val=next_val, next=node)\n",
        "\n",
        "        ans = sol.reverse_list(head=node)\n",
        "        output_list = []\n",
        "        while ans is not None and ans.val is not None:\n",
        "            output_list.append(ans.val)\n",
        "            ans = ans.next\n",
        "\n",
        "        if output_list == expected_output:\n",
        "            print(\"Test case passed\")\n",
        "        else:\n",
        "            print(\"Test case failed\")\n",
        "\n",
        "if __name__ == '__main__':\n",
        "    main()\n",
        "\n"
      ]
    },
    {
      "cell_type": "markdown",
      "metadata": {
        "id": "2XZQh6emfMOC"
      },
      "source": [
        "## [2130. Maximum Twin Sum of a Linked List](https://leetcode.com/problems/maximum-twin-sum-of-a-linked-list/description/?envType=study-plan-v2&envId=leetcode-75)"
      ]
    },
    {
      "cell_type": "code",
      "execution_count": null,
      "metadata": {
        "id": "SszzjQvAc7AJ"
      },
      "outputs": [],
      "source": [
        "# Definition for singly-linked list.\n",
        "class ListNode:\n",
        "    def __init__(self, val=0, next=None):\n",
        "        self.val = val\n",
        "        self.next = next\n",
        "\n",
        "\n",
        "class Solution:\n",
        "    def get_mid(self, head: ListNode) -> ListNode:\n",
        "        slow, fast = head, head\n",
        "        while fast.next and fast.next.next and slow.next:\n",
        "            slow, fast = slow.next, fast.next.next\n",
        "\n",
        "        return slow\n",
        "\n",
        "    def reverse(self, head: Optional[ListNode]) -> Optional[ListNode]:\n",
        "        prev: Optional[ListNode] = None\n",
        "        curr: Optional[ListNode] = head\n",
        "\n",
        "        while curr:\n",
        "            temp = curr.next\n",
        "            curr.next = prev\n",
        "            prev = curr\n",
        "            curr = temp\n",
        "\n",
        "        return prev\n",
        "\n",
        "    def pair_sum(self, head: Optional[ListNode]) -> int:\n",
        "        if head is None:\n",
        "            return 0\n",
        "        mid = self.get_mid(head)\n",
        "        rev_head = self.reverse(mid.next)\n",
        "        max_sum = 0\n",
        "        while rev_head and head:\n",
        "            max_sum = max(max_sum, rev_head.val + head.val)\n",
        "            head, rev_head = head.next, rev_head.next\n",
        "\n",
        "        return max_sum\n",
        "\n",
        "    def pair_sum_v1(self, head: Optional[ListNode]) -> int:\n",
        "        if head is None:\n",
        "            return True\n",
        "\n",
        "        values: List[int] = []\n",
        "        while head and head.val is not None:\n",
        "            values.append(head.val)\n",
        "            if head.next is not None:\n",
        "                head.val, head.next = head.next.val, head.next.next\n",
        "            else:\n",
        "                break\n",
        "\n",
        "        max_sum, left, right = 0, 0, len(values) - 1\n",
        "        while right > left:\n",
        "            curr_sum = values[left] + values[right]\n",
        "            left += 1\n",
        "            right -= 1\n",
        "            max_sum = max(curr_sum, max_sum)\n",
        "\n",
        "        return max_sum\n",
        "\n",
        "\n",
        "def main():\n",
        "    sol = Solution()\n",
        "    testcases = [\n",
        "        ([1,2,3,4,5,6], 7),\n",
        "        ([2,8,5,3,5,3], 13),\n",
        "    ]\n",
        "\n",
        "    results: List[int] = []\n",
        "    for  (values, _) in testcases:\n",
        "        head = ListNode(val=values.pop(0), next=None)\n",
        "        for val in values:\n",
        "            head = ListNode(val=val, next=head)\n",
        "        got = sol.pair_sum(head)\n",
        "        results.append(got)\n",
        "\n",
        "    for i, (_, expected_output) in enumerate(testcases):\n",
        "        output_list = results[i]\n",
        "        if output_list == expected_output:\n",
        "            print(\"Test case passed\")\n",
        "        else:\n",
        "            print(\"Test case failed\")\n",
        "\n",
        "if __name__ == '__main__':\n",
        "    main()\n"
      ]
    },
    {
      "cell_type": "markdown",
      "metadata": {
        "id": "v9t8lGHk5zWT"
      },
      "source": [
        "# Binary Tree - DFS"
      ]
    },
    {
      "cell_type": "markdown",
      "metadata": {
        "id": "EYw5nv3xV0QD"
      },
      "source": [
        "## [104. Maximum Depth of Binary Tree](https://leetcode.com/problems/maximum-depth-of-binary-tree/description/?envType=study-plan-v2&envId=leetcode-75)"
      ]
    },
    {
      "cell_type": "code",
      "execution_count": null,
      "metadata": {
        "colab": {
          "base_uri": "https://localhost:8080/"
        },
        "id": "KaLpXgpI59eP",
        "outputId": "5c0fffb6-e8bc-42a7-bd9a-a84eda0dc4da"
      },
      "outputs": [
        {
          "name": "stdout",
          "output_type": "stream",
          "text": [
            "max_depth 3\n",
            "3 1 5 0 8 2 13 "
          ]
        }
      ],
      "source": [
        "from IPython.core.interactiveshell import Optional\n",
        "import networkx as nx\n",
        "import matplotlib.pyplot as plt\n",
        "\n",
        "# Definition for a binary tree node.\n",
        "class TreeNode:\n",
        "    def __init__(self, val=0, left=None, right=None):\n",
        "        self.val = val\n",
        "        self.left = left\n",
        "        self.right = right\n",
        "\n",
        "class Solution:\n",
        "    def max_depth(self, root: Optional[TreeNode]) -> int:\n",
        "        if root is None:\n",
        "            return 0\n",
        "\n",
        "        def traverse(node:  Optional[TreeNode], depth: int) -> int:\n",
        "            if node is None:\n",
        "                return depth\n",
        "            left_depth, right_depth = traverse(node.left, depth+1),  traverse(node.right, depth+1)\n",
        "            return max(left_depth, right_depth)\n",
        "        return traverse(root, 0)\n",
        "\n",
        "    def insert(self, root: Optional[TreeNode], val: int) -> Optional[TreeNode]:\n",
        "        if root is None:\n",
        "            return TreeNode(val)\n",
        "        if val < root.val:\n",
        "            root.left = self.insert(root=root.left,  val=val)\n",
        "        else:\n",
        "            root.right = self.insert(root=root.right, val=val)\n",
        "        return root\n",
        "\n",
        "    def visualize_tree(self, root: Optional[TreeNode]):\n",
        "        G = nx.Graph()\n",
        "\n",
        "        def add_edges(node):\n",
        "            if node is None:\n",
        "                return\n",
        "            if node.left is not None:\n",
        "                G.add_edge(node.val, node.left.val)\n",
        "                add_edges(node.left)\n",
        "            if node.right is not None:\n",
        "                G.add_edge(node.val, node.right.val)\n",
        "                add_edges(node.right)\n",
        "\n",
        "        add_edges(root)\n",
        "\n",
        "        pos = nx.spring_layout(G)\n",
        "        nx.draw_networkx_nodes(G, pos, node_size=500)\n",
        "        nx.draw_networkx_labels(G, pos, font_size=12, font_color=\"w\")\n",
        "        nx.draw_networkx_edges(G, pos, edge_color='w')\n",
        "\n",
        "        plt.axis(\"off\")\n",
        "        plt.style.use(\"dark_background\")  # Apply dark background style\n",
        "        plt.show()\n",
        "\n",
        "    def print_inorder(self, node: Optional[TreeNode]) -> None:\n",
        "        if node is not None:\n",
        "            self.print_inorder(node.left) # Traverse the left subtree\n",
        "            print(node.val, end=' ') # Print the current node's data\n",
        "            self.print_inorder(node.right) # Traverse the right subtree\n",
        "\n",
        "# Input: root = [3,9,20,null,null,15,7] # Output: 3\n",
        "# Input: root = [1,null,2] # Output: 2\n",
        "\n",
        "# Create the binary tree\n",
        "sol = Solution()\n",
        "root = TreeNode(val=0)\n",
        "root.left = TreeNode(val=1)\n",
        "root.right = TreeNode(val=2)\n",
        "root.left.left = TreeNode(val=3)\n",
        "root.left.right = TreeNode(val=5)\n",
        "root.right.left = TreeNode(val=8)\n",
        "root.right.right = TreeNode(val=13)\n",
        "print('max_depth', sol.max_depth(root=root))\n",
        "sol.print_inorder(root)\n",
        "\n",
        "# x = sol.insert(root=root, val=21)\n",
        "# x = sol.insert(root=x, val=34)\n",
        "# x = sol.insert(root=x, val=55)"
      ]
    },
    {
      "cell_type": "markdown",
      "metadata": {
        "id": "gHqGf4GgafIf"
      },
      "source": [
        "## [872. Leaf-Similar Trees](https://leetcode.com/problems/leaf-similar-trees/?envType=study-plan-v2&envId=leetcode-75)\n",
        "\n",
        "![](https://assets.leetcode.com/uploads/2020/09/03/leaf-similar-1.jpg)\n",
        "\n"
      ]
    },
    {
      "cell_type": "code",
      "execution_count": null,
      "metadata": {
        "colab": {
          "base_uri": "https://localhost:8080/"
        },
        "id": "YM5SisuEUbCm",
        "outputId": "c09fd9b9-5ede-4e8c-85bf-15d87d33a693"
      },
      "outputs": [
        {
          "output_type": "stream",
          "name": "stdout",
          "text": [
            "False\n",
            "True\n",
            "False\n",
            "True\n",
            "True\n",
            "False\n"
          ]
        }
      ],
      "source": [
        "from IPython.core.interactiveshell import Optional\n",
        "from typing import List, Union\n",
        "\n",
        "\"\"\"\n",
        "[872. Leaf-Similar Trees](https://leetcode.com/problems/leaf-similar-trees/?envType=study-plan-v2&envId=leetcode-75)\n",
        "\n",
        "Consider all the leaves of a binary tree, from left to right order, the values\n",
        "of those leaves form a leaf value sequence.\n",
        "\n",
        "For example, in the given tree above, the leaf value sequence is (6, 7, 4, 9, 8).\n",
        "\n",
        "Two binary trees are considered leaf-similar if their leaf value sequence is the same.\n",
        "\n",
        "Return true if and only if the two given trees with head nodes root1 and root2 are leaf-similar.\n",
        "\n",
        "Example 1:\n",
        "Input: root1 = [3,5,1,6,2,9,8,null,null,7,4], root2 = [3,5,1,6,7,4,2,null,null,null,null,null,null,9,8]\n",
        "Output: true\n",
        "Example 2:\n",
        "Input: root1 = [1,2,3], root2 = [1,3,2]\n",
        "Output: false\n",
        "\n",
        "Constraints:\n",
        "The number of nodes in each tree will be in the range [1, 200].\n",
        "Both of the given trees will have values in the range [0, 200].\n",
        "\"\"\"\n",
        "\n",
        "# Definition for a binary tree node.\n",
        "class TreeNode:\n",
        "    def __init__(self, val=0, left=None, right=None):\n",
        "        self.val = val\n",
        "        self.left = left\n",
        "        self.right = right\n",
        "\n",
        "\n",
        "class Solution:\n",
        "    def leaf_similar(self, root1: Optional[TreeNode], root2: Optional[TreeNode]) -> bool:\n",
        "        def get_leaf_values(root: Optional[TreeNode], leaf_values: List[int]) -> None:\n",
        "            if root is None:\n",
        "                return\n",
        "\n",
        "            if root.left is None and root.right is None:\n",
        "                leaf_values.append(root.val)\n",
        "\n",
        "            get_leaf_values(root.left, leaf_values)\n",
        "            get_leaf_values(root.right, leaf_values)\n",
        "\n",
        "        leaf_values1 = []\n",
        "        get_leaf_values(root1, leaf_values1)\n",
        "        leaf_values2 = []\n",
        "        get_leaf_values(root2, leaf_values2)\n",
        "\n",
        "        return leaf_values1 == leaf_values2\n",
        "\n",
        "sol = Solution()\n",
        "root1 = TreeNode(3, TreeNode(5, TreeNode(6), TreeNode(2, TreeNode(7), TreeNode(4))), TreeNode(1, TreeNode(9), TreeNode(8)))\n",
        "root2 = TreeNode(3, TreeNode(5, TreeNode(6), TreeNode(7, None, TreeNode(4))), TreeNode(1, None, TreeNode(2, TreeNode(9), TreeNode(8))))\n",
        "print(sol.leaf_similar(root1, root2))\n",
        "# Expected output: False\n",
        "\n",
        "root1 = TreeNode(3)\n",
        "root1.left = TreeNode(5)\n",
        "root1.right = TreeNode(1)\n",
        "root1.left.left = TreeNode(6)\n",
        "root1.left.right = TreeNode(2)\n",
        "root1.right.left = TreeNode(9)\n",
        "root1.right.right = TreeNode(8)\n",
        "root1.left.right.left = TreeNode(7)\n",
        "root1.left.right.right = TreeNode(4)\n",
        "\n",
        "root2 = TreeNode(3)\n",
        "root2.left = TreeNode(5)\n",
        "root2.right = TreeNode(1)\n",
        "root2.left.left = TreeNode(6)\n",
        "root2.left.right = TreeNode(7)\n",
        "root2.right.left = TreeNode(4)\n",
        "root2.right.right = TreeNode(2)\n",
        "root2.right.right.left = TreeNode(9)\n",
        "root2.right.right.right = TreeNode(8)\n",
        "\n",
        "print(sol.leaf_similar(root1, root2))  # Output: True\n",
        "\n",
        "root1 = TreeNode(1, TreeNode(2), TreeNode(3))\n",
        "root2 = TreeNode(1, TreeNode(3), TreeNode(2))\n",
        "print(sol.leaf_similar(root1, root2))\n",
        "# Expected output: False\n",
        "root1 = TreeNode(0)\n",
        "root2 = TreeNode(0)\n",
        "print(sol.leaf_similar(root1, root2))\n",
        "# Expected output: True\n",
        "root1 = TreeNode(100, TreeNode(50), TreeNode(200))\n",
        "root2 = TreeNode(100, TreeNode(50), TreeNode(200))\n",
        "print(sol.leaf_similar(root1, root2))\n",
        "# Expected output: True\n",
        "root1 = TreeNode(10, TreeNode(5, TreeNode(2), TreeNode(7)), TreeNode(15))\n",
        "root2 = TreeNode(10, TreeNode(5, TreeNode(2), TreeNode(7)), TreeNode(15, TreeNode(1)))\n",
        "print(sol.leaf_similar(root1, root2))\n",
        "# Expected output: False"
      ]
    },
    {
      "cell_type": "markdown",
      "source": [
        "## [1448. Count Good Nodes in Binary Tree](https://leetcode.com/problems/count-good-nodes-in-binary-tree/?envType=study-plan-v2&envId=leetcode-75)"
      ],
      "metadata": {
        "id": "1HA12ETs0BiC"
      }
    },
    {
      "cell_type": "code",
      "execution_count": null,
      "metadata": {
        "id": "Ril4bz_HSoSk",
        "colab": {
          "base_uri": "https://localhost:8080/"
        },
        "outputId": "a5db37ba-69fe-46c5-a7e6-3093167eb119"
      },
      "outputs": [
        {
          "output_type": "stream",
          "name": "stdout",
          "text": [
            "4\n",
            "3\n",
            "1\n",
            "1\n",
            "3\n"
          ]
        }
      ],
      "source": [
        "from IPython.core.interactiveshell import Optional\n",
        "from typing import List\n",
        "\n",
        "# Definition for a binary tree node.\n",
        "class TreeNode:\n",
        "    def __init__(self, val=0, left=None, right=None):\n",
        "        self.val = val\n",
        "        self.left = left\n",
        "        self.right = right\n",
        "\n",
        "class Solution:\n",
        "    def good_nodes(self, root: TreeNode) -> int:\n",
        "        def traverse(node: Optional[TreeNode], prev_sum: int) -> int:\n",
        "            if node is None:\n",
        "                return 0\n",
        "\n",
        "            good_nodes = 1 if node.val >= prev_sum else 0\n",
        "            curr_sum = max(prev_sum, node.val)\n",
        "\n",
        "            good_nodes += traverse(node.left, curr_sum)\n",
        "            good_nodes += traverse(node.right, curr_sum)\n",
        "\n",
        "            return good_nodes\n",
        "\n",
        "        return traverse(root, float('-inf'))\n",
        "\n",
        "if __name__ == '__main__':\n",
        "    # Test Case 1\n",
        "    # Input:\n",
        "    #    3\n",
        "    #   / \\\n",
        "    #  1   4\n",
        "    # /   / \\\n",
        "    #3   1   5\n",
        "    # Output: 4\n",
        "    root1 = TreeNode(3)\n",
        "    root1.left = TreeNode(1)\n",
        "    root1.right = TreeNode(4)\n",
        "    root1.left.left = TreeNode(3)\n",
        "    root1.right.left = TreeNode(1)\n",
        "    root1.right.right = TreeNode(5)\n",
        "\n",
        "    # Test Case 2\n",
        "    # Input:\n",
        "    #    3\n",
        "    #   / \\\n",
        "    #  3  None\n",
        "    #  /\\\n",
        "    # 4  2\n",
        "    # Output: 3\n",
        "    root2 = TreeNode(3)\n",
        "    root2.left = TreeNode(3)\n",
        "    root2.left.left = TreeNode(4)\n",
        "    root2.left.right = TreeNode(2)\n",
        "\n",
        "    # Test Case 3\n",
        "    # Input:\n",
        "    #   1\n",
        "    # Output: 1\n",
        "    root3 = TreeNode(1)\n",
        "\n",
        "    # Test Case 4\n",
        "    # Input:\n",
        "    #    5\n",
        "    #   / \\\n",
        "    #  1   2\n",
        "    # Output: 2\n",
        "    root4 = TreeNode(5)\n",
        "    root4.left = TreeNode(1)\n",
        "    root4.right = TreeNode(2)\n",
        "\n",
        "    # Test Case 5\n",
        "    # Input:\n",
        "    #        4\n",
        "    #       / \\\n",
        "    #      3   5\n",
        "    #     /   / \\\n",
        "    #    2   1   6\n",
        "    #   /\n",
        "    #  1\n",
        "    # Output: 3\n",
        "    root5 = TreeNode(4)\n",
        "    root5.left = TreeNode(3)\n",
        "    root5.right = TreeNode(5)\n",
        "    root5.left.left = TreeNode(2)\n",
        "    root5.right.left = TreeNode(1)\n",
        "    root5.right.right = TreeNode(6)\n",
        "    root5.left.left.left = TreeNode(1)\n",
        "\n",
        "    # Additional Test Cases\n",
        "    # ...\n",
        "\n",
        "    # Perform the test and print the output\n",
        "    sol = Solution()\n",
        "    print(sol.good_nodes(root1))  # Output: 4\n",
        "    print(sol.good_nodes(root2))  # Output: 3\n",
        "    print(sol.good_nodes(root3))  # Output: 1\n",
        "    print(sol.good_nodes(root4))  # Output: 2\n",
        "    print(sol.good_nodes(root5))  # Output: 4\n"
      ]
    },
    {
      "cell_type": "markdown",
      "source": [
        "## [437. Path Sum III](https://leetcode.com/problems/path-sum-iii/?envType=study-plan-v2&envId=leetcode-75)"
      ],
      "metadata": {
        "id": "XcIxWSezsetg"
      }
    },
    {
      "cell_type": "code",
      "source": [
        "from IPython.core.interactiveshell import Optional\n",
        "from collections import defaultdict\n",
        "\n",
        "# Tree:\n",
        "#     10\n",
        "#    /  \\\n",
        "#   5   -3\n",
        "#  / \\    \\\n",
        "# 3   2    11\n",
        "# / \\   \\\n",
        "#3  -2   1\n",
        "# Target sum: 8 # Paths that sum to 8: [5, 3], [5, 2, 1], [3, 2, 3]\n",
        "\n",
        "# Tree:\n",
        "#     5\n",
        "#    / \\\n",
        "#   4   8\n",
        "#  /   / \\\n",
        "# 11  13  4\n",
        "# /  \\    / \\\n",
        "#7    2  5   1\n",
        "# Target sum: 22 # Paths that sum to 22: [5, 4, 11, 2], [5, 8, 4, 5]\n",
        "\n",
        "# Definition for a binary tree node.\n",
        "class TreeNode:\n",
        "    def __init__(self, val=0, left=None, right=None):\n",
        "        self.val = val\n",
        "        self.left = left\n",
        "        self.right = right\n",
        "\n",
        "def pathSum(root: Optional[TreeNode], targetSum: int) -> int:\n",
        "    sums_freq = defaultdict(int)\n",
        "    sums_freq[0] = 1\n",
        "\n",
        "    def dfs(node: Optional[TreeNode], prev: int) -> int:\n",
        "        if node is None:\n",
        "            return 0\n",
        "        print(node.val, end=' ')\n",
        "\n",
        "        count = 0\n",
        "        prev += node.val\n",
        "        count = sums_freq[prev - targetSum]\n",
        "\n",
        "        sums_freq[prev] += 1  # Record prefix sum value.\n",
        "        count += dfs(node.left, prev) + dfs(node.right, prev)  # Explore child nodes.\n",
        "        sums_freq[prev] -= 1  # Path has been explored, so remove this prefix sum value.\n",
        "\n",
        "        return count\n",
        "\n",
        "    return dfs(root, 0)\n",
        "\n",
        "def tree_from_array(arr) -> Optional[TreeNode]:\n",
        "    if not arr or arr[0] is None:\n",
        "        return None\n",
        "\n",
        "    root = TreeNode(arr[0])\n",
        "    queue = [root]\n",
        "    i = 1\n",
        "    while queue and i < len(arr):\n",
        "        node = queue.pop(0)\n",
        "\n",
        "        if arr[i] is not None:\n",
        "            node.left = TreeNode(arr[i])\n",
        "            queue.append(node.left)\n",
        "        i += 1\n",
        "\n",
        "        if i < len(arr) and arr[i] is not None:\n",
        "            node.right = TreeNode(arr[i])\n",
        "            queue.append(node.right)\n",
        "        i += 1\n",
        "\n",
        "    return root\n",
        "\n",
        "\n",
        "def main():\n",
        "    test_cases = [\n",
        "        ([10, 5, -3, 3, 2, None, 11, 3, -2, None, 1], 8, 3),\n",
        "        ([5, 4, 8, 11, None, 13, 4, 7, 2, None, None, 5, 1], 22, 2),\n",
        "    ]\n",
        "\n",
        "    for arr, targetSum, expected_output in test_cases:\n",
        "        root = tree_from_array(arr)\n",
        "        output = pathSum(root, targetSum)\n",
        "        print()\n",
        "        print(output == expected_output)\n",
        "\n",
        "if __name__ == '__main__':\n",
        "    main()"
      ],
      "metadata": {
        "id": "W8RZFcWE0WV5",
        "colab": {
          "base_uri": "https://localhost:8080/"
        },
        "outputId": "77505531-da8a-407a-b787-0ebb93ceef24"
      },
      "execution_count": null,
      "outputs": [
        {
          "output_type": "stream",
          "name": "stdout",
          "text": [
            "10 5 3 3 -2 2 1 -3 11 \n",
            "True\n",
            "5 4 11 7 2 8 13 4 5 1 \n",
            "False\n"
          ]
        }
      ]
    },
    {
      "cell_type": "markdown",
      "source": [
        "## [1372. Longest ZigZag Path in a Binary Tree](https://leetcode.com/problems/longest-zigzag-path-in-a-binary-tree/?envType=study-plan-v2&envId=leetcode-75)"
      ],
      "metadata": {
        "id": "bt7qfZMktRI0"
      }
    },
    {
      "cell_type": "code",
      "source": [
        "from IPython.core.interactiveshell import Optional\n",
        "from collections import defaultdict\n",
        "\n",
        "# Definition for a binary tree node.\n",
        "class TreeNode:\n",
        "    def __init__(self, val=0, left=None, right=None):\n",
        "        self.val = val\n",
        "        self.left = left\n",
        "        self.right = right\n",
        "\n",
        "class Solution:\n",
        "    def longestZigZag(self, root: Optional[TreeNode]) -> int:\n",
        "        return 1"
      ],
      "metadata": {
        "id": "xMYsCgmTs-OK"
      },
      "execution_count": null,
      "outputs": []
    }
  ],
  "metadata": {
    "colab": {
      "collapsed_sections": [
        "vEIySkbG19gB",
        "UJp6B79kFAFy",
        "-xUmMKenEh2k",
        "uBsphqiTXzvY",
        "5NYhOoM-jyZI",
        "6QnSf3RDx17V",
        "2qaOHem2tOzn",
        "89Isi4VLLi_E",
        "5yU2U29LlW-c",
        "JNGbwE9C-A7j",
        "Ow1dqxx72KVb",
        "6ukJMrEVgDui",
        "2s60EQqD7_ag",
        "VEv6CM9Wyb2A",
        "0v64pYlbL_Uw",
        "7i63oMOw1r5w",
        "HJ3zdLGaliTy",
        "0V27qKGnaWC8",
        "2GnB2mpLHmj0",
        "KAA0TyTR4Zhr",
        "-QRMvs13TGbk",
        "j7daRWjgSY-C",
        "59upkvPcSgxa",
        "EVwUuvswTCHu",
        "3-rEIkXiSosD",
        "VdOu15QhSt6T",
        "db9YEVgSMYJ-",
        "WLc2Jw1Kp6m3",
        "8EcRlJotS-EE",
        "3VeYcItDTHdP",
        "DsGnVxb0xsFt",
        "Ml16-Z5y1JVf",
        "MrQ7ASRf2uPe",
        "ni7vBMVOJfSe",
        "1lFjdfYIErNO",
        "jjIc9FxyJur2",
        "PPC6xgN-J2DB",
        "d8LSC2Zfwdm3",
        "pLrVVSE9B_9F",
        "2XZQh6emfMOC",
        "EYw5nv3xV0QD",
        "gHqGf4GgafIf",
        "1HA12ETs0BiC"
      ],
      "provenance": [],
      "toc_visible": true,
      "include_colab_link": true
    },
    "kernelspec": {
      "display_name": "Python 3",
      "name": "python3"
    },
    "language_info": {
      "name": "python"
    }
  },
  "nbformat": 4,
  "nbformat_minor": 0
}