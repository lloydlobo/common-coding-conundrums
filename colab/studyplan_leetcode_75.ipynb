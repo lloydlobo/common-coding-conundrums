{
  "nbformat": 4,
  "nbformat_minor": 0,
  "metadata": {
    "colab": {
      "provenance": [],
      "authorship_tag": "ABX9TyM4yXgXwmYFj4yijInKmWdT",
      "include_colab_link": true
    },
    "kernelspec": {
      "name": "python3",
      "display_name": "Python 3"
    },
    "language_info": {
      "name": "python"
    }
  },
  "cells": [
    {
      "cell_type": "markdown",
      "metadata": {
        "id": "view-in-github",
        "colab_type": "text"
      },
      "source": [
        "<a href=\"https://colab.research.google.com/github/lloydlobo/common-coding-conundrums/blob/main/colab/studyplan_leetcode_75.ipynb\" target=\"_parent\"><img src=\"https://colab.research.google.com/assets/colab-badge.svg\" alt=\"Open In Colab\"/></a>"
      ]
    },
    {
      "cell_type": "markdown",
      "source": [
        "https://leetcode.com/studyplan/leetcode-75/"
      ],
      "metadata": {
        "id": "9vXCxn2f85I2"
      }
    },
    {
      "cell_type": "markdown",
      "source": [
        "## [1768. Merge Strings Alternately](https://leetcode.com/problems/merge-strings-alternately/?envType=study-plan-v2&envId=leetcode-75)"
      ],
      "metadata": {
        "id": "UJp6B79kFAFy"
      }
    },
    {
      "cell_type": "code",
      "execution_count": 74,
      "metadata": {
        "id": "ywCJ6lS66HwD",
        "colab": {
          "base_uri": "https://localhost:8080/"
        },
        "outputId": "da002ce9-0d59-4357-b17c-2e3248c16ee8"
      },
      "outputs": [
        {
          "output_type": "stream",
          "name": "stdout",
          "text": [
            "aubvcwxyz\n"
          ]
        }
      ],
      "source": [
        "def merge_alternatively(word1:str,word2:str) -> str:\n",
        "  n_w1, n_w2 = len(word1), len(word2)\n",
        "  n_max = max(n_w1,n_w2)\n",
        "  result = []\n",
        "  \n",
        "  for i in range(n_max):\n",
        "    if i < n_w1:\n",
        "      result.append(word1[i])\n",
        "    if i < n_w2:\n",
        "      result.append(word2[i])\n",
        "\n",
        "  return \"\".join(result)\n",
        "\n",
        "if __name__ == \"__main__\":\n",
        "  result = merge_alternatively(\"abc\", \"uvwxyz\")\n",
        "  print(f\"{result}\") # aubvcwxyz."
      ]
    },
    {
      "cell_type": "markdown",
      "source": [
        "## [1071. Greatest Common Divisor of Strings](https://leetcode.com/problems/greatest-common-divisor-of-strings/?envType=study-plan-v2&envId=leetcode-75)"
      ],
      "metadata": {
        "id": "-xUmMKenEh2k"
      }
    },
    {
      "cell_type": "code",
      "source": [
        "def gcd_of_strings(str1:str,str2:str) -> bool:\n",
        "  nstr1,nstr2=len(str1),len(str2)\n",
        "  shortest = min(nstr1,nstr2)\n",
        "  longest=max(nstr1,nstr2)\n",
        "  \n",
        "  numerator, divisor = \"\", \"\"\n",
        "  if nstr1==shortest:\n",
        "    numerator,divisor=str2,str1\n",
        "  elif nstr2==shortest:\n",
        "    numerator,divisor=str1,str2\n",
        "  \n",
        "  for i in range(longest):\n",
        "    if numerator[i] != divisor[i % shortest]:\n",
        "      return False\n",
        "\n",
        "  return True\n",
        "\n",
        "if __name__ == \"__main__\":\n",
        "  result = gcd_of_strings(\"abcabcabc\", \"abc\")\n",
        "  print(f\"{result}\") # True.\n",
        "  result = gcd_of_strings(\"abababab\", \"abab\")\n",
        "  print(f\"{result}\") # True.\n"
      ],
      "metadata": {
        "id": "jpex0pYkEhTF",
        "colab": {
          "base_uri": "https://localhost:8080/"
        },
        "outputId": "54ec079c-4f76-4952-c96f-e78096ce4ed3"
      },
      "execution_count": 75,
      "outputs": [
        {
          "output_type": "stream",
          "name": "stdout",
          "text": [
            "True\n",
            "True\n"
          ]
        }
      ]
    },
    {
      "cell_type": "markdown",
      "source": [
        "## [1431. Kids With the Greatest Number of Candies](https://leetcode.com/problems/kids-with-the-greatest-number-of-candies/?envType=study-plan-v2&envId=leetcode-75)"
      ],
      "metadata": {
        "id": "uBsphqiTXzvY"
      }
    },
    {
      "cell_type": "code",
      "source": [
        "#@title\n",
        "from typing import List\n",
        "\n",
        "def kids_with_candies(candies: List[int], extra_candies: int) -> List[bool]:\n",
        "  max_candies = max(candies)\n",
        "  # res: List[bool] = []\n",
        "  # for curr in candies:\n",
        "  #  if curr + extra_candies >= max_candies:\n",
        "  #      res.append(True)\n",
        "  #  else:\n",
        "  #      res.append(False)\n",
        "  # return res\n",
        "  return [candy + extra_candies >= max_candies for candy in candies]\n",
        "\n",
        "\n",
        "if __name__ == \"__main__\":\n",
        "  result = kids_with_candies(candies=[2,3,5,1,3], extra_candies=3) \n",
        "  print(f\"{result}\") # [True, True, True, False, True]."
      ],
      "metadata": {
        "id": "ZTfjJ0sqJvYn",
        "colab": {
          "base_uri": "https://localhost:8080/"
        },
        "outputId": "ca9936b7-5233-47d4-d467-3249cee881a2"
      },
      "execution_count": 76,
      "outputs": [
        {
          "output_type": "stream",
          "name": "stdout",
          "text": [
            "[True, True, True, False, True]\n"
          ]
        }
      ]
    },
    {
      "cell_type": "markdown",
      "source": [
        "## [605. Can Place Flowers](https://leetcode.com/problems/can-place-flowers/?envType=study-plan-v2&envId=leetcode-75)"
      ],
      "metadata": {
        "id": "5NYhOoM-jyZI"
      }
    },
    {
      "cell_type": "code",
      "source": [
        "from typing import List\n",
        "\n",
        "# flowerbed[i] is 0 or 1.\n",
        "# There are no two adjacent flowers in flowerbed.\n",
        "def can_place_flowers(flowerbed: List[int], n: int) -> bool:\n",
        "    count = 0\n",
        "    n = len(flowerbed)\n",
        "    \n",
        "    for i in range(n):\n",
        "        if (\n",
        "            flowerbed[i] == 0 and\n",
        "            (i == 0 or flowerbed[i - 1] == 0) and\n",
        "            (i == n - 1 or flowerbed[i + 1] == 0)\n",
        "        ):\n",
        "            count += 1\n",
        "            flowerbed[i] = 1  # Mark the position as occupied to prevent adjacent placements.        \n",
        "            if count >= n:\n",
        "                return True\n",
        "      \n",
        "    return False\n",
        "\n",
        "if __name__ == \"__main__\":\n",
        "    # Test cases\n",
        "    print(can_place_flowers(flowerbed=[1, 0, 0, 0, 1], n=1))  # True\n",
        "    print(can_place_flowers(flowerbed=[1, 0, 0, 0, 1], n=2))  # False\n"
      ],
      "metadata": {
        "id": "NWRVdMVXou6s",
        "colab": {
          "base_uri": "https://localhost:8080/"
        },
        "outputId": "b26f816b-d501-4dea-e1ba-6956e38c7e55"
      },
      "execution_count": 77,
      "outputs": [
        {
          "output_type": "stream",
          "name": "stdout",
          "text": [
            "False\n",
            "False\n"
          ]
        }
      ]
    },
    {
      "cell_type": "markdown",
      "source": [
        "## [345. Reverse Vowels of a String](https://leetcode.com/problems/reverse-vowels-of-a-string/?envType=study-plan-v2&envId=leetcode-75)"
      ],
      "metadata": {
        "id": "6QnSf3RDx17V"
      }
    },
    {
      "cell_type": "code",
      "source": [
        "#@title\n",
        "from typing import List, Set\n",
        "\n",
        "# The two-pointer approach is employed to swap vowels in a string by traversing the string from both ends using the start and end pointers. This technique allows for an in-place reversal of the vowels without the need for additional data structures.\n",
        "def reverse_vowels(s: str) -> str:\n",
        "  vowels: Set[str] = set(\"aeiou\")\n",
        "  arr: List[str] = list(s)\n",
        "  start, end = 0, len(arr)-1\n",
        "\n",
        "  while start < end:\n",
        "    if arr[start] in vowels and arr[end] in vowels:\n",
        "      arr[start],arr[end] = arr[end],arr[start]\n",
        "      start+=1\n",
        "      end-=1\n",
        "    elif arr[start] in vowels:\n",
        "      end-=1\n",
        "    else:\n",
        "      start+=1\n",
        "    \n",
        "  return \"\".join(arr)\n",
        "\n",
        "if __name__ == \"__main__\":\n",
        "  print(reverse_vowels(\"leetcode\")) # leotcede."
      ],
      "metadata": {
        "colab": {
          "base_uri": "https://localhost:8080/"
        },
        "collapsed": true,
        "id": "Z5BcswLSu_S7",
        "outputId": "e0e6fe4b-7b24-4a0f-8c04-65f01f1e161b"
      },
      "execution_count": 78,
      "outputs": [
        {
          "output_type": "stream",
          "name": "stdout",
          "text": [
            "leotcede\n"
          ]
        }
      ]
    },
    {
      "cell_type": "markdown",
      "source": [
        "## [151. Reverse Words in a String](https://leetcode.com/problems/reverse-words-in-a-string/?envType=study-plan-v2&envId=leetcode-75)"
      ],
      "metadata": {
        "id": "2qaOHem2tOzn"
      }
    },
    {
      "cell_type": "code",
      "source": [
        "from typing import List \n",
        "def reverse_string(s: str)-> str:\n",
        "  arr: List[str] = s.strip().split(' ')\n",
        "  arr = [x.strip() for x in arr if len(x) > 0]\n",
        "  arr.reverse()\n",
        "  return \" \".join(arr)\n",
        "\n",
        "\n",
        "if __name__ == \"__main__\":\n",
        "  testcases = [' hello world', 'the sky is blue', 'a   good example' ]\n",
        "  for test in testcases:\n",
        "    print(reverse_string(test))  # world hello.\n",
        "\n"
      ],
      "metadata": {
        "id": "K7zkWyRTteDg",
        "colab": {
          "base_uri": "https://localhost:8080/"
        },
        "outputId": "ab8a201c-fd99-49b6-e45d-f3bdde14218e"
      },
      "execution_count": 79,
      "outputs": [
        {
          "output_type": "stream",
          "name": "stdout",
          "text": [
            "world hello\n",
            "blue is sky the\n",
            "example good a\n"
          ]
        }
      ]
    },
    {
      "cell_type": "markdown",
      "source": [
        "## [238. Product of Array Except Self](https://leetcode.com/problems/product-of-array-except-self/?envType=study-plan-v2&envId=leetcode-75)"
      ],
      "metadata": {
        "id": "89Isi4VLLi_E"
      }
    },
    {
      "cell_type": "code",
      "source": [
        "from typing import List\n",
        "\n",
        "# Without using division operator.\n",
        "def product_except_self(arr: List[int]) -> List[int]:\n",
        "  len_arr = len(arr)\n",
        "  cache: List[int] = [1] * len_arr\n",
        "  for i in range(len_arr):\n",
        "    for j in range(len_arr):\n",
        "      if i != j:\n",
        "        cache[i] *= arr[j]\n",
        "\n",
        "  return cache \n",
        "\n",
        "\n",
        "if __name__ == \"__main__\":\n",
        "  testcases = [[1,2,3], [2,4,5], [-1,1,0,-3,3]]. # [6, 3, 2], [20, 10, 8], [0, 0, 9, 0, 0]\n",
        "  for test in testcases:\n",
        "    print(product_except_self(test))"
      ],
      "metadata": {
        "colab": {
          "base_uri": "https://localhost:8080/"
        },
        "id": "7HtMYy9PLlFR",
        "outputId": "b3e5f44f-165c-4aeb-8a5f-d60abe21011e"
      },
      "execution_count": 80,
      "outputs": [
        {
          "output_type": "stream",
          "name": "stdout",
          "text": [
            "[6, 3, 2]\n",
            "[20, 10, 8]\n",
            "[0, 0, 9, 0, 0]\n"
          ]
        }
      ]
    },
    {
      "cell_type": "markdown",
      "source": [
        "## [334. Increasing Triplet Subsequence](https://leetcode.com/problems/increasing-triplet-subsequence/?envType=study-plan-v2&envId=leetcode-75)\n",
        "\n"
      ],
      "metadata": {
        "id": "5yU2U29LlW-c"
      }
    },
    {
      "cell_type": "code",
      "source": [
        "def increasing_triplet(nums: List[int]) -> bool: \n",
        "  n = len(nums)\n",
        "  for i in range(n - 2):\n",
        "    if nums[i] < nums[i + 1] < nums[i + 2]:\n",
        "        return True\n",
        "\n",
        "  return False\n",
        "\n",
        "\n",
        "if __name__ == \"__main__\":\n",
        "  testcases = [[1,2,3,4,5], [5,4,3,2,1], [2,1,5,0,4,6]]  # True, False, True.\n",
        "  for test in testcases:\n",
        "    print(increasing_triplet(test))"
      ],
      "metadata": {
        "id": "SSoD6zlcSv5G",
        "colab": {
          "base_uri": "https://localhost:8080/"
        },
        "outputId": "90968636-52d1-449a-9db8-b1c4cc787779"
      },
      "execution_count": 81,
      "outputs": [
        {
          "output_type": "stream",
          "name": "stdout",
          "text": [
            "True\n",
            "False\n",
            "True\n"
          ]
        }
      ]
    }
  ]
}