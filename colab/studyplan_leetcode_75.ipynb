{
  "nbformat": 4,
  "nbformat_minor": 0,
  "metadata": {
    "colab": {
      "provenance": [],
      "authorship_tag": "ABX9TyPsaej+D8rCUagYap5sIj5F",
      "include_colab_link": true
    },
    "kernelspec": {
      "name": "python3",
      "display_name": "Python 3"
    },
    "language_info": {
      "name": "python"
    }
  },
  "cells": [
    {
      "cell_type": "markdown",
      "metadata": {
        "id": "view-in-github",
        "colab_type": "text"
      },
      "source": [
        "<a href=\"https://colab.research.google.com/github/lloydlobo/common-coding-conundrums/blob/main/colab/studyplan_leetcode_75.ipynb\" target=\"_parent\"><img src=\"https://colab.research.google.com/assets/colab-badge.svg\" alt=\"Open In Colab\"/></a>"
      ]
    },
    {
      "cell_type": "markdown",
      "source": [
        "https://leetcode.com/studyplan/leetcode-75/"
      ],
      "metadata": {
        "id": "9vXCxn2f85I2"
      }
    },
    {
      "cell_type": "markdown",
      "source": [
        "## [1768. Merge Strings Alternately](https://leetcode.com/problems/merge-strings-alternately/?envType=study-plan-v2&envId=leetcode-75)"
      ],
      "metadata": {
        "id": "UJp6B79kFAFy"
      }
    },
    {
      "cell_type": "code",
      "execution_count": null,
      "metadata": {
        "id": "ywCJ6lS66HwD",
        "colab": {
          "base_uri": "https://localhost:8080/"
        },
        "outputId": "dd38e8b6-df14-4768-8855-8de3f13c3488"
      },
      "outputs": [
        {
          "output_type": "stream",
          "name": "stdout",
          "text": [
            "aubvcwxyz\n"
          ]
        }
      ],
      "source": [
        "def merge_alternatively(word1:str,word2:str) -> str:\n",
        "  n_w1, n_w2 = len(word1), len(word2)\n",
        "  n_max = max(n_w1,n_w2)\n",
        "  result = []\n",
        "  \n",
        "  for i in range(n_max):\n",
        "    if i < n_w1:\n",
        "      result.append(word1[i])\n",
        "    if i < n_w2:\n",
        "      result.append(word2[i])\n",
        "\n",
        "  return \"\".join(result)\n",
        "\n",
        "if __name__ == \"__main__\":\n",
        "  result = merge_alternatively(\"abc\", \"uvwxyz\")\n",
        "  print(f\"{result}\") # aubvcwxyz."
      ]
    },
    {
      "cell_type": "markdown",
      "source": [
        "## [1071. Greatest Common Divisor of Strings](https://leetcode.com/problems/greatest-common-divisor-of-strings/?envType=study-plan-v2&envId=leetcode-75)"
      ],
      "metadata": {
        "id": "-xUmMKenEh2k"
      }
    },
    {
      "cell_type": "code",
      "source": [
        "def gcd_of_strings(str1:str,str2:str) -> bool:\n",
        "  nstr1,nstr2=len(str1),len(str2)\n",
        "  shortest = min(nstr1,nstr2)\n",
        "  longest=max(nstr1,nstr2)\n",
        "  \n",
        "  numerator, divisor = \"\", \"\"\n",
        "  if nstr1==shortest:\n",
        "    numerator,divisor=str2,str1\n",
        "  elif nstr2==shortest:\n",
        "    numerator,divisor=str1,str2\n",
        "  \n",
        "  for i in range(longest):\n",
        "    if numerator[i] != divisor[i % shortest]:\n",
        "      return False\n",
        "\n",
        "  return True\n",
        "\n",
        "if __name__ == \"__main__\":\n",
        "  result = gcd_of_strings(\"abcabcabc\", \"abc\")\n",
        "  print(f\"{result}\") # True.\n",
        "  result = gcd_of_strings(\"abababab\", \"abab\")\n",
        "  print(f\"{result}\") # True.\n"
      ],
      "metadata": {
        "id": "jpex0pYkEhTF",
        "colab": {
          "base_uri": "https://localhost:8080/"
        },
        "outputId": "8de73d2d-83e0-489c-8e3a-004ffd5829cc"
      },
      "execution_count": null,
      "outputs": [
        {
          "output_type": "stream",
          "name": "stdout",
          "text": [
            "True\n",
            "True\n"
          ]
        }
      ]
    },
    {
      "cell_type": "markdown",
      "source": [
        "## [1431. Kids With the Greatest Number of Candies](https://leetcode.com/problems/kids-with-the-greatest-number-of-candies/?envType=study-plan-v2&envId=leetcode-75)"
      ],
      "metadata": {
        "id": "uBsphqiTXzvY"
      }
    },
    {
      "cell_type": "code",
      "source": [
        "#@title\n",
        "from typing import List\n",
        "\n",
        "def kids_with_candies(candies: List[int], extra_candies: int) -> List[bool]:\n",
        "  max_candies = max(candies)\n",
        "  # res: List[bool] = []\n",
        "  # for curr in candies:\n",
        "  #  if curr + extra_candies >= max_candies:\n",
        "  #      res.append(True)\n",
        "  #  else:\n",
        "  #      res.append(False)\n",
        "  # return res\n",
        "  return [candy + extra_candies >= max_candies for candy in candies]\n",
        "\n",
        "\n",
        "if __name__ == \"__main__\":\n",
        "  result = kids_with_candies(candies=[2,3,5,1,3], extra_candies=3) \n",
        "  print(f\"{result}\") # [True, True, True, False, True]."
      ],
      "metadata": {
        "id": "ZTfjJ0sqJvYn",
        "colab": {
          "base_uri": "https://localhost:8080/"
        },
        "outputId": "be3b6e0a-b4c6-4c0b-db4b-a8c8290a232a"
      },
      "execution_count": null,
      "outputs": [
        {
          "output_type": "stream",
          "name": "stdout",
          "text": [
            "[True, True, True, False, True]\n"
          ]
        }
      ]
    },
    {
      "cell_type": "markdown",
      "source": [
        "## [605. Can Place Flowers](https://leetcode.com/problems/can-place-flowers/?envType=study-plan-v2&envId=leetcode-75)"
      ],
      "metadata": {
        "id": "5NYhOoM-jyZI"
      }
    },
    {
      "cell_type": "code",
      "source": [
        "from typing import List\n",
        "\n",
        "# flowerbed[i] is 0 or 1.\n",
        "# There are no two adjacent flowers in flowerbed.\n",
        "def can_place_flowers(flowerbed: List[int], n: int) -> bool:\n",
        "    count = 0\n",
        "    n = len(flowerbed)\n",
        "    \n",
        "    for i in range(n):\n",
        "        if (\n",
        "            flowerbed[i] == 0 and\n",
        "            (i == 0 or flowerbed[i - 1] == 0) and\n",
        "            (i == n - 1 or flowerbed[i + 1] == 0)\n",
        "        ):\n",
        "            count += 1\n",
        "            flowerbed[i] = 1  # Mark the position as occupied to prevent adjacent placements.        \n",
        "            if count >= n:\n",
        "                return True\n",
        "      \n",
        "    return False\n",
        "\n",
        "if __name__ == \"__main__\":\n",
        "    # Test cases\n",
        "    print(can_place_flowers(flowerbed=[1, 0, 0, 0, 1], n=1))  # True\n",
        "    print(can_place_flowers(flowerbed=[1, 0, 0, 0, 1], n=2))  # False\n"
      ],
      "metadata": {
        "id": "NWRVdMVXou6s",
        "colab": {
          "base_uri": "https://localhost:8080/"
        },
        "outputId": "d1bf6c6e-1aa1-4679-a784-db61a105020d"
      },
      "execution_count": null,
      "outputs": [
        {
          "output_type": "stream",
          "name": "stdout",
          "text": [
            "False\n",
            "False\n"
          ]
        }
      ]
    },
    {
      "cell_type": "markdown",
      "source": [
        "## [345. Reverse Vowels of a String](https://leetcode.com/problems/reverse-vowels-of-a-string/?envType=study-plan-v2&envId=leetcode-75)"
      ],
      "metadata": {
        "id": "6QnSf3RDx17V"
      }
    },
    {
      "cell_type": "code",
      "source": [
        "#@title\n",
        "from typing import List, Set\n",
        "\n",
        "# The two-pointer approach is employed to swap vowels in a string by traversing the string from both ends using the start and end pointers. This technique allows for an in-place reversal of the vowels without the need for additional data structures.\n",
        "def reverse_vowels(s: str) -> str:\n",
        "  vowels: Set[str] = set(\"aeiou\")\n",
        "  arr: List[str] = list(s)\n",
        "  start, end = 0, len(arr)-1\n",
        "\n",
        "  while start < end:\n",
        "    if arr[start] in vowels and arr[end] in vowels:\n",
        "      arr[start],arr[end] = arr[end],arr[start]\n",
        "      start+=1\n",
        "      end-=1\n",
        "    elif arr[start] in vowels:\n",
        "      end-=1\n",
        "    else:\n",
        "      start+=1\n",
        "    \n",
        "  return \"\".join(arr)\n",
        "\n",
        "if __name__ == \"__main__\":\n",
        "  print(reverse_vowels(\"leetcode\")) # leotcede."
      ],
      "metadata": {
        "colab": {
          "base_uri": "https://localhost:8080/"
        },
        "collapsed": true,
        "id": "Z5BcswLSu_S7",
        "outputId": "d767789d-76a5-49a5-d6d8-9faef4a9ad45"
      },
      "execution_count": null,
      "outputs": [
        {
          "output_type": "stream",
          "name": "stdout",
          "text": [
            "leotcede\n"
          ]
        }
      ]
    },
    {
      "cell_type": "markdown",
      "source": [
        "## [151. Reverse Words in a String](https://leetcode.com/problems/reverse-words-in-a-string/?envType=study-plan-v2&envId=leetcode-75)"
      ],
      "metadata": {
        "id": "2qaOHem2tOzn"
      }
    },
    {
      "cell_type": "code",
      "source": [
        "from typing import List \n",
        "def reverse_string(s: str)-> str:\n",
        "  arr: List[str] = s.strip().split(' ')\n",
        "  arr = [x.strip() for x in arr if len(x) > 0]\n",
        "  arr.reverse()\n",
        "  return \" \".join(arr)\n",
        "\n",
        "\n",
        "if __name__ == \"__main__\":\n",
        "  testcases = [' hello world', 'the sky is blue', 'a   good example' ]\n",
        "  for test in testcases:\n",
        "    print(reverse_string(test))  # world hello.\n",
        "\n"
      ],
      "metadata": {
        "id": "K7zkWyRTteDg",
        "colab": {
          "base_uri": "https://localhost:8080/"
        },
        "outputId": "7b43326f-1662-4581-ce6a-b2f53ef9fdf2"
      },
      "execution_count": null,
      "outputs": [
        {
          "output_type": "stream",
          "name": "stdout",
          "text": [
            "world hello\n",
            "blue is sky the\n",
            "example good a\n"
          ]
        }
      ]
    },
    {
      "cell_type": "markdown",
      "source": [
        "## [238. Product of Array Except Self](https://leetcode.com/problems/product-of-array-except-self/?envType=study-plan-v2&envId=leetcode-75)"
      ],
      "metadata": {
        "id": "89Isi4VLLi_E"
      }
    },
    {
      "cell_type": "code",
      "source": [
        "from typing import List\n",
        "\n",
        "# Without using division operator.\n",
        "def product_except_self(arr: List[int]) -> List[int]:\n",
        "  len_arr = len(arr)\n",
        "  cache: List[int] = [1] * len_arr\n",
        "  for i in range(len_arr):\n",
        "    for j in range(len_arr):\n",
        "      if i != j:\n",
        "        cache[i] *= arr[j]\n",
        "\n",
        "  return cache \n",
        "\n",
        "\n",
        "if __name__ == \"__main__\":\n",
        "  testcases = [[1,2,3], [2,4,5], [-1,1,0,-3,3]]  # [6, 3, 2], [20, 10, 8], [0, 0, 9, 0, 0]\n",
        "  for test in testcases:\n",
        "    print(product_except_self(test))"
      ],
      "metadata": {
        "colab": {
          "base_uri": "https://localhost:8080/"
        },
        "id": "7HtMYy9PLlFR",
        "outputId": "94db79ea-3c45-4772-de53-f14b6b703090"
      },
      "execution_count": null,
      "outputs": [
        {
          "output_type": "stream",
          "name": "stdout",
          "text": [
            "[6, 3, 2]\n",
            "[20, 10, 8]\n",
            "[0, 0, 9, 0, 0]\n"
          ]
        }
      ]
    },
    {
      "cell_type": "markdown",
      "source": [
        "## [334. Increasing Triplet Subsequence](https://leetcode.com/problems/increasing-triplet-subsequence/?envType=study-plan-v2&envId=leetcode-75)\n",
        "\n"
      ],
      "metadata": {
        "id": "5yU2U29LlW-c"
      }
    },
    {
      "cell_type": "code",
      "source": [
        "def increasing_triplet(nums: List[int]) -> bool: \n",
        "  n = len(nums)\n",
        "  for i in range(n - 2):\n",
        "    if nums[i] < nums[i + 1] < nums[i + 2]:\n",
        "        return True\n",
        "\n",
        "  return False\n",
        "\n",
        "\n",
        "if __name__ == \"__main__\":\n",
        "  testcases = [[1,2,3,4,5], [5,4,3,2,1], [2,1,5,0,4,6]]  # True, False, True.\n",
        "  for test in testcases:\n",
        "    print(increasing_triplet(test))"
      ],
      "metadata": {
        "id": "SSoD6zlcSv5G",
        "colab": {
          "base_uri": "https://localhost:8080/"
        },
        "outputId": "486271f7-19da-4a40-e512-2f6d16ec3605"
      },
      "execution_count": null,
      "outputs": [
        {
          "output_type": "stream",
          "name": "stdout",
          "text": [
            "True\n",
            "False\n",
            "True\n"
          ]
        }
      ]
    },
    {
      "cell_type": "markdown",
      "source": [
        "## [443. String Compression](https://leetcode.com/problems/string-compression/?envType=study-plan-v2&envId=leetcode-75)"
      ],
      "metadata": {
        "id": "JNGbwE9C-A7j"
      }
    },
    {
      "cell_type": "code",
      "source": [
        "from typing import List\n",
        "\n",
        "def compress(chars: List[str]) -> int:\n",
        "  n: int = len(chars)\n",
        "  if n == 1:\n",
        "    return 1\n",
        "\n",
        "  compressed: List[str] = []\n",
        "  counter: int = 1\n",
        "\n",
        "  for i in range(n):\n",
        "    if chars[i] == chars[(i + 1) % n]:\n",
        "      counter += 1\n",
        "    else:\n",
        "      compressed.append(chars[i])\n",
        "      if counter != 1:\n",
        "        compressed.extend(list(str(counter))) \n",
        "      counter = 1\n",
        "  \n",
        "  result = len(compressed)\n",
        "  chars.clear()\n",
        "  chars.extend(char for char in compressed)\n",
        "  return result\n",
        "\n",
        "if __name__ == \"__main__\":\n",
        "  testcases = [[\"a\",\"a\",\"b\",\"b\",\"b\",\"c\",\"c\"],[\"a\"], [\"a\",\"b\",\"b\"],\n",
        "               [\"a\",\"b\",\"b\",\"b\",\"b\",\"b\",\"b\",\"b\",\"b\",\"b\",\"b\",\"b\",\"b\"]]  # 6, 1, 3, 4.\n",
        "  for test in testcases:\n",
        "    print(compress(test), end=\" \")\n",
        "    print(test)\n",
        "    "
      ],
      "metadata": {
        "colab": {
          "base_uri": "https://localhost:8080/"
        },
        "id": "tpuH33OY-Kbe",
        "outputId": "0321c09b-2895-4128-f284-6f779c63cb27"
      },
      "execution_count": null,
      "outputs": [
        {
          "output_type": "stream",
          "name": "stdout",
          "text": [
            "6 ['a', '2', 'b', '3', 'c', '2']\n",
            "1 ['a']\n",
            "3 ['a', 'b', '2']\n",
            "4 ['a', 'b', '1', '2']\n"
          ]
        }
      ]
    },
    {
      "cell_type": "markdown",
      "source": [
        "## [283. Move Zeroes](https://leetcode.com/problems/move-zeroes/?envType=study-plan-v2&envId=leetcode-75)"
      ],
      "metadata": {
        "id": "6ukJMrEVgDui"
      }
    },
    {
      "cell_type": "code",
      "source": [
        "from typing import List\n",
        "\n",
        "def move_zeroes(nums: List[int]) -> None:\n",
        "  left, right = 0, len(nums) - 1\n",
        "\n",
        "  while left <= right:\n",
        "    if nums[left] == 0:\n",
        "      nums.pop(left)\n",
        "      nums.append(0)\n",
        "      right -= 1\n",
        "    else:\n",
        "      left += 1\n",
        "\n",
        "    if nums[right] == 0:\n",
        "      nums.pop(right)\n",
        "      nums.append(0)\n",
        "      right -= 1\n",
        "    else:\n",
        "      right -= 1\n",
        "\n",
        "\n",
        "if __name__ == \"__main__\":\n",
        "  testcases = [[1,2,3,0,4,0,5], [5,4,3,2,1], [2,1,5,0,4,6,0], [0,0,1,0,2], [0]]\n",
        "  for test in testcases:\n",
        "    print(move_zeroes(test), end=\" \")\n",
        "    print(test)"
      ],
      "metadata": {
        "colab": {
          "base_uri": "https://localhost:8080/"
        },
        "id": "a2jmsKHUgSKd",
        "outputId": "faa1dfc0-84bd-48e3-f351-f45eeea27e57"
      },
      "execution_count": 78,
      "outputs": [
        {
          "output_type": "stream",
          "name": "stdout",
          "text": [
            "None [1, 2, 3, 4, 5, 0, 0]\n",
            "None [5, 4, 3, 2, 1]\n",
            "None [2, 1, 5, 4, 6, 0, 0]\n",
            "None [1, 2, 0, 0, 0]\n",
            "None [0]\n"
          ]
        }
      ]
    }
  ]
}