{
  "nbformat": 4,
  "nbformat_minor": 0,
  "metadata": {
    "colab": {
      "provenance": [],
      "collapsed_sections": [
        "UJp6B79kFAFy",
        "-xUmMKenEh2k",
        "uBsphqiTXzvY",
        "5NYhOoM-jyZI",
        "6QnSf3RDx17V",
        "2qaOHem2tOzn",
        "89Isi4VLLi_E",
        "5yU2U29LlW-c",
        "JNGbwE9C-A7j",
        "6ukJMrEVgDui",
        "2s60EQqD7_ag"
      ],
      "include_colab_link": true
    },
    "kernelspec": {
      "name": "python3",
      "display_name": "Python 3"
    },
    "language_info": {
      "name": "python"
    }
  },
  "cells": [
    {
      "cell_type": "markdown",
      "metadata": {
        "id": "view-in-github",
        "colab_type": "text"
      },
      "source": [
        "<a href=\"https://colab.research.google.com/github/lloydlobo/common-coding-conundrums/blob/main/colab/studyplan_leetcode_75.ipynb\" target=\"_parent\"><img src=\"https://colab.research.google.com/assets/colab-badge.svg\" alt=\"Open In Colab\"/></a>"
      ]
    },
    {
      "cell_type": "markdown",
      "source": [
        "https://leetcode.com/studyplan/leetcode-75/"
      ],
      "metadata": {
        "id": "9vXCxn2f85I2"
      }
    },
    {
      "cell_type": "code",
      "source": [
        "# run once\n",
        "!pip install black[jupyter] --quiet\n",
        "from google.colab import drive\n",
        "\n",
        "drive.mount(\"/content/drive\")\n",
        "# ...\n",
        "# run many times\n",
        "# !black /content/drive/MyDrive/'Colab Notebooks'/'studyplan-leetcode-75.ipynb'"
      ],
      "metadata": {
        "id": "sjvPdtxV_IgM",
        "colab": {
          "base_uri": "https://localhost:8080/"
        },
        "outputId": "19aff26f-5b88-4386-d836-fd2b7d28bd7a"
      },
      "execution_count": null,
      "outputs": [
        {
          "output_type": "stream",
          "name": "stdout",
          "text": [
            "Drive already mounted at /content/drive; to attempt to forcibly remount, call drive.mount(\"/content/drive\", force_remount=True).\n"
          ]
        }
      ]
    },
    {
      "cell_type": "code",
      "source": [
        "# run many times\n",
        "!black /content/drive/MyDrive/'Colab Notebooks'/'studyplan-leetcode-75.ipynb'"
      ],
      "metadata": {
        "id": "C1x7e_ZIAeXK",
        "colab": {
          "base_uri": "https://localhost:8080/"
        },
        "outputId": "0108f6a0-c090-4e32-99a8-8b2c22463fdc"
      },
      "execution_count": 167,
      "outputs": [
        {
          "output_type": "stream",
          "name": "stdout",
          "text": [
            "\u001b[1mAll done! ✨ 🍰 ✨\u001b[0m\n",
            "\u001b[34m1 file \u001b[0mleft unchanged.\n"
          ]
        }
      ]
    },
    {
      "cell_type": "markdown",
      "source": [
        "## [1768. Merge Strings Alternately](https://leetcode.com/problems/merge-strings-alternately/?envType=study-plan-v2&envId=leetcode-75)"
      ],
      "metadata": {
        "id": "UJp6B79kFAFy"
      }
    },
    {
      "cell_type": "code",
      "execution_count": null,
      "metadata": {
        "id": "ywCJ6lS66HwD"
      },
      "outputs": [],
      "source": [
        "def merge_alternatively(word1: str, word2: str) -> str:\n",
        "    n_w1, n_w2 = len(word1), len(word2)\n",
        "    n_max = max(n_w1, n_w2)\n",
        "    merged = []\n",
        "\n",
        "    for i in range(n_max):\n",
        "        if i < n_w1:\n",
        "            merged.append(word1[i])\n",
        "        if i < n_w2:\n",
        "            merged.append(word2[i])\n",
        "\n",
        "    return \"\".join(merged)\n",
        "\n",
        "\n",
        "if __name__ == \"__main__\":\n",
        "    got: str = merge_alternatively(word1=\"abc\", word2=\"uvwxyz\")\n",
        "    print(f\"{got}\")  # aubvcwxyz."
      ]
    },
    {
      "cell_type": "markdown",
      "source": [
        "## [1071. Greatest Common Divisor of Strings](https://leetcode.com/problems/greatest-common-divisor-of-strings/?envType=study-plan-v2&envId=leetcode-75)"
      ],
      "metadata": {
        "id": "-xUmMKenEh2k"
      }
    },
    {
      "cell_type": "code",
      "source": [
        "def gcd_of_strings(str1: str, str2: str) -> bool:\n",
        "    nstr1, nstr2 = len(str1), len(str2)\n",
        "    shortest = min(nstr1, nstr2)\n",
        "    longest = max(nstr1, nstr2)\n",
        "\n",
        "    numerator, divisor = \"\", \"\"\n",
        "    if nstr1 == shortest:\n",
        "        numerator, divisor = str2, str1\n",
        "    elif nstr2 == shortest:\n",
        "        numerator, divisor = str1, str2\n",
        "\n",
        "    for i in range(longest):\n",
        "        if numerator[i] != divisor[i % shortest]:\n",
        "            return False\n",
        "\n",
        "    return True\n",
        "\n",
        "\n",
        "if __name__ == \"__main__\":\n",
        "    result1 = gcd_of_strings(\"abcabcabc\", \"abc\")\n",
        "    print(f\"{result1}\")  # True.\n",
        "    result2 = gcd_of_strings(\"abababab\", \"abab\")\n",
        "    print(f\"{result2}\")  # True."
      ],
      "metadata": {
        "id": "jpex0pYkEhTF"
      },
      "execution_count": null,
      "outputs": []
    },
    {
      "cell_type": "markdown",
      "source": [
        "## [1431. Kids With the Greatest Number of Candies](https://leetcode.com/problems/kids-with-the-greatest-number-of-candies/?envType=study-plan-v2&envId=leetcode-75)"
      ],
      "metadata": {
        "id": "uBsphqiTXzvY"
      }
    },
    {
      "cell_type": "code",
      "source": [
        "# @title\n",
        "from typing import List\n",
        "\n",
        "\n",
        "def kids_with_candies(candies: List[int], extra_candies: int) -> List[bool]:\n",
        "    max_candies = max(candies)\n",
        "    # res: List[bool] = []\n",
        "    # for curr in candies:\n",
        "    #  if curr + extra_candies >= max_candies:\n",
        "    #      res.append(True)\n",
        "    #  else:\n",
        "    #      res.append(False)\n",
        "    # return res\n",
        "    return [candy + extra_candies >= max_candies for candy in candies]\n",
        "\n",
        "\n",
        "if __name__ == \"__main__\":\n",
        "    result1 = kids_with_candies(candies=[2, 3, 5, 1, 3], extra_candies=3)\n",
        "    print(f\"{result1}\")  # [True, True, True, False, True]."
      ],
      "metadata": {
        "id": "ZTfjJ0sqJvYn"
      },
      "execution_count": null,
      "outputs": []
    },
    {
      "cell_type": "markdown",
      "source": [
        "## [605. Can Place Flowers](https://leetcode.com/problems/can-place-flowers/?envType=study-plan-v2&envId=leetcode-75)"
      ],
      "metadata": {
        "id": "5NYhOoM-jyZI"
      }
    },
    {
      "cell_type": "code",
      "source": [
        "from typing import List\n",
        "\n",
        "\n",
        "# flowerbed[i] is 0 or 1.\n",
        "# There are no two adjacent flowers in flowerbed.\n",
        "def can_place_flowers(flowerbed: List[int], n: int) -> bool:\n",
        "    count = 0\n",
        "    n = len(flowerbed)\n",
        "\n",
        "    for i in range(n):\n",
        "        if (\n",
        "            flowerbed[i] == 0\n",
        "            and (i == 0 or flowerbed[i - 1] == 0)\n",
        "            and (i == n - 1 or flowerbed[i + 1] == 0)\n",
        "        ):\n",
        "            count += 1\n",
        "            flowerbed[\n",
        "                i\n",
        "            ] = 1  # Mark the position as occupied to prevent adjacent placements.\n",
        "            if count >= n:\n",
        "                return True\n",
        "\n",
        "    return False\n",
        "\n",
        "\n",
        "if __name__ == \"__main__\":\n",
        "    # Test cases\n",
        "    print(can_place_flowers(flowerbed=[1, 0, 0, 0, 1], n=1))  # True\n",
        "    print(can_place_flowers(flowerbed=[1, 0, 0, 0, 1], n=2))  # False"
      ],
      "metadata": {
        "id": "NWRVdMVXou6s"
      },
      "execution_count": null,
      "outputs": []
    },
    {
      "cell_type": "markdown",
      "source": [
        "## [345. Reverse Vowels of a String](https://leetcode.com/problems/reverse-vowels-of-a-string/?envType=study-plan-v2&envId=leetcode-75)"
      ],
      "metadata": {
        "id": "6QnSf3RDx17V"
      }
    },
    {
      "cell_type": "code",
      "source": [
        "# @title\n",
        "from typing import List, Set\n",
        "\n",
        "\n",
        "# The two-pointer approach is employed to swap vowels in a string by traversing the string from both ends using the start and end pointers. This technique allows for an in-place reversal of the vowels without the need for additional data structures.\n",
        "def reverse_vowels(s: str) -> str:\n",
        "    vowels: Set[str] = set(\"aeiou\")\n",
        "    arr: List[str] = list(s)\n",
        "    start, end = 0, len(arr) - 1\n",
        "\n",
        "    while start < end:\n",
        "        if arr[start] in vowels and arr[end] in vowels:\n",
        "            arr[start], arr[end] = arr[end], arr[start]\n",
        "            start += 1\n",
        "            end -= 1\n",
        "        elif arr[start] in vowels:\n",
        "            end -= 1\n",
        "        else:\n",
        "            start += 1\n",
        "\n",
        "    return \"\".join(arr)\n",
        "\n",
        "\n",
        "if __name__ == \"__main__\":\n",
        "    print(reverse_vowels(\"leetcode\"))  # leotcede."
      ],
      "metadata": {
        "collapsed": true,
        "id": "Z5BcswLSu_S7"
      },
      "execution_count": null,
      "outputs": []
    },
    {
      "cell_type": "markdown",
      "source": [
        "## [151. Reverse Words in a String](https://leetcode.com/problems/reverse-words-in-a-string/?envType=study-plan-v2&envId=leetcode-75)"
      ],
      "metadata": {
        "id": "2qaOHem2tOzn"
      }
    },
    {
      "cell_type": "code",
      "source": [
        "from typing import List\n",
        "\n",
        "\n",
        "def reverse_string(s: str) -> str:\n",
        "    arr: List[str] = s.strip().split(\" \")\n",
        "    arr = [x.strip() for x in arr if len(x) > 0]\n",
        "    arr.reverse()\n",
        "    return \" \".join(arr)\n",
        "\n",
        "\n",
        "if __name__ == \"__main__\":\n",
        "    testcases = [\" hello world\", \"the sky is blue\", \"a   good example\"]\n",
        "    for test in testcases:\n",
        "        print(reverse_string(test))  # world hello."
      ],
      "metadata": {
        "id": "K7zkWyRTteDg"
      },
      "execution_count": null,
      "outputs": []
    },
    {
      "cell_type": "markdown",
      "source": [
        "## [238. Product of Array Except Self](https://leetcode.com/problems/product-of-array-except-self/?envType=study-plan-v2&envId=leetcode-75)"
      ],
      "metadata": {
        "id": "89Isi4VLLi_E"
      }
    },
    {
      "cell_type": "code",
      "source": [
        "from typing import List\n",
        "\n",
        "\n",
        "# Without using division operator.\n",
        "def product_except_self(arr: List[int]) -> List[int]:\n",
        "    len_arr = len(arr)\n",
        "    cache: List[int] = [1] * len_arr\n",
        "    for i in range(len_arr):\n",
        "        for j in range(len_arr):\n",
        "            if i != j:\n",
        "                cache[i] *= arr[j]\n",
        "\n",
        "    return cache\n",
        "\n",
        "\n",
        "if __name__ == \"__main__\":\n",
        "    testcases = [\n",
        "        [1, 2, 3],\n",
        "        [2, 4, 5],\n",
        "        [-1, 1, 0, -3, 3],\n",
        "    ]  # [6, 3, 2], [20, 10, 8], [0, 0, 9, 0, 0]\n",
        "    for test in testcases:\n",
        "        print(product_except_self(test))"
      ],
      "metadata": {
        "id": "7HtMYy9PLlFR"
      },
      "execution_count": null,
      "outputs": []
    },
    {
      "cell_type": "markdown",
      "source": [
        "## [334. Increasing Triplet Subsequence](https://leetcode.com/problems/increasing-triplet-subsequence/?envType=study-plan-v2&envId=leetcode-75)\n",
        "\n"
      ],
      "metadata": {
        "id": "5yU2U29LlW-c"
      }
    },
    {
      "cell_type": "code",
      "source": [
        "def increasing_triplet(nums: List[int]) -> bool:\n",
        "    n = len(nums)\n",
        "    for i in range(n - 2):\n",
        "        if nums[i] < nums[i + 1] < nums[i + 2]:\n",
        "            return True\n",
        "\n",
        "    return False\n",
        "\n",
        "\n",
        "if __name__ == \"__main__\":\n",
        "    testcases = [\n",
        "        [1, 2, 3, 4, 5],\n",
        "        [5, 4, 3, 2, 1],\n",
        "        [2, 1, 5, 0, 4, 6],\n",
        "    ]  # True, False, True.\n",
        "    for test in testcases:\n",
        "        print(increasing_triplet(test))"
      ],
      "metadata": {
        "id": "SSoD6zlcSv5G"
      },
      "execution_count": null,
      "outputs": []
    },
    {
      "cell_type": "markdown",
      "source": [
        "## [443. String Compression](https://leetcode.com/problems/string-compression/?envType=study-plan-v2&envId=leetcode-75)"
      ],
      "metadata": {
        "id": "JNGbwE9C-A7j"
      }
    },
    {
      "cell_type": "code",
      "source": [
        "from typing import List\n",
        "\n",
        "\n",
        "def compress(chars: List[str]) -> int:\n",
        "    n: int = len(chars)\n",
        "    if n == 1:\n",
        "        return 1\n",
        "\n",
        "    compressed: List[str] = []\n",
        "    counter: int = 1\n",
        "\n",
        "    for i in range(n):\n",
        "        if chars[i] == chars[(i + 1) % n]:\n",
        "            counter += 1\n",
        "        else:\n",
        "            compressed.append(chars[i])\n",
        "            if counter != 1:\n",
        "                compressed.extend(list(str(counter)))\n",
        "            counter = 1\n",
        "\n",
        "    result = len(compressed)\n",
        "    chars.clear()\n",
        "    chars.extend(char for char in compressed)\n",
        "    return result\n",
        "\n",
        "\n",
        "if __name__ == \"__main__\":\n",
        "    testcases = [\n",
        "        [\"a\", \"a\", \"b\", \"b\", \"b\", \"c\", \"c\"],\n",
        "        [\"a\"],\n",
        "        [\"a\", \"b\", \"b\"],\n",
        "        [\"a\", \"b\", \"b\", \"b\", \"b\", \"b\", \"b\", \"b\", \"b\", \"b\", \"b\", \"b\", \"b\"],\n",
        "    ]  # 6, 1, 3, 4.\n",
        "    for test in testcases:\n",
        "        print(compress(test), end=\" \")\n",
        "        print(test)"
      ],
      "metadata": {
        "id": "tpuH33OY-Kbe"
      },
      "execution_count": null,
      "outputs": []
    },
    {
      "cell_type": "markdown",
      "source": [
        "## [283. Move Zeroes](https://leetcode.com/problems/move-zeroes/?envType=study-plan-v2&envId=leetcode-75)"
      ],
      "metadata": {
        "id": "6ukJMrEVgDui"
      }
    },
    {
      "cell_type": "code",
      "source": [
        "from typing import List\n",
        "\n",
        "\n",
        "# Multiple pop and append operations can be expensive than mutating at index.\n",
        "# Although a deque could be suitable for that.\n",
        "def move_zeroes_expensive(nums: List[int]) -> None:\n",
        "    left, right = 0, len(nums) - 1\n",
        "\n",
        "    while left <= right:\n",
        "        if nums[left] == 0:\n",
        "            nums.pop(left)\n",
        "            nums.append(0)\n",
        "            right -= 1\n",
        "        else:\n",
        "            left += 1\n",
        "\n",
        "        if nums[right] == 0:\n",
        "            nums.pop(right)\n",
        "            nums.append(0)\n",
        "            right -= 1\n",
        "        else:\n",
        "            right -= 1\n",
        "\n",
        "\n",
        "if __name__ == \"__main__\":\n",
        "    testcases = [\n",
        "        [1, 2, 3, 0, 4, 0, 5],\n",
        "        [5, 4, 3, 2, 1],\n",
        "        [2, 1, 5, 0, 4, 6, 0],\n",
        "        [0, 0, 1, 0, 2],\n",
        "        [0],\n",
        "    ]\n",
        "    for test in testcases:\n",
        "        print(move_zeroes_expensive(test), end=\" \")\n",
        "        print(test)"
      ],
      "metadata": {
        "id": "a2jmsKHUgSKd"
      },
      "execution_count": null,
      "outputs": []
    },
    {
      "cell_type": "code",
      "source": [
        "from typing import List\n",
        "\n",
        "\n",
        "def move_zeroes(nums: List[int]) -> None:\n",
        "    n = len(nums)\n",
        "    non_zero_index = 0\n",
        "\n",
        "    for i in range(n):\n",
        "        if nums[i] != 0:\n",
        "            nums[non_zero_index] = nums[i]\n",
        "            non_zero_index += 1\n",
        "\n",
        "    for i in range(non_zero_index, n):\n",
        "        nums[i] = 0\n",
        "\n",
        "\n",
        "if __name__ == \"__main__\":\n",
        "    testcases = [\n",
        "        [1, 2, 3, 0, 4, 0, 5],\n",
        "        [5, 4, 3, 2, 1],\n",
        "        [2, 1, 5, 0, 4, 6, 0],\n",
        "        [0, 0, 1, 0, 2],\n",
        "        [0],\n",
        "    ]\n",
        "    for test in testcases:\n",
        "        print(move_zeroes(test), end=\" \")\n",
        "        print(test)"
      ],
      "metadata": {
        "id": "ayb4xALV3lVC"
      },
      "execution_count": null,
      "outputs": []
    },
    {
      "cell_type": "markdown",
      "source": [
        "## [392. Is Subsequence](https://leetcode.com/problems/is-subsequence/description/?envType=study-plan-v2&envId=leetcode-75)\n",
        "\n"
      ],
      "metadata": {
        "id": "2s60EQqD7_ag"
      }
    },
    {
      "cell_type": "code",
      "source": [
        "from pprint import pprint\n",
        "\n",
        "\n",
        "def is_subsequence(s: str, t: str) -> bool:\n",
        "    if s in t or s == \"\":\n",
        "        return True\n",
        "    elif t == \"\":\n",
        "        return False\n",
        "\n",
        "    ns = len(s)\n",
        "    ptr_s = 0\n",
        "    for char in t:\n",
        "        has_reached_end = ptr_s == ns\n",
        "        if has_reached_end:\n",
        "            break\n",
        "\n",
        "        is_match_can_go_right = char == s[ptr_s]\n",
        "        if is_match_can_go_right:\n",
        "            ptr_s += 1\n",
        "\n",
        "    return ptr_s == ns\n",
        "\n",
        "\n",
        "if __name__ == \"__main__\":\n",
        "    testcases = [\n",
        "        (\"abc\", \"ahbgdc\"),  # Expected output: True\n",
        "        (\"axc\", \"ahbgdc\"),  # Expected output: False\n",
        "        (\n",
        "            \"\",\n",
        "            \"ahbgdc\",\n",
        "        ),  # Expected output: True (An empty string is always a subsequence)\n",
        "        (\n",
        "            \"abc\",\n",
        "            \"\",\n",
        "        ),  # Expected output: False (t is empty, so no subsequence can be found)\n",
        "        (\n",
        "            \"abc\",\n",
        "            \"abc\",\n",
        "        ),  # Expected output: True (s is equal to t, so it is considered a subsequence)\n",
        "        (\"abc\", \"abracadabra\"),  # Expected output: True (s is a subsequence of t)\n",
        "        (\"abc\", \"acb\"),  # Expected output: False (Relative order is not preserved)\n",
        "        (\"aab\", \"ababab\"),  # Expected output: True (Multiple valid subsequences)\n",
        "        (\n",
        "            \"abcdefg\",\n",
        "            \"a1b2c3d4e5f6g7\",\n",
        "        ),  # Expected output: True (Non-alphabet characters are ignored)\n",
        "        (\"racecar\", \"racecar\"),  # Expected output: True (Palindrome)\n",
        "        (\"xyz\", \"xbybz\"),  # Expected output: False (No matching order)\n",
        "        (\"abb\", \"abbbaaabb\"),  # Expected output: True (Repetitions in t)\n",
        "        (\n",
        "            \"abababab\",\n",
        "            \"abababababababab\",\n",
        "        ),  # Expected output: True (Multiple valid subsequences with repetitions)\n",
        "    ]\n",
        "\n",
        "    for s, t in testcases:\n",
        "        result = is_subsequence(s, t)  # Replace is_subsequence with your function name\n",
        "        print(\"Output:\", result, end=\" \")\n",
        "        print(f\"Input: s = {s}, t = {t}\")"
      ],
      "metadata": {
        "id": "GFMk4NEU8C8N"
      },
      "execution_count": null,
      "outputs": []
    },
    {
      "cell_type": "markdown",
      "source": [
        "## [11. Container With Most Water](https://leetcode.com/problems/container-with-most-water/?envType=study-plan-v2&envId=leetcode-75)"
      ],
      "metadata": {
        "id": "VEv6CM9Wyb2A"
      }
    },
    {
      "cell_type": "code",
      "source": [
        "from typing import List\n",
        "\n",
        "# areas: List[int] = []\n",
        "# for (i, ha) in enumerate(height):\n",
        "#     for (j, hb) in enumerate(height):\n",
        "#         if i != j:\n",
        "#             areas.append(abs(i - j) * min(ha, hb))\n",
        "# return max(areas)\n",
        "\n",
        "\n",
        "def max_area(height: List[int]) -> int:\n",
        "    area: int = 0\n",
        "    lptr, rptr = 0, len(height) - 1\n",
        "\n",
        "    while lptr <= rptr:\n",
        "        hl, hr = height[lptr], height[rptr]\n",
        "        area = max(area, (rptr - lptr) * min(hl, hr))\n",
        "        if hl < hr:\n",
        "            lptr += 1\n",
        "        else:\n",
        "            rptr -= 1\n",
        "\n",
        "    return area\n",
        "\n",
        "\n",
        "if __name__ == \"__main__\":\n",
        "    test_cases = [\n",
        "        [1, 8, 6, 2, 5, 4, 8, 3, 7],\n",
        "        [1, 1],\n",
        "        [4, 3, 2, 1, 4],\n",
        "        [1, 2, 1],\n",
        "        [1, 2, 3, 4, 5],\n",
        "    ]\n",
        "    for i, height in enumerate(test_cases):\n",
        "        result = max_area(height)\n",
        "        print(f\"Test Case {i+1}:\", end=\" \")\n",
        "        print(f\"Output: {result}\", end=\" \")\n",
        "        print(f\"Input: height = {height}\")"
      ],
      "metadata": {
        "id": "DMXtz-uEHd5H",
        "colab": {
          "base_uri": "https://localhost:8080/"
        },
        "outputId": "6876ed4d-e617-4cc1-a1f8-f6dacd209559"
      },
      "execution_count": null,
      "outputs": [
        {
          "output_type": "stream",
          "name": "stdout",
          "text": [
            "Test Case 1: Output: 49 Input: height = [1, 8, 6, 2, 5, 4, 8, 3, 7]\n",
            "Test Case 2: Output: 1 Input: height = [1, 1]\n",
            "Test Case 3: Output: 16 Input: height = [4, 3, 2, 1, 4]\n",
            "Test Case 4: Output: 2 Input: height = [1, 2, 1]\n",
            "Test Case 5: Output: 6 Input: height = [1, 2, 3, 4, 5]\n"
          ]
        }
      ]
    },
    {
      "cell_type": "markdown",
      "source": [
        "## [1679. Max Number of K-Sum Pairs](https://leetcode.com/problems/max-number-of-k-sum-pairs/?envType=study-plan-v2&envId=leetcode-75)"
      ],
      "metadata": {
        "id": "0v64pYlbL_Uw"
      }
    },
    {
      "cell_type": "code",
      "source": [
        "from typing import List, Set, Tuple\n",
        "\n",
        "\n",
        "def max_operations(nums: List[int], k: int) -> int:\n",
        "    n: int = len(nums)\n",
        "    if n <= 1:\n",
        "        return 0\n",
        "\n",
        "    nums.sort()\n",
        "\n",
        "    lptr: int\n",
        "    rptr: int\n",
        "    operations: int\n",
        "\n",
        "    lptr, rptr, operations = 0, n - 1, 0\n",
        "\n",
        "    while lptr < rptr:\n",
        "        curr = nums[lptr] + nums[rptr]\n",
        "        if k == curr:\n",
        "            operations += 1  # Increment counter as removed K pair.\n",
        "            lptr += 1\n",
        "            rptr -= 1\n",
        "        elif curr < k:\n",
        "            lptr += 1\n",
        "        else:\n",
        "            rptr -= 1\n",
        "\n",
        "    return operations\n",
        "\n",
        "\n",
        "if __name__ == \"__main__\":\n",
        "    test_cases: List[Tuple[List[int], int]] = [\n",
        "        ([1, 2, 3, 4], 5),\n",
        "        ([3, 1, 3, 4, 3], 6),\n",
        "        ([], 5),\n",
        "        ([1, 8, 6, 4], 11),\n",
        "        ([1, 1, 1, 1], 2),\n",
        "        ([1, 1, 1, 1, 1], 2),\n",
        "        ([1, 2, 3, 4, 5], 10),\n",
        "        ([1, 2, 3, 4, 5], 3),\n",
        "        ([1, 2, 3, 4, 5], 6),\n",
        "        ([2, 4, 6, 8, 10], 7),\n",
        "    ]\n",
        "\n",
        "    for i, (nums, k) in enumerate(test_cases):\n",
        "        result: int = max_operations(nums, k)\n",
        "        print(f\"Test Case {i+1}: Output: {result}, Input: nums = {nums}, k = {k}\")"
      ],
      "metadata": {
        "colab": {
          "base_uri": "https://localhost:8080/"
        },
        "id": "5QVsybdbyxYQ",
        "outputId": "2e7d6838-ea80-41e0-bd61-8a65bc3c47ec"
      },
      "execution_count": null,
      "outputs": [
        {
          "output_type": "stream",
          "name": "stdout",
          "text": [
            "Test Case 1: Output: 2, Input: nums = [1, 2, 3, 4], k = 5\n",
            "Test Case 2: Output: 1, Input: nums = [1, 3, 3, 3, 4], k = 6\n",
            "Test Case 3: Output: 0, Input: nums = [], k = 5\n",
            "Test Case 4: Output: 0, Input: nums = [1, 4, 6, 8], k = 11\n",
            "Test Case 5: Output: 2, Input: nums = [1, 1, 1, 1], k = 2\n",
            "Test Case 6: Output: 2, Input: nums = [1, 1, 1, 1, 1], k = 2\n",
            "Test Case 7: Output: 0, Input: nums = [1, 2, 3, 4, 5], k = 10\n",
            "Test Case 8: Output: 1, Input: nums = [1, 2, 3, 4, 5], k = 3\n",
            "Test Case 9: Output: 2, Input: nums = [1, 2, 3, 4, 5], k = 6\n",
            "Test Case 10: Output: 0, Input: nums = [2, 4, 6, 8, 10], k = 7\n"
          ]
        }
      ]
    }
  ]
}