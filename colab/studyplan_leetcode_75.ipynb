{
  "cells": [
    {
      "cell_type": "markdown",
      "metadata": {
        "id": "view-in-github",
        "colab_type": "text"
      },
      "source": [
        "<a href=\"https://colab.research.google.com/github/lloydlobo/common-coding-conundrums/blob/main/colab/studyplan_leetcode_75.ipynb\" target=\"_parent\"><img src=\"https://colab.research.google.com/assets/colab-badge.svg\" alt=\"Open In Colab\"/></a>"
      ]
    },
    {
      "cell_type": "markdown",
      "metadata": {
        "id": "9vXCxn2f85I2"
      },
      "source": [
        "https://leetcode.com/studyplan/leetcode-75/"
      ]
    },
    {
      "cell_type": "code",
      "execution_count": 7,
      "metadata": {
        "id": "sjvPdtxV_IgM",
        "colab": {
          "base_uri": "https://localhost:8080/",
          "height": 432
        },
        "outputId": "234375c2-3260-4bf6-a060-7b291e6be55c"
      },
      "outputs": [
        {
          "output_type": "stream",
          "name": "stdout",
          "text": [
            "\u001b[2K     \u001b[90m━━━━━━━━━━━━━━━━━━━━━━━━━━━━━━━━━━━━━━━━\u001b[0m \u001b[32m1.7/1.7 MB\u001b[0m \u001b[31m23.3 MB/s\u001b[0m eta \u001b[36m0:00:00\u001b[0m\n",
            "\u001b[2K     \u001b[90m━━━━━━━━━━━━━━━━━━━━━━━━━━━━━━━━━━━━━━━━\u001b[0m \u001b[32m1.6/1.6 MB\u001b[0m \u001b[31m88.4 MB/s\u001b[0m eta \u001b[36m0:00:00\u001b[0m\n",
            "\u001b[?25h"
          ]
        },
        {
          "output_type": "error",
          "ename": "MessageError",
          "evalue": "ignored",
          "traceback": [
            "\u001b[0;31m---------------------------------------------------------------------------\u001b[0m",
            "\u001b[0;31mMessageError\u001b[0m                              Traceback (most recent call last)",
            "\u001b[0;32m<ipython-input-7-acc79b924df9>\u001b[0m in \u001b[0;36m<cell line: 5>\u001b[0;34m()\u001b[0m\n\u001b[1;32m      3\u001b[0m \u001b[0;32mfrom\u001b[0m \u001b[0mgoogle\u001b[0m\u001b[0;34m.\u001b[0m\u001b[0mcolab\u001b[0m \u001b[0;32mimport\u001b[0m \u001b[0mdrive\u001b[0m\u001b[0;34m\u001b[0m\u001b[0;34m\u001b[0m\u001b[0m\n\u001b[1;32m      4\u001b[0m \u001b[0;34m\u001b[0m\u001b[0m\n\u001b[0;32m----> 5\u001b[0;31m \u001b[0mdrive\u001b[0m\u001b[0;34m.\u001b[0m\u001b[0mmount\u001b[0m\u001b[0;34m(\u001b[0m\u001b[0;34m\"/content/drive\"\u001b[0m\u001b[0;34m)\u001b[0m\u001b[0;34m\u001b[0m\u001b[0;34m\u001b[0m\u001b[0m\n\u001b[0m\u001b[1;32m      6\u001b[0m \u001b[0;31m# ...\u001b[0m\u001b[0;34m\u001b[0m\u001b[0;34m\u001b[0m\u001b[0m\n\u001b[1;32m      7\u001b[0m \u001b[0;31m# run many times\u001b[0m\u001b[0;34m\u001b[0m\u001b[0;34m\u001b[0m\u001b[0m\n",
            "\u001b[0;32m/usr/local/lib/python3.10/dist-packages/google/colab/drive.py\u001b[0m in \u001b[0;36mmount\u001b[0;34m(mountpoint, force_remount, timeout_ms, readonly)\u001b[0m\n\u001b[1;32m    101\u001b[0m \u001b[0;32mdef\u001b[0m \u001b[0mmount\u001b[0m\u001b[0;34m(\u001b[0m\u001b[0mmountpoint\u001b[0m\u001b[0;34m,\u001b[0m \u001b[0mforce_remount\u001b[0m\u001b[0;34m=\u001b[0m\u001b[0;32mFalse\u001b[0m\u001b[0;34m,\u001b[0m \u001b[0mtimeout_ms\u001b[0m\u001b[0;34m=\u001b[0m\u001b[0;36m120000\u001b[0m\u001b[0;34m,\u001b[0m \u001b[0mreadonly\u001b[0m\u001b[0;34m=\u001b[0m\u001b[0;32mFalse\u001b[0m\u001b[0;34m)\u001b[0m\u001b[0;34m:\u001b[0m\u001b[0;34m\u001b[0m\u001b[0;34m\u001b[0m\u001b[0m\n\u001b[1;32m    102\u001b[0m   \u001b[0;34m\"\"\"Mount your Google Drive at the specified mountpoint path.\"\"\"\u001b[0m\u001b[0;34m\u001b[0m\u001b[0;34m\u001b[0m\u001b[0m\n\u001b[0;32m--> 103\u001b[0;31m   return _mount(\n\u001b[0m\u001b[1;32m    104\u001b[0m       \u001b[0mmountpoint\u001b[0m\u001b[0;34m,\u001b[0m\u001b[0;34m\u001b[0m\u001b[0;34m\u001b[0m\u001b[0m\n\u001b[1;32m    105\u001b[0m       \u001b[0mforce_remount\u001b[0m\u001b[0;34m=\u001b[0m\u001b[0mforce_remount\u001b[0m\u001b[0;34m,\u001b[0m\u001b[0;34m\u001b[0m\u001b[0;34m\u001b[0m\u001b[0m\n",
            "\u001b[0;32m/usr/local/lib/python3.10/dist-packages/google/colab/drive.py\u001b[0m in \u001b[0;36m_mount\u001b[0;34m(mountpoint, force_remount, timeout_ms, ephemeral, readonly)\u001b[0m\n\u001b[1;32m    130\u001b[0m   )\n\u001b[1;32m    131\u001b[0m   \u001b[0;32mif\u001b[0m \u001b[0mephemeral\u001b[0m\u001b[0;34m:\u001b[0m\u001b[0;34m\u001b[0m\u001b[0;34m\u001b[0m\u001b[0m\n\u001b[0;32m--> 132\u001b[0;31m     _message.blocking_request(\n\u001b[0m\u001b[1;32m    133\u001b[0m         \u001b[0;34m'request_auth'\u001b[0m\u001b[0;34m,\u001b[0m \u001b[0mrequest\u001b[0m\u001b[0;34m=\u001b[0m\u001b[0;34m{\u001b[0m\u001b[0;34m'authType'\u001b[0m\u001b[0;34m:\u001b[0m \u001b[0;34m'dfs_ephemeral'\u001b[0m\u001b[0;34m}\u001b[0m\u001b[0;34m,\u001b[0m \u001b[0mtimeout_sec\u001b[0m\u001b[0;34m=\u001b[0m\u001b[0;32mNone\u001b[0m\u001b[0;34m\u001b[0m\u001b[0;34m\u001b[0m\u001b[0m\n\u001b[1;32m    134\u001b[0m     )\n",
            "\u001b[0;32m/usr/local/lib/python3.10/dist-packages/google/colab/_message.py\u001b[0m in \u001b[0;36mblocking_request\u001b[0;34m(request_type, request, timeout_sec, parent)\u001b[0m\n\u001b[1;32m    174\u001b[0m       \u001b[0mrequest_type\u001b[0m\u001b[0;34m,\u001b[0m \u001b[0mrequest\u001b[0m\u001b[0;34m,\u001b[0m \u001b[0mparent\u001b[0m\u001b[0;34m=\u001b[0m\u001b[0mparent\u001b[0m\u001b[0;34m,\u001b[0m \u001b[0mexpect_reply\u001b[0m\u001b[0;34m=\u001b[0m\u001b[0;32mTrue\u001b[0m\u001b[0;34m\u001b[0m\u001b[0;34m\u001b[0m\u001b[0m\n\u001b[1;32m    175\u001b[0m   )\n\u001b[0;32m--> 176\u001b[0;31m   \u001b[0;32mreturn\u001b[0m \u001b[0mread_reply_from_input\u001b[0m\u001b[0;34m(\u001b[0m\u001b[0mrequest_id\u001b[0m\u001b[0;34m,\u001b[0m \u001b[0mtimeout_sec\u001b[0m\u001b[0;34m)\u001b[0m\u001b[0;34m\u001b[0m\u001b[0;34m\u001b[0m\u001b[0m\n\u001b[0m",
            "\u001b[0;32m/usr/local/lib/python3.10/dist-packages/google/colab/_message.py\u001b[0m in \u001b[0;36mread_reply_from_input\u001b[0;34m(message_id, timeout_sec)\u001b[0m\n\u001b[1;32m    101\u001b[0m     ):\n\u001b[1;32m    102\u001b[0m       \u001b[0;32mif\u001b[0m \u001b[0;34m'error'\u001b[0m \u001b[0;32min\u001b[0m \u001b[0mreply\u001b[0m\u001b[0;34m:\u001b[0m\u001b[0;34m\u001b[0m\u001b[0;34m\u001b[0m\u001b[0m\n\u001b[0;32m--> 103\u001b[0;31m         \u001b[0;32mraise\u001b[0m \u001b[0mMessageError\u001b[0m\u001b[0;34m(\u001b[0m\u001b[0mreply\u001b[0m\u001b[0;34m[\u001b[0m\u001b[0;34m'error'\u001b[0m\u001b[0;34m]\u001b[0m\u001b[0;34m)\u001b[0m\u001b[0;34m\u001b[0m\u001b[0;34m\u001b[0m\u001b[0m\n\u001b[0m\u001b[1;32m    104\u001b[0m       \u001b[0;32mreturn\u001b[0m \u001b[0mreply\u001b[0m\u001b[0;34m.\u001b[0m\u001b[0mget\u001b[0m\u001b[0;34m(\u001b[0m\u001b[0;34m'data'\u001b[0m\u001b[0;34m,\u001b[0m \u001b[0;32mNone\u001b[0m\u001b[0;34m)\u001b[0m\u001b[0;34m\u001b[0m\u001b[0;34m\u001b[0m\u001b[0m\n\u001b[1;32m    105\u001b[0m \u001b[0;34m\u001b[0m\u001b[0m\n",
            "\u001b[0;31mMessageError\u001b[0m: Error: credential propagation was unsuccessful"
          ]
        }
      ],
      "source": [
        "# run once\n",
        "!pip install black[jupyter] --quiet\n",
        "from google.colab import drive\n",
        "\n",
        "drive.mount(\"/content/drive\")\n",
        "# ...\n",
        "# run many times\n",
        "# !black /content/drive/MyDrive/'Colab Notebooks'/'studyplan-leetcode-75.ipynb'"
      ]
    },
    {
      "cell_type": "code",
      "execution_count": null,
      "metadata": {
        "id": "C1x7e_ZIAeXK"
      },
      "outputs": [],
      "source": [
        "# run many times\n",
        "!black /content/drive/MyDrive/'Colab Notebooks'/'studyplan-leetcode-75.ipynb'"
      ]
    },
    {
      "cell_type": "markdown",
      "metadata": {
        "id": "vEIySkbG19gB"
      },
      "source": [
        "# String / Array"
      ]
    },
    {
      "cell_type": "markdown",
      "metadata": {
        "id": "UJp6B79kFAFy"
      },
      "source": [
        "## [1768. Merge Strings Alternately](https://leetcode.com/problems/merge-strings-alternately/?envType=study-plan-v2&envId=leetcode-75)"
      ]
    },
    {
      "cell_type": "code",
      "execution_count": null,
      "metadata": {
        "id": "ywCJ6lS66HwD",
        "colab": {
          "base_uri": "https://localhost:8080/"
        },
        "outputId": "a55240e8-a9f6-403f-b9af-212c27c6df4f"
      },
      "outputs": [
        {
          "output_type": "stream",
          "name": "stdout",
          "text": [
            "aubvcwxyz\n"
          ]
        }
      ],
      "source": [
        "def merge_alternatively(word1: str, word2: str) -> str:\n",
        "    n_w1, n_w2 = len(word1), len(word2)\n",
        "    n_max = max(n_w1, n_w2)\n",
        "    merged = []\n",
        "\n",
        "    for i in range(n_max):\n",
        "        if i < n_w1:\n",
        "            merged.append(word1[i])\n",
        "        if i < n_w2:\n",
        "            merged.append(word2[i])\n",
        "\n",
        "    return \"\".join(merged)\n",
        "\n",
        "\n",
        "if __name__ == \"__main__\":\n",
        "    got: str = merge_alternatively(word1=\"abc\", word2=\"uvwxyz\")\n",
        "    print(f\"{got}\")  # aubvcwxyz."
      ]
    },
    {
      "cell_type": "markdown",
      "metadata": {
        "id": "-xUmMKenEh2k"
      },
      "source": [
        "## [1071. Greatest Common Divisor of Strings](https://leetcode.com/problems/greatest-common-divisor-of-strings/?envType=study-plan-v2&envId=leetcode-75)"
      ]
    },
    {
      "cell_type": "code",
      "execution_count": null,
      "metadata": {
        "id": "jpex0pYkEhTF",
        "colab": {
          "base_uri": "https://localhost:8080/"
        },
        "outputId": "35d84da8-2343-4eb1-d0f9-b1609b673a7e"
      },
      "outputs": [
        {
          "output_type": "stream",
          "name": "stdout",
          "text": [
            "True\n",
            "True\n"
          ]
        }
      ],
      "source": [
        "def gcd_of_strings(str1: str, str2: str) -> bool:\n",
        "    nstr1, nstr2 = len(str1), len(str2)\n",
        "    shortest = min(nstr1, nstr2)\n",
        "    longest = max(nstr1, nstr2)\n",
        "\n",
        "    numerator, divisor = \"\", \"\"\n",
        "    if nstr1 == shortest:\n",
        "        numerator, divisor = str2, str1\n",
        "    elif nstr2 == shortest:\n",
        "        numerator, divisor = str1, str2\n",
        "\n",
        "    for i in range(longest):\n",
        "        if numerator[i] != divisor[i % shortest]:\n",
        "            return False\n",
        "\n",
        "    return True\n",
        "\n",
        "\n",
        "if __name__ == \"__main__\":\n",
        "    result1 = gcd_of_strings(\"abcabcabc\", \"abc\")\n",
        "    print(f\"{result1}\")  # True.\n",
        "    result2 = gcd_of_strings(\"abababab\", \"abab\")\n",
        "    print(f\"{result2}\")  # True."
      ]
    },
    {
      "cell_type": "markdown",
      "metadata": {
        "id": "uBsphqiTXzvY"
      },
      "source": [
        "## [1431. Kids With the Greatest Number of Candies](https://leetcode.com/problems/kids-with-the-greatest-number-of-candies/?envType=study-plan-v2&envId=leetcode-75)"
      ]
    },
    {
      "cell_type": "code",
      "execution_count": null,
      "metadata": {
        "id": "ZTfjJ0sqJvYn",
        "colab": {
          "base_uri": "https://localhost:8080/"
        },
        "outputId": "fba60005-02e1-4208-8b55-bce8eefdfdfb"
      },
      "outputs": [
        {
          "output_type": "stream",
          "name": "stdout",
          "text": [
            "[True, True, True, False, True]\n"
          ]
        }
      ],
      "source": [
        "# @title\n",
        "from typing import List\n",
        "\n",
        "\n",
        "def kids_with_candies(candies: List[int], extra_candies: int) -> List[bool]:\n",
        "    max_candies = max(candies)\n",
        "    # res: List[bool] = []\n",
        "    # for curr in candies:\n",
        "    #  if curr + extra_candies >= max_candies:\n",
        "    #      res.append(True)\n",
        "    #  else:\n",
        "    #      res.append(False)\n",
        "    # return res\n",
        "    return [candy + extra_candies >= max_candies for candy in candies]\n",
        "\n",
        "\n",
        "if __name__ == \"__main__\":\n",
        "    result1 = kids_with_candies(candies=[2, 3, 5, 1, 3], extra_candies=3)\n",
        "    print(f\"{result1}\")  # [True, True, True, False, True]."
      ]
    },
    {
      "cell_type": "markdown",
      "metadata": {
        "id": "5NYhOoM-jyZI"
      },
      "source": [
        "## [605. Can Place Flowers](https://leetcode.com/problems/can-place-flowers/?envType=study-plan-v2&envId=leetcode-75)"
      ]
    },
    {
      "cell_type": "code",
      "execution_count": null,
      "metadata": {
        "id": "NWRVdMVXou6s",
        "colab": {
          "base_uri": "https://localhost:8080/"
        },
        "outputId": "89af8ec7-56c6-4fe1-cbde-603607bbee5d"
      },
      "outputs": [
        {
          "output_type": "stream",
          "name": "stdout",
          "text": [
            "False\n",
            "False\n"
          ]
        }
      ],
      "source": [
        "from typing import List\n",
        "\n",
        "\n",
        "# flowerbed[i] is 0 or 1.\n",
        "# There are no two adjacent flowers in flowerbed.\n",
        "def can_place_flowers(flowerbed: List[int], n: int) -> bool:\n",
        "    count = 0\n",
        "    n = len(flowerbed)\n",
        "\n",
        "    for i in range(n):\n",
        "        if (\n",
        "            flowerbed[i] == 0\n",
        "            and (i == 0 or flowerbed[i - 1] == 0)\n",
        "            and (i == n - 1 or flowerbed[i + 1] == 0)\n",
        "        ):\n",
        "            count += 1\n",
        "            flowerbed[\n",
        "                i\n",
        "            ] = 1  # Mark the position as occupied to prevent adjacent placements.\n",
        "            if count >= n:\n",
        "                return True\n",
        "\n",
        "    return False\n",
        "\n",
        "\n",
        "if __name__ == \"__main__\":\n",
        "    # Test cases\n",
        "    print(can_place_flowers(flowerbed=[1, 0, 0, 0, 1], n=1))  # True\n",
        "    print(can_place_flowers(flowerbed=[1, 0, 0, 0, 1], n=2))  # False"
      ]
    },
    {
      "cell_type": "markdown",
      "metadata": {
        "id": "6QnSf3RDx17V"
      },
      "source": [
        "## [345. Reverse Vowels of a String](https://leetcode.com/problems/reverse-vowels-of-a-string/?envType=study-plan-v2&envId=leetcode-75)"
      ]
    },
    {
      "cell_type": "code",
      "execution_count": null,
      "metadata": {
        "collapsed": true,
        "id": "Z5BcswLSu_S7",
        "colab": {
          "base_uri": "https://localhost:8080/"
        },
        "outputId": "0d2203a8-4420-4dbc-85af-b36914d2d0c5"
      },
      "outputs": [
        {
          "output_type": "stream",
          "name": "stdout",
          "text": [
            "leotcede\n"
          ]
        }
      ],
      "source": [
        "# @title\n",
        "from typing import List, Set\n",
        "\n",
        "\n",
        "# The two-pointer approach is employed to swap vowels in a string by traversing the string from both ends using the start and end pointers. This technique allows for an in-place reversal of the vowels without the need for additional data structures.\n",
        "def reverse_vowels(s: str) -> str:\n",
        "    vowels: Set[str] = set(\"aeiou\")\n",
        "    arr: List[str] = list(s)\n",
        "    start, end = 0, len(arr) - 1\n",
        "\n",
        "    while start < end:\n",
        "        if arr[start] in vowels and arr[end] in vowels:\n",
        "            arr[start], arr[end] = arr[end], arr[start]\n",
        "            start += 1\n",
        "            end -= 1\n",
        "        elif arr[start] in vowels:\n",
        "            end -= 1\n",
        "        else:\n",
        "            start += 1\n",
        "\n",
        "    return \"\".join(arr)\n",
        "\n",
        "\n",
        "if __name__ == \"__main__\":\n",
        "    print(reverse_vowels(\"leetcode\"))  # leotcede."
      ]
    },
    {
      "cell_type": "markdown",
      "metadata": {
        "id": "2qaOHem2tOzn"
      },
      "source": [
        "## [151. Reverse Words in a String](https://leetcode.com/problems/reverse-words-in-a-string/?envType=study-plan-v2&envId=leetcode-75)"
      ]
    },
    {
      "cell_type": "code",
      "execution_count": null,
      "metadata": {
        "id": "K7zkWyRTteDg",
        "colab": {
          "base_uri": "https://localhost:8080/"
        },
        "outputId": "c8e9f830-ecd5-4489-8e05-647452493b29"
      },
      "outputs": [
        {
          "output_type": "stream",
          "name": "stdout",
          "text": [
            "world hello\n",
            "blue is sky the\n",
            "example good a\n"
          ]
        }
      ],
      "source": [
        "from typing import List\n",
        "\n",
        "\n",
        "def reverse_string(s: str) -> str:\n",
        "    arr: List[str] = s.strip().split(\" \")\n",
        "    arr = [x.strip() for x in arr if len(x) > 0]\n",
        "    arr.reverse()\n",
        "    return \" \".join(arr)\n",
        "\n",
        "\n",
        "if __name__ == \"__main__\":\n",
        "    testcases = [\" hello world\", \"the sky is blue\", \"a   good example\"]\n",
        "    for test in testcases:\n",
        "        print(reverse_string(test))  # world hello."
      ]
    },
    {
      "cell_type": "markdown",
      "metadata": {
        "id": "89Isi4VLLi_E"
      },
      "source": [
        "## [238. Product of Array Except Self](https://leetcode.com/problems/product-of-array-except-self/?envType=study-plan-v2&envId=leetcode-75)"
      ]
    },
    {
      "cell_type": "code",
      "execution_count": null,
      "metadata": {
        "id": "7HtMYy9PLlFR",
        "colab": {
          "base_uri": "https://localhost:8080/"
        },
        "outputId": "9d18ccc3-20bb-4b9a-9abe-4cfff5c1e970"
      },
      "outputs": [
        {
          "output_type": "stream",
          "name": "stdout",
          "text": [
            "[6, 3, 2]\n",
            "[20, 10, 8]\n",
            "[0, 0, 9, 0, 0]\n"
          ]
        }
      ],
      "source": [
        "from typing import List\n",
        "\n",
        "\n",
        "# Without using division operator.\n",
        "def product_except_self(arr: List[int]) -> List[int]:\n",
        "    len_arr = len(arr)\n",
        "    cache: List[int] = [1] * len_arr\n",
        "    for i in range(len_arr):\n",
        "        for j in range(len_arr):\n",
        "            if i != j:\n",
        "                cache[i] *= arr[j]\n",
        "\n",
        "    return cache\n",
        "\n",
        "\n",
        "if __name__ == \"__main__\":\n",
        "    testcases = [\n",
        "        [1, 2, 3],\n",
        "        [2, 4, 5],\n",
        "        [-1, 1, 0, -3, 3],\n",
        "    ]  # [6, 3, 2], [20, 10, 8], [0, 0, 9, 0, 0]\n",
        "    for test in testcases:\n",
        "        print(product_except_self(test))"
      ]
    },
    {
      "cell_type": "markdown",
      "metadata": {
        "id": "5yU2U29LlW-c"
      },
      "source": [
        "## [334. Increasing Triplet Subsequence](https://leetcode.com/problems/increasing-triplet-subsequence/?envType=study-plan-v2&envId=leetcode-75)\n",
        "\n"
      ]
    },
    {
      "cell_type": "code",
      "execution_count": null,
      "metadata": {
        "id": "SSoD6zlcSv5G",
        "colab": {
          "base_uri": "https://localhost:8080/"
        },
        "outputId": "ca092f38-1ca8-49ff-e24a-ce878b0146ab"
      },
      "outputs": [
        {
          "output_type": "stream",
          "name": "stdout",
          "text": [
            "True\n",
            "False\n",
            "True\n"
          ]
        }
      ],
      "source": [
        "def increasing_triplet(nums: List[int]) -> bool:\n",
        "    n = len(nums)\n",
        "    for i in range(n - 2):\n",
        "        if nums[i] < nums[i + 1] < nums[i + 2]:\n",
        "            return True\n",
        "\n",
        "    return False\n",
        "\n",
        "\n",
        "if __name__ == \"__main__\":\n",
        "    testcases = [\n",
        "        [1, 2, 3, 4, 5],\n",
        "        [5, 4, 3, 2, 1],\n",
        "        [2, 1, 5, 0, 4, 6],\n",
        "    ]  # True, False, True.\n",
        "    for test in testcases:\n",
        "        print(increasing_triplet(test))"
      ]
    },
    {
      "cell_type": "markdown",
      "metadata": {
        "id": "JNGbwE9C-A7j"
      },
      "source": [
        "## [443. String Compression](https://leetcode.com/problems/string-compression/?envType=study-plan-v2&envId=leetcode-75)"
      ]
    },
    {
      "cell_type": "code",
      "execution_count": null,
      "metadata": {
        "id": "tpuH33OY-Kbe",
        "colab": {
          "base_uri": "https://localhost:8080/"
        },
        "outputId": "99a2bd28-c9b7-497d-b17a-f1ed93b994f0"
      },
      "outputs": [
        {
          "output_type": "stream",
          "name": "stdout",
          "text": [
            "6 ['a', '2', 'b', '3', 'c', '2']\n",
            "1 ['a']\n",
            "3 ['a', 'b', '2']\n",
            "4 ['a', 'b', '1', '2']\n"
          ]
        }
      ],
      "source": [
        "from typing import List\n",
        "\n",
        "\n",
        "def compress(chars: List[str]) -> int:\n",
        "    n: int = len(chars)\n",
        "    if n == 1:\n",
        "        return 1\n",
        "\n",
        "    compressed: List[str] = []\n",
        "    counter: int = 1\n",
        "\n",
        "    for i in range(n):\n",
        "        if chars[i] == chars[(i + 1) % n]:\n",
        "            counter += 1\n",
        "        else:\n",
        "            compressed.append(chars[i])\n",
        "            if counter != 1:\n",
        "                compressed.extend(list(str(counter)))\n",
        "            counter = 1\n",
        "\n",
        "    result = len(compressed)\n",
        "    chars.clear()\n",
        "    chars.extend(char for char in compressed)\n",
        "    return result\n",
        "\n",
        "\n",
        "if __name__ == \"__main__\":\n",
        "    testcases = [\n",
        "        [\"a\", \"a\", \"b\", \"b\", \"b\", \"c\", \"c\"],\n",
        "        [\"a\"],\n",
        "        [\"a\", \"b\", \"b\"],\n",
        "        [\"a\", \"b\", \"b\", \"b\", \"b\", \"b\", \"b\", \"b\", \"b\", \"b\", \"b\", \"b\", \"b\"],\n",
        "    ]  # 6, 1, 3, 4.\n",
        "    for test in testcases:\n",
        "        print(compress(test), end=\" \")\n",
        "        print(test)"
      ]
    },
    {
      "cell_type": "markdown",
      "metadata": {
        "id": "Ow1dqxx72KVb"
      },
      "source": [
        "# Two Pointers"
      ]
    },
    {
      "cell_type": "markdown",
      "metadata": {
        "id": "6ukJMrEVgDui"
      },
      "source": [
        "## [283. Move Zeroes](https://leetcode.com/problems/move-zeroes/?envType=study-plan-v2&envId=leetcode-75)"
      ]
    },
    {
      "cell_type": "code",
      "execution_count": null,
      "metadata": {
        "id": "a2jmsKHUgSKd",
        "colab": {
          "base_uri": "https://localhost:8080/"
        },
        "outputId": "63737ba8-4fca-4767-c189-fd3c7c16044d"
      },
      "outputs": [
        {
          "output_type": "stream",
          "name": "stdout",
          "text": [
            "None [1, 2, 3, 4, 5, 0, 0]\n",
            "None [5, 4, 3, 2, 1]\n",
            "None [2, 1, 5, 4, 6, 0, 0]\n",
            "None [1, 2, 0, 0, 0]\n",
            "None [0]\n"
          ]
        }
      ],
      "source": [
        "from typing import List\n",
        "\n",
        "\n",
        "# Multiple pop and append operations can be expensive than mutating at index.\n",
        "# Although a deque could be suitable for that.\n",
        "def move_zeroes_expensive(nums: List[int]) -> None:\n",
        "    left, right = 0, len(nums) - 1\n",
        "\n",
        "    while left <= right:\n",
        "        if nums[left] == 0:\n",
        "            nums.pop(left)\n",
        "            nums.append(0)\n",
        "            right -= 1\n",
        "        else:\n",
        "            left += 1\n",
        "\n",
        "        if nums[right] == 0:\n",
        "            nums.pop(right)\n",
        "            nums.append(0)\n",
        "            right -= 1\n",
        "        else:\n",
        "            right -= 1\n",
        "\n",
        "\n",
        "if __name__ == \"__main__\":\n",
        "    testcases = [\n",
        "        [1, 2, 3, 0, 4, 0, 5],\n",
        "        [5, 4, 3, 2, 1],\n",
        "        [2, 1, 5, 0, 4, 6, 0],\n",
        "        [0, 0, 1, 0, 2],\n",
        "        [0],\n",
        "    ]\n",
        "    for test in testcases:\n",
        "        print(move_zeroes_expensive(test), end=\" \")\n",
        "        print(test)"
      ]
    },
    {
      "cell_type": "code",
      "execution_count": null,
      "metadata": {
        "id": "ayb4xALV3lVC",
        "colab": {
          "base_uri": "https://localhost:8080/"
        },
        "outputId": "7cf0665e-40fa-408e-f7db-1efccb89e308"
      },
      "outputs": [
        {
          "output_type": "stream",
          "name": "stdout",
          "text": [
            "None [1, 2, 3, 4, 5, 0, 0]\n",
            "None [5, 4, 3, 2, 1]\n",
            "None [2, 1, 5, 4, 6, 0, 0]\n",
            "None [1, 2, 0, 0, 0]\n",
            "None [0]\n"
          ]
        }
      ],
      "source": [
        "from typing import List\n",
        "\n",
        "\n",
        "def move_zeroes(nums: List[int]) -> None:\n",
        "    n = len(nums)\n",
        "    non_zero_index = 0\n",
        "\n",
        "    for i in range(n):\n",
        "        if nums[i] != 0:\n",
        "            nums[non_zero_index] = nums[i]\n",
        "            non_zero_index += 1\n",
        "\n",
        "    for i in range(non_zero_index, n):\n",
        "        nums[i] = 0\n",
        "\n",
        "\n",
        "if __name__ == \"__main__\":\n",
        "    testcases = [\n",
        "        [1, 2, 3, 0, 4, 0, 5],\n",
        "        [5, 4, 3, 2, 1],\n",
        "        [2, 1, 5, 0, 4, 6, 0],\n",
        "        [0, 0, 1, 0, 2],\n",
        "        [0],\n",
        "    ]\n",
        "    for test in testcases:\n",
        "        print(move_zeroes(test), end=\" \")\n",
        "        print(test)"
      ]
    },
    {
      "cell_type": "markdown",
      "metadata": {
        "id": "2s60EQqD7_ag"
      },
      "source": [
        "## [392. Is Subsequence](https://leetcode.com/problems/is-subsequence/description/?envType=study-plan-v2&envId=leetcode-75)\n",
        "\n"
      ]
    },
    {
      "cell_type": "code",
      "execution_count": null,
      "metadata": {
        "id": "GFMk4NEU8C8N",
        "colab": {
          "base_uri": "https://localhost:8080/"
        },
        "outputId": "5cd6d827-7934-4df2-990d-44d003b54d6f"
      },
      "outputs": [
        {
          "output_type": "stream",
          "name": "stdout",
          "text": [
            "Output: True Input: s = abc, t = ahbgdc\n",
            "Output: False Input: s = axc, t = ahbgdc\n",
            "Output: True Input: s = , t = ahbgdc\n",
            "Output: False Input: s = abc, t = \n",
            "Output: True Input: s = abc, t = abc\n",
            "Output: True Input: s = abc, t = abracadabra\n",
            "Output: False Input: s = abc, t = acb\n",
            "Output: True Input: s = aab, t = ababab\n",
            "Output: True Input: s = abcdefg, t = a1b2c3d4e5f6g7\n",
            "Output: True Input: s = racecar, t = racecar\n",
            "Output: True Input: s = xyz, t = xbybz\n",
            "Output: True Input: s = abb, t = abbbaaabb\n",
            "Output: True Input: s = abababab, t = abababababababab\n"
          ]
        }
      ],
      "source": [
        "from pprint import pprint\n",
        "\n",
        "\n",
        "def is_subsequence(s: str, t: str) -> bool:\n",
        "    if s in t or s == \"\":\n",
        "        return True\n",
        "    elif t == \"\":\n",
        "        return False\n",
        "\n",
        "    ns = len(s)\n",
        "    ptr_s = 0\n",
        "    for char in t:\n",
        "        has_reached_end = ptr_s == ns\n",
        "        if has_reached_end:\n",
        "            break\n",
        "\n",
        "        is_match_can_go_right = char == s[ptr_s]\n",
        "        if is_match_can_go_right:\n",
        "            ptr_s += 1\n",
        "\n",
        "    return ptr_s == ns\n",
        "\n",
        "\n",
        "if __name__ == \"__main__\":\n",
        "    testcases = [\n",
        "        (\"abc\", \"ahbgdc\"),  # Expected output: True\n",
        "        (\"axc\", \"ahbgdc\"),  # Expected output: False\n",
        "        (\n",
        "            \"\",\n",
        "            \"ahbgdc\",\n",
        "        ),  # Expected output: True\n",
        "        (\n",
        "            \"abc\",\n",
        "            \"\",\n",
        "        ),  # Expected output: False\n",
        "        (\n",
        "            \"abc\",\n",
        "            \"abc\",\n",
        "        ),  # Expected output: True\n",
        "        (\"abc\", \"abracadabra\"),  # Expected output: True\n",
        "        (\"abc\", \"acb\"),  # Expected output: False\n",
        "        (\"aab\", \"ababab\"),  # Expected output: True\n",
        "        (\n",
        "            \"abcdefg\",\n",
        "            \"a1b2c3d4e5f6g7\",\n",
        "        ),  # Expected output: True\n",
        "        (\"racecar\", \"racecar\"),  # Expected output: True\n",
        "        (\"xyz\", \"xbybz\"),  # Expected output: False\n",
        "        (\"abb\", \"abbbaaabb\"),  # Expected output: True\n",
        "        (\n",
        "            \"abababab\",\n",
        "            \"abababababababab\",\n",
        "        ),  # Expected output: True\n",
        "    ]\n",
        "\n",
        "    for s, t in testcases:\n",
        "        result = is_subsequence(s, t)  # Replace is_subsequence with your function name\n",
        "        print(\"Output:\", result, end=\" \")\n",
        "        print(f\"Input: s = {s}, t = {t}\")"
      ]
    },
    {
      "cell_type": "markdown",
      "metadata": {
        "id": "VEv6CM9Wyb2A"
      },
      "source": [
        "## [11. Container With Most Water](https://leetcode.com/problems/container-with-most-water/?envType=study-plan-v2&envId=leetcode-75)"
      ]
    },
    {
      "cell_type": "code",
      "execution_count": null,
      "metadata": {
        "id": "DMXtz-uEHd5H",
        "colab": {
          "base_uri": "https://localhost:8080/"
        },
        "outputId": "e741c3ce-1b26-4cb4-c873-e90fe83052a5"
      },
      "outputs": [
        {
          "output_type": "stream",
          "name": "stdout",
          "text": [
            "Test Case 1: Output: 49 Input: height = [1, 8, 6, 2, 5, 4, 8, 3, 7]\n",
            "Test Case 2: Output: 1 Input: height = [1, 1]\n",
            "Test Case 3: Output: 16 Input: height = [4, 3, 2, 1, 4]\n",
            "Test Case 4: Output: 2 Input: height = [1, 2, 1]\n",
            "Test Case 5: Output: 6 Input: height = [1, 2, 3, 4, 5]\n"
          ]
        }
      ],
      "source": [
        "from typing import List\n",
        "\n",
        "# areas: List[int] = []\n",
        "# for (i, ha) in enumerate(height):\n",
        "#     for (j, hb) in enumerate(height):\n",
        "#         if i != j:\n",
        "#             areas.append(abs(i - j) * min(ha, hb))\n",
        "# return max(areas)\n",
        "\n",
        "\n",
        "def max_area(height: List[int]) -> int:\n",
        "    area: int = 0\n",
        "    lptr, rptr = 0, len(height) - 1\n",
        "\n",
        "    while lptr <= rptr:\n",
        "        hl, hr = height[lptr], height[rptr]\n",
        "        area = max(area, (rptr - lptr) * min(hl, hr))\n",
        "        if hl < hr:\n",
        "            lptr += 1\n",
        "        else:\n",
        "            rptr -= 1\n",
        "\n",
        "    return area\n",
        "\n",
        "\n",
        "if __name__ == \"__main__\":\n",
        "    test_cases = [\n",
        "        [1, 8, 6, 2, 5, 4, 8, 3, 7],\n",
        "        [1, 1],\n",
        "        [4, 3, 2, 1, 4],\n",
        "        [1, 2, 1],\n",
        "        [1, 2, 3, 4, 5],\n",
        "    ]\n",
        "    for i, height in enumerate(test_cases):\n",
        "        result = max_area(height)\n",
        "        print(f\"Test Case {i+1}:\", end=\" \")\n",
        "        print(f\"Output: {result}\", end=\" \")\n",
        "        print(f\"Input: height = {height}\")"
      ]
    },
    {
      "cell_type": "markdown",
      "metadata": {
        "id": "0v64pYlbL_Uw"
      },
      "source": [
        "## [1679. Max Number of K-Sum Pairs](https://leetcode.com/problems/max-number-of-k-sum-pairs/?envType=study-plan-v2&envId=leetcode-75)"
      ]
    },
    {
      "cell_type": "code",
      "execution_count": null,
      "metadata": {
        "id": "5QVsybdbyxYQ",
        "colab": {
          "base_uri": "https://localhost:8080/"
        },
        "outputId": "76c10685-af2d-47e1-b61a-9c7287779cda"
      },
      "outputs": [
        {
          "output_type": "stream",
          "name": "stdout",
          "text": [
            "Test Case 1: Output: 2, Input: nums = [1, 2, 3, 4], k = 5\n",
            "Test Case 2: Output: 1, Input: nums = [1, 3, 3, 3, 4], k = 6\n",
            "Test Case 3: Output: 0, Input: nums = [], k = 5\n",
            "Test Case 4: Output: 0, Input: nums = [1, 4, 6, 8], k = 11\n",
            "Test Case 5: Output: 2, Input: nums = [1, 1, 1, 1], k = 2\n",
            "Test Case 6: Output: 2, Input: nums = [1, 1, 1, 1, 1], k = 2\n",
            "Test Case 7: Output: 0, Input: nums = [1, 2, 3, 4, 5], k = 10\n",
            "Test Case 8: Output: 1, Input: nums = [1, 2, 3, 4, 5], k = 3\n",
            "Test Case 9: Output: 2, Input: nums = [1, 2, 3, 4, 5], k = 6\n",
            "Test Case 10: Output: 0, Input: nums = [2, 4, 6, 8, 10], k = 7\n"
          ]
        }
      ],
      "source": [
        "from typing import List, Set, Tuple\n",
        "\n",
        "\n",
        "def max_operations(nums: List[int], k: int) -> int:\n",
        "    n: int = len(nums)\n",
        "    if n <= 1:\n",
        "        return 0\n",
        "\n",
        "    nums.sort()\n",
        "\n",
        "    lptr: int\n",
        "    rptr: int\n",
        "    operations: int\n",
        "\n",
        "    lptr, rptr, operations = 0, n - 1, 0\n",
        "\n",
        "    while lptr < rptr:\n",
        "        curr = nums[lptr] + nums[rptr]\n",
        "        if k == curr:\n",
        "            operations += 1  # Increment counter as removed K pair.\n",
        "            lptr += 1\n",
        "            rptr -= 1\n",
        "        elif curr < k:\n",
        "            lptr += 1\n",
        "        else:\n",
        "            rptr -= 1\n",
        "\n",
        "    return operations\n",
        "\n",
        "\n",
        "if __name__ == \"__main__\":\n",
        "    test_cases: List[Tuple[List[int], int]] = [\n",
        "        ([1, 2, 3, 4], 5),\n",
        "        ([3, 1, 3, 4, 3], 6),\n",
        "        ([], 5),\n",
        "        ([1, 8, 6, 4], 11),\n",
        "        ([1, 1, 1, 1], 2),\n",
        "        ([1, 1, 1, 1, 1], 2),\n",
        "        ([1, 2, 3, 4, 5], 10),\n",
        "        ([1, 2, 3, 4, 5], 3),\n",
        "        ([1, 2, 3, 4, 5], 6),\n",
        "        ([2, 4, 6, 8, 10], 7),\n",
        "    ]\n",
        "\n",
        "    for i, (nums, k) in enumerate(test_cases):\n",
        "        result: int = max_operations(nums, k)\n",
        "        print(f\"Test Case {i+1}: Output: {result}, Input: nums = {nums}, k = {k}\")"
      ]
    },
    {
      "cell_type": "markdown",
      "metadata": {
        "id": "7i63oMOw1r5w"
      },
      "source": [
        "# Sliding Window"
      ]
    },
    {
      "cell_type": "markdown",
      "metadata": {
        "id": "HJ3zdLGaliTy"
      },
      "source": [
        "## [643. Maximum Average Subarray I](https://leetcode.com/problems/maximum-average-subarray-i/?envType=study-plan-v2&envId=leetcode-75)"
      ]
    },
    {
      "cell_type": "code",
      "execution_count": null,
      "metadata": {
        "id": "8-waNBRHdh6i",
        "colab": {
          "base_uri": "https://localhost:8080/"
        },
        "outputId": "4c43592f-b716-4033-8df7-80c1c2fb81a5"
      },
      "outputs": [
        {
          "output_type": "stream",
          "name": "stdout",
          "text": [
            "Test Case 1: Output: 12.75000, Input: nums = [1, 12, -5, -6, 50, 3], k = 4\n",
            "Test Case 2: Output: 5.00000, Input: nums = [5], k = 1\n",
            "Test Case 3: Output: 4.00000, Input: nums = [1, 2, 3, 4, 5], k = 3\n",
            "Test Case 4: Output: 5.40000, Input: nums = [3, 1, 4, 1, 5, 9, 2, 6, 5], k = 5\n",
            "Test Case 5: Output: 4.00000, Input: nums = [1, 2, 3, 4], k = 1\n",
            "Test Case 6: Output: 5.00000, Input: nums = [5, 5, 5, 5, 5, 5, 5, 5, 5, 5], k = 10\n",
            "Test Case 7: Output: 7.00000, Input: nums = [2, 4, 6, 8, 10], k = 4\n",
            "Test Case 8: Output: 7.00000, Input: nums = [7, 7, 7, 7, 7], k = 3\n"
          ]
        }
      ],
      "source": [
        "from typing import List, Tuple\n",
        "\n",
        "\n",
        "def find_max_average(nums: List[int], k: int) -> float:\n",
        "    n = len(nums)\n",
        "    if k == n:\n",
        "        return sum(nums) / k\n",
        "    elif n == 1:\n",
        "        return nums[0]\n",
        "\n",
        "    sum_window = sum(nums[:k])  # Sum of first 'k' items in nums. index = 0\n",
        "    n_window = n - k + 1  # Possible subarray count that can slide.\n",
        "\n",
        "    max_sum_window = sum_window\n",
        "\n",
        "    for i in range(1, n_window):\n",
        "        prev_left, curr_right = nums[i - 1], nums[i + (k - 1)]\n",
        "        # The window is k units wide. To slide 1 unit right, from total history,\n",
        "        # - subtract the previous slide's first item value and,\n",
        "        # - add the item next to it's boundary to total history.\n",
        "        sum_window -= prev_left\n",
        "        sum_window += curr_right\n",
        "\n",
        "        max_sum_window = max(sum_window, max_sum_window)\n",
        "\n",
        "    return max_sum_window / k\n",
        "\n",
        "\n",
        "if __name__ == \"__main__\":\n",
        "    test_cases: List[Tuple[List[int], int]] = [\n",
        "        ([1, 12, -5, -6, 50, 3], 4),\n",
        "        ([5], 1),\n",
        "        ([1, 2, 3, 4, 5], 3),\n",
        "        ([3, 1, 4, 1, 5, 9, 2, 6, 5], 5),\n",
        "        ([1, 2, 3, 4], 1),\n",
        "        ([5, 5, 5, 5, 5, 5, 5, 5, 5, 5], 10),\n",
        "        ([2, 4, 6, 8, 10], 4),\n",
        "        ([7, 7, 7, 7, 7], 3),\n",
        "    ]\n",
        "\n",
        "    for i, (nums, k) in enumerate(test_cases):\n",
        "        got: int = find_max_average(nums, k)\n",
        "        print(f\"Test Case {i+1}: Output: {got:.5f}, Input: nums = {nums}, k = {k}\")"
      ]
    },
    {
      "cell_type": "markdown",
      "metadata": {
        "id": "0V27qKGnaWC8"
      },
      "source": [
        "## [1456. Maximum Number of Vowels in a Substring of Given Length](https://leetcode.com/problems/maximum-number-of-vowels-in-a-substring-of-given-length/?envType=study-plan-v2&envId=leetcode-75)"
      ]
    },
    {
      "cell_type": "code",
      "execution_count": null,
      "metadata": {
        "id": "VlRySRw-aZNW",
        "colab": {
          "base_uri": "https://localhost:8080/"
        },
        "outputId": "3572dffc-5ef0-41fe-8990-4f754c32a2a9"
      },
      "outputs": [
        {
          "output_type": "stream",
          "name": "stdout",
          "text": [
            "Test Case 1: Output:  2, Input: s = leetcode, k =  3\n",
            "Test Case 2: Output:  3, Input: s = abciiidef, k =  3\n",
            "Test Case 3: Output:  2, Input: s = aeiou, k =  2\n"
          ]
        }
      ],
      "source": [
        "from typing import List, Set, Tuple\n",
        "\n",
        "\n",
        "def max_vowels(s: str, k: int) -> int:\n",
        "    # The set(\"aeiou\") expression constructs a set by iterating over the characters in the string \"aeiou\". Since the string is small and has a constant length, the set creation operation has a time complexity of O(1) as it performs a fixed number of operations.\n",
        "    # Storing the vowels as a set instead of a list is a good choice when you need to check for membership, as checking membership in a set has an average time complexity of O(1), while checking membership in a list has a time complexity of O(n).\n",
        "    VOWELS: Set[str] = set(\"aeiou\")\n",
        "\n",
        "    n_window: int = len(s) - k + 1  # count possible substring windows in array.\n",
        "    s_arr: List[str] = list(s)  # str_window = list(s)[0:k]  # [\"l\",\"e\",\"e\",]\n",
        "\n",
        "    windows: List[List[str]] = [s_arr[i : (i + k)] for i in range(0, n_window)]\n",
        "\n",
        "    return max([sum(1 for char in window if char in VOWELS) for window in windows])\n",
        "\n",
        "\n",
        "if __name__ == \"__main__\":\n",
        "    test_cases: List[Tuple[str, int]] = [\n",
        "        (\"leetcode\", 3),  # 2\n",
        "        (\"abciiidef\", 3),  # 3\n",
        "        (\"aeiou\", 2),  # 2\n",
        "    ]\n",
        "\n",
        "    for i, (s, k) in enumerate(test_cases):\n",
        "        got: int = max_vowels(s, k)\n",
        "        print(f\"Test Case {(i+1)}: Output: {got:2}, Input: s = {s}, k = {k:2}\")"
      ]
    },
    {
      "cell_type": "markdown",
      "metadata": {
        "id": "2GnB2mpLHmj0"
      },
      "source": [
        "## [1004. Max Consecutive Ones III](https://leetcode.com/problems/max-consecutive-ones-iii/?envType=study-plan-v2&envId=leetcode-75)"
      ]
    },
    {
      "cell_type": "code",
      "source": [
        "from typing import List, Tuple\n",
        "from collections import Counter\n",
        "\n",
        "\n",
        "def longest_ones(nums: List[int], k: int) -> int:\n",
        "    left, zero_count, max_len = 0, 0, 0\n",
        "    cache_ones: List[int] = []\n",
        "\n",
        "    for right in range(len(nums)):\n",
        "        if nums[right] == 0:\n",
        "            zero_count += 1\n",
        "\n",
        "        if zero_count > k:\n",
        "            if nums[left] == 0:\n",
        "                zero_count -= 1\n",
        "            left += 1\n",
        "\n",
        "        if zero_count <= k:\n",
        "            if nums[right] == 1:\n",
        "                cache_ones.append(right - left + 1)\n",
        "\n",
        "        max_len = max(max_len, cache_ones[-1]) if cache_ones else max_len\n",
        "\n",
        "    return max_len\n",
        "\n",
        "\n",
        "if __name__ == \"__main__\":\n",
        "    test_cases: List[Tuple[List[int], int]] = [\n",
        "        ([1, 1, 1, 0, 0, 0, 1, 1, 1, 1, 0], 2),  # 6\n",
        "        ([0, 0, 1, 1, 0, 0, 1, 1, 1, 0, 1, 1, 0, 0, 0, 1, 1, 1, 1], 3),  # 10\n",
        "    ]\n",
        "    for i, (s, k) in enumerate(test_cases):\n",
        "        got: int = longest_ones(s, k)\n",
        "        print(f\"Test Case {(i+1)}: Output: {got:2}, Input: s = {s}, k = {k:2}\")"
      ],
      "metadata": {
        "id": "5kSWQz1nOkW_",
        "collapsed": true,
        "colab": {
          "base_uri": "https://localhost:8080/"
        },
        "outputId": "2e4106dd-fc99-4391-dad0-c9a18fe271c8"
      },
      "execution_count": null,
      "outputs": [
        {
          "output_type": "stream",
          "name": "stdout",
          "text": [
            "Test Case 1: Output:  6, Input: s = [1, 1, 1, 0, 0, 0, 1, 1, 1, 1, 0], k =  2\n",
            "Test Case 2: Output: 10, Input: s = [0, 0, 1, 1, 0, 0, 1, 1, 1, 0, 1, 1, 0, 0, 0, 1, 1, 1, 1], k =  3\n"
          ]
        }
      ]
    },
    {
      "cell_type": "markdown",
      "source": [],
      "metadata": {
        "id": "VJYeKuzV4Zf-"
      }
    },
    {
      "cell_type": "markdown",
      "source": [
        "## [1493. Longest Subarray of 1's After Deleting One Element](https://leetcode.com/problems/longest-subarray-of-1s-after-deleting-one-element/?envType=study-plan-v2&envId=leetcode-75)"
      ],
      "metadata": {
        "id": "KAA0TyTR4Zhr"
      }
    },
    {
      "cell_type": "code",
      "source": [
        "def longest_subarray(nums: List[int]) -> int:\n",
        "    k = 1\n",
        "    max_len = 0\n",
        "    left, zero_count = 0, 0\n",
        "    cache_ones: List[int] = []\n",
        "\n",
        "    for right in range(len(nums)):\n",
        "        if nums[right] == 0:\n",
        "            zero_count += 1\n",
        "\n",
        "        if zero_count > k:\n",
        "            if nums[left] == 0:\n",
        "                zero_count -= 1\n",
        "            left += 1\n",
        "\n",
        "        if zero_count <= k:\n",
        "            if nums[right] == 1:\n",
        "                cache_ones.append(right - left)\n",
        "\n",
        "        max_len = max(max_len, cache_ones[-1]) if cache_ones else max_len\n",
        "\n",
        "    return max_len\n",
        "\n",
        "\n",
        "def main() -> None:\n",
        "    test_cases: List[List[int]] = [\n",
        "        [1, 1, 0, 1],  # 3\n",
        "        [0, 1, 1, 1, 0, 1, 1, 0, 1],  # 5\n",
        "        [1, 1, 1],  # 2\n",
        "    ]\n",
        "    for i, nums in enumerate(test_cases):\n",
        "        got: int = longest_subarray(nums)\n",
        "        print(f\"Test Case {(i+1)}: Output: {got:2}, Input: s = {nums}\")\n",
        "\n",
        "\n",
        "if __name__ == \"__main__\":\n",
        "    main()\n"
      ],
      "metadata": {
        "id": "WExbKyON4b-v",
        "colab": {
          "base_uri": "https://localhost:8080/"
        },
        "outputId": "2fd6b837-cd14-4f68-d17a-8c718c456be2"
      },
      "execution_count": null,
      "outputs": [
        {
          "output_type": "stream",
          "name": "stdout",
          "text": [
            "Test Case 1: Output:  3, Input: s = [1, 1, 0, 1]\n",
            "Test Case 2: Output:  5, Input: s = [0, 1, 1, 1, 0, 1, 1, 0, 1]\n",
            "Test Case 3: Output:  2, Input: s = [1, 1, 1]\n"
          ]
        }
      ]
    },
    {
      "cell_type": "markdown",
      "source": [
        "# Prefix Sum"
      ],
      "metadata": {
        "id": "-QRMvs13TGbk"
      }
    },
    {
      "cell_type": "markdown",
      "source": [
        "## [1732. Find the Highest Altitude](https://leetcode.com/problems/find-the-highest-altitude/?envType=study-plan-v2&envId=leetcode-75)"
      ],
      "metadata": {
        "id": "j7daRWjgSY-C"
      }
    },
    {
      "cell_type": "code",
      "source": [
        "from typing import List\n",
        "\n",
        "# [1732. Find the Highest Altitude](https://leetcode.com/problems/find-the-highest-altitude/?envType=study-plan-v2&envId=leetcode-75)\n",
        "\n",
        "# Let's note that the altitude of an element is the sum of gains of all\n",
        "# the elements behind it\n",
        "# Getting the altitudes can be done by getting the prefix sum array of\n",
        "# the given array\n",
        "\n",
        "\n",
        "def largest_altitude(gains: List[int]) -> int:\n",
        "    # The biker starts his trip on point 0 with altitude equal 0.\n",
        "    curr_sum, max_sum = 0, 0\n",
        "\n",
        "    for gain in gains:\n",
        "        curr_sum += gain\n",
        "        max_sum = max(curr_sum, max_sum)\n",
        "\n",
        "    return max_sum\n",
        "\n",
        "\n",
        "def main() -> None:\n",
        "    test_cases: List[List[int]] = [\n",
        "        [-5, 1, 5, 0, -7],  # 1\n",
        "        [-4, -3, -2, -1, 4, 3, 2],  # 0\n",
        "        [-5, 11, 2, -20, -7, -4, -3, -2, -1, 4, 3, 2],  # 0\n",
        "    ]\n",
        "\n",
        "    for (i, gains) in enumerate(test_cases):\n",
        "        got: int = largest_altitude(gains)\n",
        "        print(f\"Test Case {(i+1)}: Output: {got:2}, Input: s = {gains}\")\n",
        "\n",
        "\n",
        "if __name__ == \"__main__\":\n",
        "    main()\n",
        "\n"
      ],
      "metadata": {
        "id": "TX0qwhkml3TZ",
        "colab": {
          "base_uri": "https://localhost:8080/"
        },
        "outputId": "2b1d3dd2-91f3-444c-e397-8099e5704d6c"
      },
      "execution_count": null,
      "outputs": [
        {
          "output_type": "stream",
          "name": "stdout",
          "text": [
            "Test Case 1: Output:  1, Input: s = [-5, 1, 5, 0, -7]\n",
            "Test Case 2: Output:  0, Input: s = [-4, -3, -2, -1, 4, 3, 2]\n",
            "Test Case 3: Output:  8, Input: s = [-5, 11, 2, -20, -7, -4, -3, -2, -1, 4, 3, 2]\n"
          ]
        }
      ]
    },
    {
      "cell_type": "markdown",
      "source": [
        "## [724. Find Pivot Index](https://leetcode.com/problems/find-pivot-index/?envType=study-plan-v2&envId=leetcode-75)\n"
      ],
      "metadata": {
        "id": "59upkvPcSgxa"
      }
    },
    {
      "cell_type": "code",
      "source": [
        "#@title\n",
        "from typing import List\n",
        "\n",
        "\"\"\"\n",
        "[724. Find Pivot Index](https://leetcode.com/problems/find-pivot-index/?envType=study-plan-v2&envId=leetcode-75)\n",
        "\n",
        "- Create an array sumLeft where sumLeft[i] is the sum of all the numbers to the left of index i.\n",
        "- Create an array sumRight where sumRight[i] is the sum of all the numbers\n",
        "  to the right of index i.\n",
        "- For each index i, check if sumLeft[i] equals sumRight[i] return i. If no\n",
        "  i found, return -1.\n",
        "\"\"\"\n",
        "\n",
        "\n",
        "# Time: O(n).\n",
        "# Space: O(n).\n",
        "def pivot(nums: List[int]) -> int:\n",
        "    n = len(nums)\n",
        "    sum_left, sum_right = [0] * n, [0] * n\n",
        "\n",
        "    for i in range(n):\n",
        "        # nums[start, end] -> start is inclusive, end is exclusive.\n",
        "        sum_left[i], sum_right[i] = sum(nums[0:i]), sum(nums[(i+1):n])\n",
        "        if sum_left[i] == sum_right[i]:\n",
        "            return i\n",
        "\n",
        "    return -1\n",
        "\n",
        "\n",
        "# Time: O(n).\n",
        "# Space: O(1).\n",
        "def pivot_index(nums: List[int]) -> int:\n",
        "    total_sum = sum(nums)\n",
        "    left_sum = 0\n",
        "\n",
        "    for i, num in enumerate(nums):\n",
        "        if left_sum == total_sum - left_sum - num:\n",
        "            return i\n",
        "        left_sum += num\n",
        "\n",
        "    return -1\n",
        "\n",
        "\n",
        "def main() -> None:\n",
        "    test_cases: List[List[int]] = [\n",
        "        [1, 7, 3, 6, 5, 6],  # Output: 3\n",
        "        [1, 2, 3],  # Output: -1\n",
        "        [2, 1, -1],  # Output: 0\n",
        "        [1, 2, 1],  # Output: 1\n",
        "        [0, 0, 0, 0, 0],  # Output: 0\n",
        "        [1, 2, 3, 4, 5, 6, 7],  # Output: -1\n",
        "        [10, 1, -5, 4, 9, -3, 0],  # Output: 3\n",
        "    ]\n",
        "\n",
        "    for (i, nums) in enumerate(test_cases):\n",
        "        got: int = pivot_index(nums)\n",
        "        print(f\"Test Case {(i+1)}: Output: {got:2}, Input: s = {nums}\")\n",
        "        got: int = pivot(nums)\n",
        "        print(f\"Test Case {(i+1)}: Output: {got:2}, Input: s = {nums}\")\n",
        "\n",
        "\n",
        "if __name__ == \"__main__\":\n",
        "    main()\n"
      ],
      "metadata": {
        "id": "JWux5qSKmB9U",
        "cellView": "form",
        "colab": {
          "base_uri": "https://localhost:8080/"
        },
        "outputId": "6b015df1-4c1e-4ba7-a818-c3bfc33a6230"
      },
      "execution_count": null,
      "outputs": [
        {
          "output_type": "stream",
          "name": "stdout",
          "text": [
            "Test Case 1: Output:  3, Input: s = [1, 7, 3, 6, 5, 6]\n",
            "Test Case 1: Output:  3, Input: s = [1, 7, 3, 6, 5, 6]\n",
            "Test Case 2: Output: -1, Input: s = [1, 2, 3]\n",
            "Test Case 2: Output: -1, Input: s = [1, 2, 3]\n",
            "Test Case 3: Output:  0, Input: s = [2, 1, -1]\n",
            "Test Case 3: Output:  0, Input: s = [2, 1, -1]\n",
            "Test Case 4: Output:  1, Input: s = [1, 2, 1]\n",
            "Test Case 4: Output:  1, Input: s = [1, 2, 1]\n",
            "Test Case 5: Output:  0, Input: s = [0, 0, 0, 0, 0]\n",
            "Test Case 5: Output:  0, Input: s = [0, 0, 0, 0, 0]\n",
            "Test Case 6: Output: -1, Input: s = [1, 2, 3, 4, 5, 6, 7]\n",
            "Test Case 6: Output: -1, Input: s = [1, 2, 3, 4, 5, 6, 7]\n",
            "Test Case 7: Output:  3, Input: s = [10, 1, -5, 4, 9, -3, 0]\n",
            "Test Case 7: Output:  3, Input: s = [10, 1, -5, 4, 9, -3, 0]\n"
          ]
        }
      ]
    },
    {
      "cell_type": "markdown",
      "source": [
        "# Hash Map / Set"
      ],
      "metadata": {
        "id": "EVwUuvswTCHu"
      }
    },
    {
      "cell_type": "markdown",
      "source": [
        "## [2215. Find the Difference of Two Arrays](https://leetcode.com/problems/find-the-difference-of-two-arrays/?envType=study-plan-v2&envId=leetcode-75)"
      ],
      "metadata": {
        "id": "3-rEIkXiSosD"
      }
    },
    {
      "cell_type": "code",
      "source": [
        "from typing import List, Tuple\n",
        "\n",
        "\"\"\"\n",
        "[2215. Find the Difference of Two Arrays]\n",
        "    (https://leetcode.com/problems/find-the-difference-of-two-arrays/?envType=study-plan-v2&envId=leetcode-75)\n",
        "\"\"\"\n",
        "\n",
        "\n",
        "def find_difference(nums1: List[int], nums2: List[int]) -> List[List[int]]:\n",
        "    s1, s2 = set(nums1), set(nums2)\n",
        "\n",
        "    return [list(s1-s2), list(s2-s1)]\n",
        "\n",
        "\n",
        "def main() -> None:\n",
        "    test_cases: List[Tuple[List[int], List[int]]] = [\n",
        "        ([1, 2, 3], [2, 4, 6]),  # Output: [[1,3],[4,6]]\n",
        "        ([1, 2, 3, 3], [1, 1, 2, 2]),  # Output: [[3],[]]\n",
        "    ]\n",
        "\n",
        "    for (i, (nums1, nums2)) in enumerate(test_cases):\n",
        "        got: List[List[int]] = find_difference(nums1, nums2)\n",
        "        print(f\"\"\"Test Case {(i+1)}: Output: {got},\n",
        "             Input: nums1: {nums1}, nums2: {nums2}\"\"\")\n",
        "\n",
        "\n",
        "if __name__ == \"__main__\":\n",
        "    main()\n",
        "\n"
      ],
      "metadata": {
        "id": "UvdZKFL6mTDT",
        "colab": {
          "base_uri": "https://localhost:8080/"
        },
        "outputId": "2a17d68f-976f-4e11-f1f0-e484cee51c01"
      },
      "execution_count": null,
      "outputs": [
        {
          "output_type": "stream",
          "name": "stdout",
          "text": [
            "Test Case 1: Output: [[1, 3], [4, 6]],\n",
            "             Input: nums1: [1, 2, 3], nums2: [2, 4, 6]\n",
            "Test Case 2: Output: [[3], []],\n",
            "             Input: nums1: [1, 2, 3, 3], nums2: [1, 1, 2, 2]\n"
          ]
        }
      ]
    },
    {
      "cell_type": "markdown",
      "source": [
        "## [1207. Unique Number of Occurrences](https://leetcode.com/problems/unique-number-of-occurrences/?envType=study-plan-v2&envId=leetcode-75)"
      ],
      "metadata": {
        "id": "VdOu15QhSt6T"
      }
    },
    {
      "cell_type": "code",
      "source": [
        "\"\"\"\n",
        "[1207. Unique Number of Occurrences]\n",
        "    (https://leetcode.com/problems/unique-number-of-occurrences/?envType=study-plan-v2&envId=leetcode-75)\n",
        "\"\"\"\n",
        "\n",
        "from typing import List\n",
        "\n",
        "\n",
        "def unique_occurences(arr: List[int]) -> bool:\n",
        "    arr_hash = {key: 0 for key in set(arr)}\n",
        "    for x in arr:\n",
        "        arr_hash[x] += 1\n",
        "\n",
        "    values = list(arr_hash.values())\n",
        "    unique_values = list(set(values))\n",
        "\n",
        "    return len(values) == len(unique_values)\n",
        "\n",
        "\n",
        "def main() -> None:\n",
        "    test_cases: List[List[int]] = [\n",
        "        [1, 1, 2, 3, 3, 3, 3, 4],  # False\n",
        "        [1, 2],  # False\n",
        "        [1, 2, 2, 1, 1, 3],  # True\n",
        "        [-3, 0, 1, -3, 1, 1, 1, -3, 10, 0],  # True\n",
        "        [1, 1, 2, 3, 3, 3, 3, 4, 4, 4, 4, 4],  # True\n",
        "    ]\n",
        "\n",
        "    for (i, arr) in enumerate(test_cases):\n",
        "        got: bool = unique_occurences(arr)\n",
        "        print(f\"\"\"Test Case {(i+1)}: Output: {got}, Input: {arr}\"\"\")\n",
        "\n",
        "\n",
        "if __name__ == \"__main__\":\n",
        "    main()\n",
        "\n"
      ],
      "metadata": {
        "id": "0GOgU7RfmYSD",
        "colab": {
          "base_uri": "https://localhost:8080/"
        },
        "outputId": "4f63a0a2-26db-4dcd-f61e-4d6939675b0e"
      },
      "execution_count": null,
      "outputs": [
        {
          "output_type": "stream",
          "name": "stdout",
          "text": [
            "Test Case 1: Output: False, Input: [1, 1, 2, 3, 3, 3, 3, 4]\n",
            "Test Case 2: Output: False, Input: [1, 2]\n",
            "Test Case 3: Output: True, Input: [1, 2, 2, 1, 1, 3]\n",
            "Test Case 4: Output: True, Input: [-3, 0, 1, -3, 1, 1, 1, -3, 10, 0]\n",
            "Test Case 5: Output: True, Input: [1, 1, 2, 3, 3, 3, 3, 4, 4, 4, 4, 4]\n"
          ]
        }
      ]
    },
    {
      "cell_type": "markdown",
      "source": [
        "## [1657. Determine if Two Strings Are Close](https://leetcode.com/problems/determine-if-two-strings-are-close/?envType=study-plan-v2&envId=leetcode-75)"
      ],
      "metadata": {
        "id": "db9YEVgSMYJ-"
      }
    },
    {
      "cell_type": "code",
      "source": [
        "from collections import defaultdict\n",
        "\n",
        "\"\"\"\n",
        "[1657. Determine if Two Strings Are Close]\n",
        "    (https://leetcode.com/problems/determine-if-two-strings-are-close/?envType=study-plan-v2&envId=leetcode-75)\n",
        "\"\"\"\n",
        "\n",
        "def close_strings(word1: str, word2: str) -> bool:\n",
        "    if len(word1) != len(word2):\n",
        "        return False\n",
        "\n",
        "    if set(word1) != set(word2):\n",
        "        return False\n",
        "\n",
        "    freq1, freq2 = defaultdict(int), defaultdict(lambda: 0)\n",
        "    for (k1, k2) in zip(list(word1), list(word2)):\n",
        "        freq1[k1] += 1\n",
        "        freq2[k2] += 1\n",
        "\n",
        "    return sorted(freq1.values()) == sorted(freq2.values())\n",
        "\n",
        "\n",
        "def main() -> None:\n",
        "    test_cases = [\n",
        "        # True.\n",
        "        (\"abc\", \"bca\"),\n",
        "        (\"cabbba\", \"abbccc\"),\n",
        "        (\"dddea\", \"eeead\"),\n",
        "\n",
        "        # False.\n",
        "        (\"a\", \"aa\"),\n",
        "        (\"uau\", \"ssx\"),\n",
        "        (\"cabbbazzzz\", \"abbccczaab\"),\n",
        "        (\"abbccczaabwwwwww\", \"cabbbazzzzwaaaaa\"),\n",
        "        (\"aaabbbbccddeeeeefffff\", \"aaaaabbcccdddeeeeffff\"),\n",
        "    ]\n",
        "    for i, (str1, str2) in enumerate(test_cases):\n",
        "        result = close_strings(str1, str2)\n",
        "        print(f\"Test Case {(i+1)}: Output: {result}, \\n\\\n",
        "              Input: ({str1}, {str2})\")\n",
        "\n",
        "\n",
        "if __name__ == \"__main__\":\n",
        "    main()\n",
        "\n"
      ],
      "metadata": {
        "colab": {
          "base_uri": "https://localhost:8080/"
        },
        "id": "DJenpLXmMUBI",
        "outputId": "4da13a5a-5b26-4c20-8bde-6712f96c3c05"
      },
      "execution_count": null,
      "outputs": [
        {
          "output_type": "stream",
          "name": "stdout",
          "text": [
            "Test Case 1: Output: True, \n",
            "              Input: (abc, bca)\n",
            "Test Case 2: Output: True, \n",
            "              Input: (cabbba, abbccc)\n",
            "Test Case 3: Output: True, \n",
            "              Input: (dddea, eeead)\n",
            "Test Case 4: Output: False, \n",
            "              Input: (a, aa)\n",
            "Test Case 5: Output: False, \n",
            "              Input: (uau, ssx)\n",
            "Test Case 6: Output: False, \n",
            "              Input: (cabbbazzzz, abbccczaab)\n",
            "Test Case 7: Output: False, \n",
            "              Input: (abbccczaabwwwwww, cabbbazzzzwaaaaa)\n",
            "Test Case 8: Output: False, \n",
            "              Input: (aaabbbbccddeeeeefffff, aaaaabbcccdddeeeeffff)\n"
          ]
        }
      ]
    },
    {
      "cell_type": "markdown",
      "source": [
        "## [2352. Equal Row and Column Pairs](https://leetcode.com/problems/equal-row-and-column-pairs/?envType=study-plan-v2&envId=leetcode-75)"
      ],
      "metadata": {
        "id": "WLc2Jw1Kp6m3"
      }
    },
    {
      "cell_type": "code",
      "source": [
        "from typing import List, Set\n",
        "\n",
        "\n",
        "\"\"\"\n",
        "[2352. Equal Row and Column Pairs]\n",
        "    (https://leetcode.com/problems/equal-row-and-column-pairs/?envType=study-plan-v2&envId=leetcode-75)\n",
        "\"\"\"\n",
        "\n",
        "\n",
        "def equal_pairs(grid: List[List[int]]) -> int:\n",
        "    n = len(grid)\n",
        "\n",
        "    rows = [x[:] for x in grid]\n",
        "    cols = [[y[i] for y in grid] for i in range(n)]\n",
        "\n",
        "    a: Set[str] = set(map(str, rows))\n",
        "    b: Set[str] = set(map(str, cols))\n",
        "\n",
        "    return n - len(a - b)\n",
        "\n",
        "\n",
        "def main() -> None:\n",
        "    test_cases: List[List[List[int]]] = [\n",
        "        [[3, 2, 1], [1, 7, 6], [2, 7, 7]],  # 1\n",
        "        [[3, 1, 2, 2], [1, 4, 4, 5], [2, 4, 2, 2], [2, 4, 2, 2]],  # 3\n",
        "    ]\n",
        "\n",
        "    for (i, grid) in enumerate(test_cases):\n",
        "        got: int = equal_pairs(grid=grid)\n",
        "        print(f\"Test Case {(i+1)}: Output: {got:2}, Input: s = {grid}\")\n",
        "\n",
        "\n",
        "if __name__ == \"__main__\":\n",
        "    main()\n",
        "\n",
        "\n"
      ],
      "metadata": {
        "id": "l8SSKDVMpuZo",
        "colab": {
          "base_uri": "https://localhost:8080/"
        },
        "outputId": "0657f35e-ff50-4673-e3f3-ad35b2c52c2d"
      },
      "execution_count": null,
      "outputs": [
        {
          "output_type": "stream",
          "name": "stdout",
          "text": [
            "Test Case 1: Output:  1, Input: s = [[3, 2, 1], [1, 7, 6], [2, 7, 7]]\n",
            "Test Case 2: Output:  3, Input: s = [[3, 1, 2, 2], [1, 4, 4, 5], [2, 4, 2, 2], [2, 4, 2, 2]]\n"
          ]
        }
      ]
    },
    {
      "cell_type": "markdown",
      "source": [
        "# Stack"
      ],
      "metadata": {
        "id": "8EcRlJotS-EE"
      }
    },
    {
      "cell_type": "markdown",
      "source": [
        "## [2390. Removing Stars From a String](https://leetcode.com/problems/removing-stars-from-a-string/?envType=study-plan-v2&envId=leetcode-75)\n"
      ],
      "metadata": {
        "id": "3VeYcItDTHdP"
      }
    },
    {
      "cell_type": "code",
      "source": [
        "from typing import Deque, List\n",
        "from collections import deque\n",
        "\n",
        "\"\"\"\n",
        "[2390. Removing Stars From a String]\n",
        "    (https://leetcode.com/problems/removing-stars-from-a-string/?envType=study-plan-v2&envId=leetcode-75)\n",
        "\"\"\"\n",
        "\n",
        "def remove_stars_count(s: str) -> str:\n",
        "    count, result, srev = 0, deque(), s[::-1]\n",
        "\n",
        "    for char in srev:\n",
        "        if char == '*':\n",
        "            count += 1\n",
        "        elif count:\n",
        "            count -= 1\n",
        "        else:\n",
        "            result.appendleft(char)\n",
        "\n",
        "    return \"\".join(result)\n",
        "\n",
        "\n",
        "print(f\"`{remove_stars_count('leet**cod*e')}`\")  # \"lecoe\"\n",
        "print(f\"`{remove_stars_count('erase*****')}`\")  # \"\"\n",
        "\n",
        "\n",
        "def remove_stars(s: str) -> str:\n",
        "    nonstar: Deque[str] = deque()\n",
        "\n",
        "    arr: List[str] = list(s)\n",
        "    left = right = len(s)-1\n",
        "\n",
        "    while right >= 0 and left >= 0:\n",
        "        while arr[right] == '*' and arr[left] == '*':\n",
        "            left -= 1\n",
        "\n",
        "        # Stack LIFO (last in first out). Append to the front of the list.\n",
        "        if arr[right] != '*' and arr[left] != '*':\n",
        "            nonstar.appendleft(arr[left])\n",
        "\n",
        "        left -= 1\n",
        "        right -= 1\n",
        "\n",
        "    return \"\".join(nonstar)\n",
        "\n",
        "print(f\"`{remove_stars('leet**cod*e')}`\")  # \"lecoe\"\n",
        "print(f\"`{remove_stars('erase*****')}`\")  # \"\"\n"
      ],
      "metadata": {
        "colab": {
          "base_uri": "https://localhost:8080/"
        },
        "id": "UX3g_WADTF73",
        "outputId": "28f26c95-c118-4e88-c4fb-0ac0e7c45fbe"
      },
      "execution_count": null,
      "outputs": [
        {
          "output_type": "stream",
          "name": "stdout",
          "text": [
            "`lecoe`\n",
            "``\n",
            "`lecoe`\n",
            "``\n"
          ]
        }
      ]
    },
    {
      "cell_type": "markdown",
      "source": [
        "## [735. Asteroid Collision](https://leetcode.com/problems/asteroid-collision/?envType=study-plan-v2&envId=leetcode-75)\n"
      ],
      "metadata": {
        "id": "DsGnVxb0xsFt"
      }
    },
    {
      "cell_type": "code",
      "source": [
        "from collections import deque\n",
        "from typing import Deque, List, Tuple\n",
        "\n",
        "def asteroid_collision(asteroids: List[int]) -> List[int]:\n",
        "    stack = []\n",
        "    for asteroid in asteroids:\n",
        "        while stack and stack[-1] > 0 and asteroid < 0:\n",
        "            # stack(top)[ +ve ]--> <--[ -ve ]asteroid(curr).\n",
        "            collision = stack[-1] + asteroid\n",
        "\n",
        "            if collision < 0:\n",
        "                stack.pop()\n",
        "                continue\n",
        "            elif collision > 0:\n",
        "                break\n",
        "            else:\n",
        "                stack.pop()\n",
        "                break\n",
        "        else:\n",
        "            # Append the asteroid when the while loop condition becomes false,\n",
        "            # either by default or after collision < 0 pops an element.\n",
        "            stack.append(asteroid)\n",
        "\n",
        "    return stack\n",
        "\n",
        "\n",
        "print(asteroid_collision([5, -10, 5])) # [-10,5]\n",
        "print(asteroid_collision([8, -8])) # []\n",
        "print(asteroid_collision([10, 2, -5])) # [10]\n",
        "print(asteroid_collision([3, -3, -3, 3])) # [-3.3]\n",
        "print(asteroid_collision([3, 3, -3, -3])) # []\n",
        "print(asteroid_collision([5, -10, 5, 3, -3, 23, 234, -234])) # [-10,5,23]\n"
      ],
      "metadata": {
        "colab": {
          "base_uri": "https://localhost:8080/"
        },
        "id": "UVKIjw-Sxqhu",
        "outputId": "449ec309-ca7d-47b6-f23d-f8ccb6fe098e"
      },
      "execution_count": null,
      "outputs": [
        {
          "output_type": "stream",
          "name": "stdout",
          "text": [
            "[-10, 5]\n",
            "[]\n",
            "[10]\n",
            "[-3, 3]\n",
            "[]\n",
            "[-10, 5, 23]\n"
          ]
        }
      ]
    },
    {
      "cell_type": "markdown",
      "source": [
        "## [394. Decode String](https://leetcode.com/problems/decode-string/?envType=study-plan-v2&envId=leetcode-75)"
      ],
      "metadata": {
        "id": "Ml16-Z5y1JVf"
      }
    },
    {
      "cell_type": "code",
      "source": [
        "def test_decode_string():\n",
        "    test_cases = [\n",
        "        (\"4[x]\", \"xxxx\"),\n",
        "        (\"2[abc]3[cd]ef\", \"abcabccdcdcdef\"),\n",
        "        (\"3[a]2[bc]\", \"aaabcbc\"),\n",
        "        (\"3[a2[c]]\", \"accaccacc\"),\n",
        "        (\"2[a2[b2[c]]]\", \"abccbccabccbcc\")\n",
        "    ]\n",
        "\n",
        "    for s, expected_output in test_cases:\n",
        "        assert decode_string(s) == expected_output\n",
        "\n",
        "    print(\"All test cases pass\")\n",
        "\n",
        "\n",
        "def decode_string(s: str) -> str:\n",
        "    stack = []\n",
        "    curr = \"\"\n",
        "    result = []\n",
        "\n",
        "    for char in s:\n",
        "        if char.isdigit():\n",
        "            curr += char\n",
        "        elif char == '[':\n",
        "            stack.append((int(curr), result))\n",
        "            curr = \"\"\n",
        "            result = []\n",
        "        elif char == ']':\n",
        "            repeat_times, prev_result = stack.pop()\n",
        "            prev_result.append(\"\".join(result) * repeat_times)\n",
        "            result = prev_result\n",
        "        else:\n",
        "            result.append(char)\n",
        "\n",
        "    return \"\".join(result)\n",
        "\n",
        "\n",
        "def decode_string_v2(s) -> str:\n",
        "    arr = list(s)\n",
        "    left_bracket, right_bracket = '[', ']'\n",
        "    count_l, count_r = 0, 0\n",
        "    capture = []\n",
        "    result = []\n",
        "    curr = \"\"\n",
        "    lvl_deep = 0\n",
        "\n",
        "    for c in arr[::-1]:\n",
        "        if not c.isdigit() and c != left_bracket and c != right_bracket:\n",
        "            capture.append(c)\n",
        "            if lvl_deep == 1 and result:\n",
        "                result.append(c + result.pop())\n",
        "                capture.clear()\n",
        "        elif c == right_bracket:\n",
        "            count_r += 1\n",
        "            if count_r-count_l > 1:\n",
        "                lvl_deep += 1\n",
        "\n",
        "            curr = \"\".join(sorted(capture))\n",
        "            capture.clear()\n",
        "            if curr:\n",
        "                result.append(curr)\n",
        "        elif c == left_bracket:\n",
        "            count_l += 1\n",
        "            curr = \"\".join(sorted(capture))\n",
        "            capture.clear()\n",
        "            if curr:\n",
        "                result.append(curr)\n",
        "            if lvl_deep and count_r == count_l:\n",
        "                lvl_deep -= 1\n",
        "        elif c.isdigit():\n",
        "            temp = []\n",
        "            capture.clear()\n",
        "            repeat_str = result[-1]\n",
        "\n",
        "            if lvl_deep == 2 or (lvl_deep == 1 and len(result) > 1):\n",
        "                repeat_str = \"\".join(sorted(result))\n",
        "                result.clear()\n",
        "                result.append(repeat_str)\n",
        "            for _ in range(int(c)):\n",
        "                temp.append(repeat_str)\n",
        "\n",
        "            curr = \"\".join(sorted(temp))\n",
        "            result.pop()\n",
        "            result.append(curr)\n",
        "\n",
        "    return \"\".join(sorted(result))\n",
        "\n",
        "\n",
        "if __name__ == \"__main__\":\n",
        "    test_decode_string()\n"
      ],
      "metadata": {
        "colab": {
          "base_uri": "https://localhost:8080/"
        },
        "id": "oe2thAEK0EtJ",
        "outputId": "cc76f14f-5418-4fc5-8c14-48a2d5040722"
      },
      "execution_count": null,
      "outputs": [
        {
          "output_type": "stream",
          "name": "stdout",
          "text": [
            "All test cases pass\n"
          ]
        }
      ]
    },
    {
      "cell_type": "markdown",
      "source": [
        "# Queue"
      ],
      "metadata": {
        "id": "MrQ7ASRf2uPe"
      }
    },
    {
      "cell_type": "markdown",
      "source": [
        "## [933. Number of Recent Calls](https://leetcode.com/problems/number-of-recent-calls/?envType=study-plan-v2&envId=leetcode-75)"
      ],
      "metadata": {
        "id": "ni7vBMVOJfSe"
      }
    },
    {
      "cell_type": "code",
      "source": [
        "from typing import List\n",
        "\n",
        "class RecentCounter:\n",
        "\n",
        "    def __init__(self):\n",
        "        self.request_counter: List[int] = []  # Zero recent requests.\n",
        "\n",
        "    def ping(self, t: int) -> int:\n",
        "        self.request_counter.append(t)\n",
        "        answer = 0\n",
        "\n",
        "        for x in self.request_counter:\n",
        "            if t - x <= 3000:\n",
        "                answer += 1\n",
        "\n",
        "        return answer\n",
        "\n",
        "\n",
        "# Your RecentCounter object will be instantiated and called as such:\n",
        "obj = RecentCounter()\n",
        "t_requests = [1, 100, 3001, 3002]\n",
        "for t in t_requests:\n",
        "    param = obj.ping(t)\n",
        "    print(param)"
      ],
      "metadata": {
        "colab": {
          "base_uri": "https://localhost:8080/"
        },
        "id": "p5Hugzcy2zYG",
        "outputId": "15160ea9-1c27-4f28-a738-8d05f8bdb7dc"
      },
      "execution_count": 58,
      "outputs": [
        {
          "output_type": "stream",
          "name": "stdout",
          "text": [
            "1\n",
            "2\n",
            "3\n",
            "3\n"
          ]
        }
      ]
    },
    {
      "cell_type": "code",
      "source": [
        "from collections import deque\n",
        "\n",
        "class RecentCounterQueue:\n",
        "    def __init__(self):\n",
        "        self.requests = deque()\n",
        "\n",
        "    # Remove request outside of 3000ms time window.\n",
        "    def ping(self, t: int) -> int:\n",
        "        self.requests.append(t)\n",
        "\n",
        "        while self.requests[0] < t - 3000:\n",
        "            self.requests.popleft()\n",
        "\n",
        "        return len(self.requests)\n",
        "\n",
        "# Your RecentCounter object will be instantiated and called as such:\n",
        "obj = RecentCounterQueue()\n",
        "t_requests = [1, 100, 3001, 3002]\n",
        "for t in t_requests:\n",
        "    param = obj.ping(t)\n",
        "    print(param)"
      ],
      "metadata": {
        "colab": {
          "base_uri": "https://localhost:8080/"
        },
        "id": "hFXyQDo5tdEM",
        "outputId": "102af50c-a559-4a18-93f7-6d75f571dfb6"
      },
      "execution_count": 67,
      "outputs": [
        {
          "output_type": "stream",
          "name": "stdout",
          "text": [
            "1\n",
            "2\n",
            "3\n",
            "3\n"
          ]
        }
      ]
    },
    {
      "cell_type": "markdown",
      "source": [
        "You have a RecentCounter class which counts the number of recent requests within a certain time frame.\n",
        "\n",
        "Implement the RecentCounter class:\n",
        "\n",
        "RecentCounter() Initializes the counter with zero recent requests.\n",
        "int ping(int t) Adds a new request at time t, where t represents some time in milliseconds, and returns the number of requests that has happened in the past 3000 milliseconds (including the new request). Specifically, return the number of requests that have happened in the inclusive range [t - 3000, t].\n",
        "It is guaranteed that every call to ping uses a strictly larger value of t than the previous call.\n",
        "\n",
        "\n",
        "\n",
        "Example 1:\n",
        "\n",
        "Input\n",
        "[\"RecentCounter\", \"ping\", \"ping\", \"ping\", \"ping\"]\n",
        "[[], [1], [100], [3001], [3002]]\n",
        "Output\n",
        "[null, 1, 2, 3, 3]\n",
        "\n",
        "Explanation\n",
        "RecentCounter recentCounter = new RecentCounter();\n",
        "recentCounter.ping(1);     // requests = [1], range is [-2999,1], return 1\n",
        "recentCounter.ping(100);   // requests = [1, 100], range is [-2900,100], return 2\n",
        "recentCounter.ping(3001);  // requests = [1, 100, 3001], range is [1,3001], return 3\n",
        "recentCounter.ping(3002);  // requests = [1, 100, 3001, 3002], range is [2,3002], return 3\n",
        "\n",
        "\n",
        "Constraints:\n",
        "\n",
        "1 <= t <= 109\n",
        "Each test case will call ping with strictly increasing values of t.\n",
        "At most 104 calls will be made to ping.\n"
      ],
      "metadata": {
        "id": "3gpNXosXJ3yU"
      }
    }
  ],
  "metadata": {
    "colab": {
      "provenance": [],
      "collapsed_sections": [
        "UJp6B79kFAFy",
        "-xUmMKenEh2k",
        "uBsphqiTXzvY",
        "5NYhOoM-jyZI",
        "6QnSf3RDx17V",
        "2qaOHem2tOzn",
        "89Isi4VLLi_E",
        "5yU2U29LlW-c",
        "JNGbwE9C-A7j",
        "Ow1dqxx72KVb",
        "6ukJMrEVgDui",
        "2s60EQqD7_ag",
        "VEv6CM9Wyb2A",
        "0v64pYlbL_Uw",
        "7i63oMOw1r5w",
        "HJ3zdLGaliTy",
        "0V27qKGnaWC8",
        "2GnB2mpLHmj0",
        "KAA0TyTR4Zhr",
        "-QRMvs13TGbk",
        "j7daRWjgSY-C",
        "59upkvPcSgxa",
        "3-rEIkXiSosD",
        "VdOu15QhSt6T",
        "db9YEVgSMYJ-"
      ],
      "include_colab_link": true
    },
    "kernelspec": {
      "display_name": "Python 3",
      "name": "python3"
    },
    "language_info": {
      "name": "python"
    }
  },
  "nbformat": 4,
  "nbformat_minor": 0
}