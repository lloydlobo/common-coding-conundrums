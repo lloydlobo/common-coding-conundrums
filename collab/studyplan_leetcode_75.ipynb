{
  "nbformat": 4,
  "nbformat_minor": 0,
  "metadata": {
    "colab": {
      "provenance": [],
      "collapsed_sections": [
        "UJp6B79kFAFy",
        "-xUmMKenEh2k",
        "uBsphqiTXzvY"
      ],
      "authorship_tag": "ABX9TyO3FRd0O2+2AJezqhVv8C8e",
      "include_colab_link": true
    },
    "kernelspec": {
      "name": "python3",
      "display_name": "Python 3"
    },
    "language_info": {
      "name": "python"
    }
  },
  "cells": [
    {
      "cell_type": "markdown",
      "metadata": {
        "id": "view-in-github",
        "colab_type": "text"
      },
      "source": [
        "<a href=\"https://colab.research.google.com/github/lloydlobo/common-coding-conundrums/blob/main/collab/studyplan_leetcode_75.ipynb\" target=\"_parent\"><img src=\"https://colab.research.google.com/assets/colab-badge.svg\" alt=\"Open In Colab\"/></a>"
      ]
    },
    {
      "cell_type": "markdown",
      "source": [
        "https://leetcode.com/studyplan/leetcode-75/"
      ],
      "metadata": {
        "id": "9vXCxn2f85I2"
      }
    },
    {
      "cell_type": "markdown",
      "source": [
        "# [1768. Merge Strings Alternately](https://leetcode.com/problems/merge-strings-alternately/?envType=study-plan-v2&envId=leetcode-75)"
      ],
      "metadata": {
        "id": "UJp6B79kFAFy"
      }
    },
    {
      "cell_type": "code",
      "execution_count": null,
      "metadata": {
        "id": "ywCJ6lS66HwD"
      },
      "outputs": [],
      "source": [
        "def merge_alternatively(word1:str,word2:str) -> str:\n",
        "  n_w1,n_w2=len(word1),len(word2)\n",
        "  n_max=max(n_w1,n_w2)\n",
        "  result = []\n",
        "  counter=0\n",
        "  while counter < n_max:\n",
        "    if counter < n_w1:\n",
        "      result.append(word1[counter])\n",
        "    if counter < n_w2:\n",
        "      result.append(word2[counter])\n",
        "    counter+=1\n",
        "\n",
        "  return \"\".join(result)\n",
        "\n",
        "if __name__ == \"__main__\":\n",
        "  result = merge_alternatively(\"abc\", \"uvwxyz\")\n",
        "  print(f\"{result}\") # aubvcwxyz."
      ]
    },
    {
      "cell_type": "markdown",
      "source": [
        "# [1071. Greatest Common Divisor of Strings](https://leetcode.com/problems/greatest-common-divisor-of-strings/?envType=study-plan-v2&envId=leetcode-75)"
      ],
      "metadata": {
        "id": "-xUmMKenEh2k"
      }
    },
    {
      "cell_type": "code",
      "source": [
        "def gcd_of_strings(str1:str,str2:str) -> bool:\n",
        "  nstr1,nstr2=len(str1),len(str2)\n",
        "  shortest = min(nstr1,nstr2)\n",
        "  longest=max(nstr1,nstr2)\n",
        "  numerator,divisor=\"\",\"\"\n",
        "  if nstr1==shortest:\n",
        "    numerator,divisor=str2,str1\n",
        "  elif nstr2==shortest:\n",
        "    numerator,divisor=str1,str2\n",
        "  \n",
        "  counter=0\n",
        "  while counter < longest:\n",
        "    if numerator[counter] != divisor[counter%shortest]:\n",
        "      return False\n",
        "    counter+=1\n",
        "\n",
        "  return True\n",
        "\n",
        "if __name__ == \"__main__\":\n",
        "  result = gcd_of_strings(\"abcabcabc\", \"abc\")\n",
        "  print(f\"{result}\") # True.\n",
        "  result = gcd_of_strings(\"abababab\", \"abab\")\n",
        "  print(f\"{result}\") # True.\n"
      ],
      "metadata": {
        "id": "jpex0pYkEhTF"
      },
      "execution_count": null,
      "outputs": []
    },
    {
      "cell_type": "markdown",
      "source": [
        "# [1431. Kids With the Greatest Number of Candies](https://leetcode.com/problems/kids-with-the-greatest-number-of-candies/?envType=study-plan-v2&envId=leetcode-75)"
      ],
      "metadata": {
        "id": "uBsphqiTXzvY"
      }
    },
    {
      "cell_type": "code",
      "source": [
        "#@title\n",
        "from typing import List\n",
        "\n",
        "def kids_with_candies(candies: List[int], extra_candies: int) -> List[bool]:\n",
        "  max_candies = max(candies)\n",
        "  # res: List[bool] = []\n",
        "  # for curr in candies:\n",
        "  #  if curr + extra_candies >= max_candies:\n",
        "  #      res.append(True)\n",
        "  #  else:\n",
        "  #      res.append(False)\n",
        "  # return res\n",
        "  return [candy + extra_candies >= max_candies for candy in candies]\n",
        "\n",
        "\n",
        "if __name__ == \"__main__\":\n",
        "  result = kids_with_candies(candies=[2,3,5,1,3], extra_candies=3) \n",
        "  print(f\"{result}\") # [True, True, True, False, True]."
      ],
      "metadata": {
        "id": "ZTfjJ0sqJvYn"
      },
      "execution_count": null,
      "outputs": []
    },
    {
      "cell_type": "markdown",
      "source": [
        "# [605. Can Place Flowers](https://leetcode.com/problems/can-place-flowers/?envType=study-plan-v2&envId=leetcode-75)"
      ],
      "metadata": {
        "id": "5NYhOoM-jyZI"
      }
    },
    {
      "cell_type": "code",
      "source": [
        "from typing import List\n",
        "\n",
        "# flowerbed[i] is 0 or 1.\n",
        "# There are no two adjacent flowers in flowerbed.\n",
        "# 1 flower needs 3 empty consecutive zeroes.\n",
        "def can_place_flowers(flowerbed: List[int], n: int) -> bool:\n",
        "    def is_valid_position(flowerbed: List[int], index: int, len_bed: int) -> bool:\n",
        "        is_zero_prev_or_first = flowerbed[index-1]==0 or index==0\n",
        "        # FIXME: use closures to avoid using remainder. in most cases the other prev check will return false, thus we wont call the next variable checks.\n",
        "        is_zero_next_or_last = flowerbed[(index+1)%len_bed]==0 or index==len_bed-1\n",
        "        return (\n",
        "            flowerbed[index] == 0 and is_zero_prev_or_first and is_zero_next_or_last\n",
        "        )\n",
        "    \n",
        "    # valid_positions = [index for index in range(len(flowerbed)) if is_valid_position(flowerbed, index)]\n",
        "    # return len(valid_positions) >= n\n",
        "    count = 0\n",
        "    i = 0\n",
        "    len_bed = len(flowerbed)\n",
        "    while i < len_bed:\n",
        "        if is_valid_position(flowerbed, i, len_bed):\n",
        "            count += 1\n",
        "            flowerbed[i] = 1  # Mark the position as occupied to prevent adjacent placements\n",
        "            if count >= n:\n",
        "                return True\n",
        "        i += 1\n",
        "\n",
        "    return False\n",
        "\n",
        "if __name__ == \"__main__\":\n",
        "  # Test cases with various flowerbed configurations\n",
        "  print(can_place_flowers(flowerbed=[1,0,0,0,1], n=1)) # True.\n",
        "  print(can_place_flowers(flowerbed=[1,0,0,0,0,0,1], n=1)) # True.\n",
        "  print(can_place_flowers(flowerbed=[1,0,0,0,1], n=2)) # False\n",
        "  # Additional flowerbeds with available spots\n",
        "  print(can_place_flowers(flowerbed=[0,0,0,0,0], n=2))  # True\n",
        "  print(can_place_flowers(flowerbed=[0,0,0,0,0,0], n=3))  # True\n",
        "  print(can_place_flowers(flowerbed=[0,0,0,0,0,0,0], n=4))  # True\n",
        "  # Flowerbeds with no available spots\n",
        "  print(can_place_flowers(flowerbed=[1,1,1,1], n=1))  # False\n",
        "  print(can_place_flowers(flowerbed=[1,1,1,1,1,1], n=2))  # False\n",
        "  # Flowerbeds with limited available spots\n",
        "  print(can_place_flowers(flowerbed=[1,0,0,0,0,0,1,0,0], n=2))  # True\n",
        "  print(can_place_flowers(flowerbed=[1,0,0,0,0,0,1,0,0], n=3))  # True\n",
        "  # Flowerbeds with only one available spot\n",
        "  print(can_place_flowers(flowerbed=[0], n=1))  # True\n",
        "  print(can_place_flowers(flowerbed=[1], n=1))  # False\n",
        "  # Flowerbeds with no flowers\n",
        "  print(can_place_flowers(flowerbed=[0,0,0,0,0], n=0))  # True\n",
        "  print(can_place_flowers(flowerbed=[0,0,0,0,0,0], n=0))  # True\n",
        "  print(can_place_flowers(flowerbed=[0,0,0,0,0,0,0], n=0))  # True "
      ],
      "metadata": {
        "colab": {
          "base_uri": "https://localhost:8080/"
        },
        "collapsed": true,
        "id": "Qv_j-V2feQYV",
        "outputId": "9b45ce3f-7d2c-4c53-c2ee-077f927d33fa"
      },
      "execution_count": 38,
      "outputs": [
        {
          "output_type": "stream",
          "name": "stdout",
          "text": [
            "True\n",
            "True\n",
            "False\n",
            "True\n",
            "True\n",
            "True\n",
            "False\n",
            "False\n",
            "True\n",
            "True\n",
            "True\n",
            "False\n",
            "True\n",
            "True\n",
            "True\n"
          ]
        }
      ]
    }
  ]
}