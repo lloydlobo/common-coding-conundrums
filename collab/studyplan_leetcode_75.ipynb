{
  "nbformat": 4,
  "nbformat_minor": 0,
  "metadata": {
    "colab": {
      "provenance": [],
      "collapsed_sections": [
        "UJp6B79kFAFy",
        "-xUmMKenEh2k"
      ],
      "authorship_tag": "ABX9TyOc4wVzCVSdyTkYp0hiPn8d",
      "include_colab_link": true
    },
    "kernelspec": {
      "name": "python3",
      "display_name": "Python 3"
    },
    "language_info": {
      "name": "python"
    }
  },
  "cells": [
    {
      "cell_type": "markdown",
      "metadata": {
        "id": "view-in-github",
        "colab_type": "text"
      },
      "source": [
        "<a href=\"https://colab.research.google.com/github/lloydlobo/common-coding-conundrums/blob/main/collab/studyplan_leetcode_75.ipynb\" target=\"_parent\"><img src=\"https://colab.research.google.com/assets/colab-badge.svg\" alt=\"Open In Colab\"/></a>"
      ]
    },
    {
      "cell_type": "markdown",
      "source": [
        "https://leetcode.com/studyplan/leetcode-75/"
      ],
      "metadata": {
        "id": "9vXCxn2f85I2"
      }
    },
    {
      "cell_type": "markdown",
      "source": [
        "# [1768. Merge Strings Alternately](https://leetcode.com/problems/merge-strings-alternately/?envType=study-plan-v2&envId=leetcode-75)"
      ],
      "metadata": {
        "id": "UJp6B79kFAFy"
      }
    },
    {
      "cell_type": "code",
      "execution_count": null,
      "metadata": {
        "id": "ywCJ6lS66HwD",
        "colab": {
          "base_uri": "https://localhost:8080/"
        },
        "outputId": "85b02bf1-bdb0-4172-dd41-881bfdcba853"
      },
      "outputs": [
        {
          "output_type": "stream",
          "name": "stdout",
          "text": [
            "aubvcwxyz\n"
          ]
        }
      ],
      "source": [
        "def merge_alternatively(word1:str,word2:str) -> str:\n",
        "  n_w1,n_w2=len(word1),len(word2)\n",
        "  n_max=max(n_w1,n_w2)\n",
        "  result = []\n",
        "  counter=0\n",
        "  while counter < n_max:\n",
        "    if counter < n_w1:\n",
        "      result.append(word1[counter])\n",
        "    if counter < n_w2:\n",
        "      result.append(word2[counter])\n",
        "    counter+=1\n",
        "\n",
        "  return \"\".join(result)\n",
        "\n",
        "if __name__ == \"__main__\":\n",
        "  result = merge_alternatively(\"abc\", \"uvwxyz\")\n",
        "  print(f\"{result}\") # aubvcwxyz."
      ]
    },
    {
      "cell_type": "markdown",
      "source": [
        "# [1071. Greatest Common Divisor of Strings](https://leetcode.com/problems/greatest-common-divisor-of-strings/?envType=study-plan-v2&envId=leetcode-75)"
      ],
      "metadata": {
        "id": "-xUmMKenEh2k"
      }
    },
    {
      "cell_type": "code",
      "source": [
        "def gcd_of_strings(str1:str,str2:str) -> bool:\n",
        "  nstr1,nstr2=len(str1),len(str2)\n",
        "  shortest = min(nstr1,nstr2)\n",
        "  longest=max(nstr1,nstr2)\n",
        "  numerator,divisor=\"\",\"\"\n",
        "  if nstr1==shortest:\n",
        "    numerator,divisor=str2,str1\n",
        "  elif nstr2==shortest:\n",
        "    numerator,divisor=str1,str2\n",
        "  \n",
        "  counter=0\n",
        "  while counter < longest:\n",
        "    if numerator[counter] != divisor[counter%shortest]:\n",
        "      return False\n",
        "    counter+=1\n",
        "\n",
        "  return True\n",
        "\n",
        "if __name__ == \"__main__\":\n",
        "  result = gcd_of_strings(\"abcabcabc\", \"abc\")\n",
        "  print(f\"{result}\") # True.\n",
        "  result = gcd_of_strings(\"abababab\", \"abab\")\n",
        "  print(f\"{result}\") # True.\n"
      ],
      "metadata": {
        "id": "jpex0pYkEhTF",
        "colab": {
          "base_uri": "https://localhost:8080/"
        },
        "outputId": "ed047872-f790-4634-b460-36425c2c5845"
      },
      "execution_count": null,
      "outputs": [
        {
          "output_type": "stream",
          "name": "stdout",
          "text": [
            "True\n",
            "True\n"
          ]
        }
      ]
    },
    {
      "cell_type": "markdown",
      "source": [
        "# [1431. Kids With the Greatest Number of Candies](https://leetcode.com/problems/kids-with-the-greatest-number-of-candies/?envType=study-plan-v2&envId=leetcode-75)"
      ],
      "metadata": {
        "id": "uBsphqiTXzvY"
      }
    },
    {
      "cell_type": "code",
      "source": [
        "#@title\n",
        "from typing import List\n",
        "\n",
        "def kids_with_candies(candies: List[int], extra_candies: int) -> List[bool]:\n",
        "  max_candies = max(candies)\n",
        "  # res: List[bool] = []\n",
        "  # for curr in candies:\n",
        "  #  if curr + extra_candies >= max_candies:\n",
        "  #      res.append(True)\n",
        "  #  else:\n",
        "  #      res.append(False)\n",
        "  # return res\n",
        "  return [candy + extra_candies >= max_candies for candy in candies]\n",
        "\n",
        "\n",
        "if __name__ == \"__main__\":\n",
        "  result = kids_with_candies(candies=[2,3,5,1,3], extra_candies=3) \n",
        "  print(f\"{result}\") # [True, True, True, False, True]."
      ],
      "metadata": {
        "colab": {
          "base_uri": "https://localhost:8080/"
        },
        "collapsed": true,
        "id": "ZTfjJ0sqJvYn",
        "outputId": "73c8e4f8-8b8c-4e3f-fdf8-7326acecf3ae"
      },
      "execution_count": null,
      "outputs": [
        {
          "output_type": "stream",
          "name": "stdout",
          "text": [
            "[True, True, True, False, True]\n"
          ]
        }
      ]
    },
    {
      "cell_type": "markdown",
      "source": [
        "# [605. Can Place Flowers](https://leetcode.com/problems/can-place-flowers/?envType=study-plan-v2&envId=leetcode-75)"
      ],
      "metadata": {
        "id": "5NYhOoM-jyZI"
      }
    },
    {
      "cell_type": "code",
      "source": [
        "from typing import List\n",
        "\n",
        "def can_place_flowers(flowerbed: List[int], n: int) -> bool:\n",
        "  len_flowers = len(flowerbed)\n",
        "  counter = 0\n",
        "  zeroes = 0\n",
        "  # PERF: Use filter or reduce to find count of zeroes.\n",
        "  while counter < len_flowers:\n",
        "    curr = flowerbed[counter]\n",
        "    if curr == 0:\n",
        "      zeroes += 1\n",
        "    \n",
        "    counter += 1\n",
        "\n",
        "  # 1 flower needs 3 empty consecutive zeroes.\n",
        "  # return n == len_flowers%zeroes - 1 \n",
        "  # return zeroes - 2*n == 1\n",
        "  return (zeroes - n) % 2 == 0\n",
        "\n",
        "if __name__ == \"__main__\":\n",
        "  print(can_place_flowers(flowerbed=[1,0,0,0,1], n=1)) # True.\n",
        "  print(can_place_flowers(flowerbed=[1,0,0,0,0,0,1], n=1)) # True.\n",
        "  print(can_place_flowers(flowerbed=[1,0,0,0,1], n=2)) # False\n",
        "  "
      ],
      "metadata": {
        "colab": {
          "base_uri": "https://localhost:8080/"
        },
        "id": "kmYpSYiJHozB",
        "outputId": "b829d837-0e7f-4af1-e045-5196d9cc3b0a"
      },
      "execution_count": null,
      "outputs": [
        {
          "output_type": "stream",
          "name": "stdout",
          "text": [
            "True\n",
            "True\n",
            "False\n"
          ]
        }
      ]
    }
  ]
}